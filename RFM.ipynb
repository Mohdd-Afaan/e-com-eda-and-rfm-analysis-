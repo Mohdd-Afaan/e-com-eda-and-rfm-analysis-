{
 "cells": [
  {
   "cell_type": "code",
   "execution_count": 1,
   "metadata": {},
   "outputs": [],
   "source": [
    "import pandas as pd\n",
    "from datetime import datetime\n",
    "import numpy as np\n",
    "import seaborn as sns\n",
    "import matplotlib.pyplot as plt \n",
    "%matplotlib inline"
   ]
  },
  {
   "cell_type": "code",
   "execution_count": 2,
   "metadata": {},
   "outputs": [],
   "source": [
    "df = pd.read_csv('cleaned_data\\merge_frame.csv')"
   ]
  },
  {
   "cell_type": "code",
   "execution_count": 3,
   "metadata": {},
   "outputs": [],
   "source": [
    "df_cust = pd.read_excel('dataset\\CustomersData.xlsx')"
   ]
  },
  {
   "cell_type": "code",
   "execution_count": 4,
   "metadata": {},
   "outputs": [
    {
     "data": {
      "text/html": [
       "<div>\n",
       "<style scoped>\n",
       "    .dataframe tbody tr th:only-of-type {\n",
       "        vertical-align: middle;\n",
       "    }\n",
       "\n",
       "    .dataframe tbody tr th {\n",
       "        vertical-align: top;\n",
       "    }\n",
       "\n",
       "    .dataframe thead th {\n",
       "        text-align: right;\n",
       "    }\n",
       "</style>\n",
       "<table border=\"1\" class=\"dataframe\">\n",
       "  <thead>\n",
       "    <tr style=\"text-align: right;\">\n",
       "      <th></th>\n",
       "      <th>customerid</th>\n",
       "      <th>transaction_id</th>\n",
       "      <th>transaction_date</th>\n",
       "      <th>product_sku</th>\n",
       "      <th>product_description</th>\n",
       "      <th>product_category</th>\n",
       "      <th>quantity</th>\n",
       "      <th>avg_price</th>\n",
       "      <th>delivery_charges</th>\n",
       "      <th>coupon_status</th>\n",
       "      <th>transaction_month</th>\n",
       "      <th>coupon_code</th>\n",
       "      <th>discount_pct</th>\n",
       "      <th>gst</th>\n",
       "      <th>offline_spend</th>\n",
       "      <th>online_spend</th>\n",
       "      <th>invoice_value</th>\n",
       "      <th>acquisition_month</th>\n",
       "      <th>tax_paid</th>\n",
       "      <th>total_markerting_exp</th>\n",
       "    </tr>\n",
       "  </thead>\n",
       "  <tbody>\n",
       "    <tr>\n",
       "      <th>0</th>\n",
       "      <td>17850</td>\n",
       "      <td>16679</td>\n",
       "      <td>2019-01-01</td>\n",
       "      <td>GGOENEBJ079499</td>\n",
       "      <td>Nest Learning Thermostat 3rd Gen-USA - Stainle...</td>\n",
       "      <td>Nest-USA</td>\n",
       "      <td>1</td>\n",
       "      <td>153.71</td>\n",
       "      <td>6.5</td>\n",
       "      <td>Used</td>\n",
       "      <td>1</td>\n",
       "      <td>ELEC10</td>\n",
       "      <td>0.1</td>\n",
       "      <td>0.1</td>\n",
       "      <td>4500</td>\n",
       "      <td>2424.5</td>\n",
       "      <td>158.6729</td>\n",
       "      <td>1</td>\n",
       "      <td>15.371</td>\n",
       "      <td>6924.5</td>\n",
       "    </tr>\n",
       "  </tbody>\n",
       "</table>\n",
       "</div>"
      ],
      "text/plain": [
       "   customerid  transaction_id transaction_date     product_sku  \\\n",
       "0       17850           16679       2019-01-01  GGOENEBJ079499   \n",
       "\n",
       "                                 product_description product_category  \\\n",
       "0  Nest Learning Thermostat 3rd Gen-USA - Stainle...         Nest-USA   \n",
       "\n",
       "   quantity  avg_price  delivery_charges coupon_status  transaction_month  \\\n",
       "0         1     153.71               6.5          Used                  1   \n",
       "\n",
       "  coupon_code  discount_pct  gst  offline_spend  online_spend  invoice_value  \\\n",
       "0      ELEC10           0.1  0.1           4500        2424.5       158.6729   \n",
       "\n",
       "   acquisition_month  tax_paid  total_markerting_exp  \n",
       "0                  1    15.371                6924.5  "
      ]
     },
     "execution_count": 4,
     "metadata": {},
     "output_type": "execute_result"
    }
   ],
   "source": [
    "df.head(1)"
   ]
  },
  {
   "cell_type": "code",
   "execution_count": 5,
   "metadata": {},
   "outputs": [],
   "source": [
    "df_cust.columns = df_cust.columns.str.lower()"
   ]
  },
  {
   "cell_type": "code",
   "execution_count": 6,
   "metadata": {},
   "outputs": [],
   "source": [
    "RFM_merge = df.merge(df_cust,how='left',on=['customerid'])"
   ]
  },
  {
   "cell_type": "markdown",
   "metadata": {},
   "source": [
    "Customer Segmentation\n",
    "RFM – Divide the customers into Premium, Gold, Silver, Standard customers and define strategy on the same.\n"
   ]
  },
  {
   "cell_type": "markdown",
   "metadata": {},
   "source": [
    "SInce this data set if from 2019-01-01 to 2019-12-31"
   ]
  },
  {
   "cell_type": "markdown",
   "metadata": {},
   "source": [
    "assuming we are conducting this RFM analysis on 2020-01-01"
   ]
  },
  {
   "cell_type": "markdown",
   "metadata": {},
   "source": [
    "The formula for calculating recency:\n",
    "Recency = Current Date - Last Purchase Date"
   ]
  },
  {
   "cell_type": "code",
   "execution_count": 7,
   "metadata": {},
   "outputs": [],
   "source": [
    "RFM_merge['transaction_date'] = pd.to_datetime(RFM_merge['transaction_date'])"
   ]
  },
  {
   "cell_type": "code",
   "execution_count": 8,
   "metadata": {},
   "outputs": [],
   "source": [
    "filter_recency = RFM_merge.groupby('customerid')['transaction_date'].max().to_frame().reset_index()"
   ]
  },
  {
   "cell_type": "code",
   "execution_count": 29,
   "metadata": {},
   "outputs": [
    {
     "data": {
      "text/html": [
       "<div>\n",
       "<style scoped>\n",
       "    .dataframe tbody tr th:only-of-type {\n",
       "        vertical-align: middle;\n",
       "    }\n",
       "\n",
       "    .dataframe tbody tr th {\n",
       "        vertical-align: top;\n",
       "    }\n",
       "\n",
       "    .dataframe thead th {\n",
       "        text-align: right;\n",
       "    }\n",
       "</style>\n",
       "<table border=\"1\" class=\"dataframe\">\n",
       "  <thead>\n",
       "    <tr style=\"text-align: right;\">\n",
       "      <th></th>\n",
       "      <th>customerid</th>\n",
       "      <th>transaction_date</th>\n",
       "      <th>recency</th>\n",
       "      <th>recency_scaled</th>\n",
       "    </tr>\n",
       "  </thead>\n",
       "  <tbody>\n",
       "    <tr>\n",
       "      <th>0</th>\n",
       "      <td>12346</td>\n",
       "      <td>2019-09-15</td>\n",
       "      <td>108 days</td>\n",
       "      <td>2.0</td>\n",
       "    </tr>\n",
       "    <tr>\n",
       "      <th>1</th>\n",
       "      <td>12347</td>\n",
       "      <td>2019-11-02</td>\n",
       "      <td>60 days</td>\n",
       "      <td>2.0</td>\n",
       "    </tr>\n",
       "    <tr>\n",
       "      <th>2</th>\n",
       "      <td>12348</td>\n",
       "      <td>2019-10-19</td>\n",
       "      <td>74 days</td>\n",
       "      <td>2.0</td>\n",
       "    </tr>\n",
       "    <tr>\n",
       "      <th>3</th>\n",
       "      <td>12350</td>\n",
       "      <td>2019-12-14</td>\n",
       "      <td>18 days</td>\n",
       "      <td>1.0</td>\n",
       "    </tr>\n",
       "    <tr>\n",
       "      <th>4</th>\n",
       "      <td>12356</td>\n",
       "      <td>2019-09-15</td>\n",
       "      <td>108 days</td>\n",
       "      <td>2.0</td>\n",
       "    </tr>\n",
       "    <tr>\n",
       "      <th>...</th>\n",
       "      <td>...</td>\n",
       "      <td>...</td>\n",
       "      <td>...</td>\n",
       "      <td>...</td>\n",
       "    </tr>\n",
       "    <tr>\n",
       "      <th>1463</th>\n",
       "      <td>18259</td>\n",
       "      <td>2019-04-05</td>\n",
       "      <td>271 days</td>\n",
       "      <td>4.0</td>\n",
       "    </tr>\n",
       "    <tr>\n",
       "      <th>1464</th>\n",
       "      <td>18260</td>\n",
       "      <td>2019-10-05</td>\n",
       "      <td>88 days</td>\n",
       "      <td>2.0</td>\n",
       "    </tr>\n",
       "    <tr>\n",
       "      <th>1465</th>\n",
       "      <td>18269</td>\n",
       "      <td>2019-06-20</td>\n",
       "      <td>195 days</td>\n",
       "      <td>3.0</td>\n",
       "    </tr>\n",
       "    <tr>\n",
       "      <th>1466</th>\n",
       "      <td>18277</td>\n",
       "      <td>2019-10-23</td>\n",
       "      <td>70 days</td>\n",
       "      <td>2.0</td>\n",
       "    </tr>\n",
       "    <tr>\n",
       "      <th>1467</th>\n",
       "      <td>18283</td>\n",
       "      <td>2019-10-10</td>\n",
       "      <td>83 days</td>\n",
       "      <td>2.0</td>\n",
       "    </tr>\n",
       "  </tbody>\n",
       "</table>\n",
       "<p>1468 rows × 4 columns</p>\n",
       "</div>"
      ],
      "text/plain": [
       "      customerid transaction_date  recency  recency_scaled\n",
       "0          12346       2019-09-15 108 days             2.0\n",
       "1          12347       2019-11-02  60 days             2.0\n",
       "2          12348       2019-10-19  74 days             2.0\n",
       "3          12350       2019-12-14  18 days             1.0\n",
       "4          12356       2019-09-15 108 days             2.0\n",
       "...          ...              ...      ...             ...\n",
       "1463       18259       2019-04-05 271 days             4.0\n",
       "1464       18260       2019-10-05  88 days             2.0\n",
       "1465       18269       2019-06-20 195 days             3.0\n",
       "1466       18277       2019-10-23  70 days             2.0\n",
       "1467       18283       2019-10-10  83 days             2.0\n",
       "\n",
       "[1468 rows x 4 columns]"
      ]
     },
     "execution_count": 29,
     "metadata": {},
     "output_type": "execute_result"
    }
   ],
   "source": [
    "filter_recency"
   ]
  },
  {
   "cell_type": "code",
   "execution_count": 9,
   "metadata": {},
   "outputs": [],
   "source": [
    "current_date = pd.to_datetime('2020-01-01')"
   ]
  },
  {
   "cell_type": "code",
   "execution_count": 10,
   "metadata": {},
   "outputs": [],
   "source": [
    "filter_recency['recency'] = current_date - filter_recency['transaction_date']"
   ]
  },
  {
   "cell_type": "code",
   "execution_count": 11,
   "metadata": {},
   "outputs": [],
   "source": [
    "min_val = filter_recency['recency'].min()\n",
    "max_val = filter_recency['recency'].max()\n",
    "filter_recency['recency_scaled'] = [((filter_recency['recency'][i] - min_val) / (max_val - min_val) * (5-1) +1).__round__(0) for i in range(len(filter_recency['recency']))]"
   ]
  },
  {
   "cell_type": "code",
   "execution_count": 12,
   "metadata": {},
   "outputs": [
    {
     "data": {
      "text/html": [
       "<div>\n",
       "<style scoped>\n",
       "    .dataframe tbody tr th:only-of-type {\n",
       "        vertical-align: middle;\n",
       "    }\n",
       "\n",
       "    .dataframe tbody tr th {\n",
       "        vertical-align: top;\n",
       "    }\n",
       "\n",
       "    .dataframe thead th {\n",
       "        text-align: right;\n",
       "    }\n",
       "</style>\n",
       "<table border=\"1\" class=\"dataframe\">\n",
       "  <thead>\n",
       "    <tr style=\"text-align: right;\">\n",
       "      <th></th>\n",
       "      <th>customerid</th>\n",
       "      <th>transaction_date</th>\n",
       "      <th>recency</th>\n",
       "      <th>recency_scaled</th>\n",
       "    </tr>\n",
       "  </thead>\n",
       "  <tbody>\n",
       "    <tr>\n",
       "      <th>0</th>\n",
       "      <td>12346</td>\n",
       "      <td>2019-09-15</td>\n",
       "      <td>108 days</td>\n",
       "      <td>2.0</td>\n",
       "    </tr>\n",
       "    <tr>\n",
       "      <th>1</th>\n",
       "      <td>12347</td>\n",
       "      <td>2019-11-02</td>\n",
       "      <td>60 days</td>\n",
       "      <td>2.0</td>\n",
       "    </tr>\n",
       "    <tr>\n",
       "      <th>2</th>\n",
       "      <td>12348</td>\n",
       "      <td>2019-10-19</td>\n",
       "      <td>74 days</td>\n",
       "      <td>2.0</td>\n",
       "    </tr>\n",
       "    <tr>\n",
       "      <th>3</th>\n",
       "      <td>12350</td>\n",
       "      <td>2019-12-14</td>\n",
       "      <td>18 days</td>\n",
       "      <td>1.0</td>\n",
       "    </tr>\n",
       "    <tr>\n",
       "      <th>4</th>\n",
       "      <td>12356</td>\n",
       "      <td>2019-09-15</td>\n",
       "      <td>108 days</td>\n",
       "      <td>2.0</td>\n",
       "    </tr>\n",
       "    <tr>\n",
       "      <th>...</th>\n",
       "      <td>...</td>\n",
       "      <td>...</td>\n",
       "      <td>...</td>\n",
       "      <td>...</td>\n",
       "    </tr>\n",
       "    <tr>\n",
       "      <th>1463</th>\n",
       "      <td>18259</td>\n",
       "      <td>2019-04-05</td>\n",
       "      <td>271 days</td>\n",
       "      <td>4.0</td>\n",
       "    </tr>\n",
       "    <tr>\n",
       "      <th>1464</th>\n",
       "      <td>18260</td>\n",
       "      <td>2019-10-05</td>\n",
       "      <td>88 days</td>\n",
       "      <td>2.0</td>\n",
       "    </tr>\n",
       "    <tr>\n",
       "      <th>1465</th>\n",
       "      <td>18269</td>\n",
       "      <td>2019-06-20</td>\n",
       "      <td>195 days</td>\n",
       "      <td>3.0</td>\n",
       "    </tr>\n",
       "    <tr>\n",
       "      <th>1466</th>\n",
       "      <td>18277</td>\n",
       "      <td>2019-10-23</td>\n",
       "      <td>70 days</td>\n",
       "      <td>2.0</td>\n",
       "    </tr>\n",
       "    <tr>\n",
       "      <th>1467</th>\n",
       "      <td>18283</td>\n",
       "      <td>2019-10-10</td>\n",
       "      <td>83 days</td>\n",
       "      <td>2.0</td>\n",
       "    </tr>\n",
       "  </tbody>\n",
       "</table>\n",
       "<p>1468 rows × 4 columns</p>\n",
       "</div>"
      ],
      "text/plain": [
       "      customerid transaction_date  recency  recency_scaled\n",
       "0          12346       2019-09-15 108 days             2.0\n",
       "1          12347       2019-11-02  60 days             2.0\n",
       "2          12348       2019-10-19  74 days             2.0\n",
       "3          12350       2019-12-14  18 days             1.0\n",
       "4          12356       2019-09-15 108 days             2.0\n",
       "...          ...              ...      ...             ...\n",
       "1463       18259       2019-04-05 271 days             4.0\n",
       "1464       18260       2019-10-05  88 days             2.0\n",
       "1465       18269       2019-06-20 195 days             3.0\n",
       "1466       18277       2019-10-23  70 days             2.0\n",
       "1467       18283       2019-10-10  83 days             2.0\n",
       "\n",
       "[1468 rows x 4 columns]"
      ]
     },
     "execution_count": 12,
     "metadata": {},
     "output_type": "execute_result"
    }
   ],
   "source": [
    "filter_recency"
   ]
  },
  {
   "cell_type": "code",
   "execution_count": 13,
   "metadata": {},
   "outputs": [
    {
     "name": "stderr",
     "output_type": "stream",
     "text": [
      "c:\\Users\\Mohdd\\anaconda3\\Lib\\site-packages\\seaborn\\_oldcore.py:1119: FutureWarning: use_inf_as_na option is deprecated and will be removed in a future version. Convert inf values to NaN before operating instead.\n",
      "  with pd.option_context('mode.use_inf_as_na', True):\n"
     ]
    },
    {
     "data": {
      "image/png": "[encoded data removed]",
      "text/plain": [
       "<Figure size 1000x500 with 1 Axes>"
      ]
     },
     "metadata": {},
     "output_type": "display_data"
    }
   ],
   "source": [
    "plt.figure(figsize=(10,5))\n",
    "sns.histplot(data=filter_recency,x=filter_recency['recency_scaled'].astype(int))\n",
    "plt.xlabel('recency')\n",
    "plt.ylabel('count')\n",
    "plt.title('Distribution of customer recency')\n",
    "plt.xticks(range(1, 6))\n",
    "plt.grid(True, which='both', linestyle='--', linewidth=0.5, zorder=0)\n",
    "plt.show()"
   ]
  },
  {
   "cell_type": "markdown",
   "metadata": {},
   "source": [
    "the formula for calculating frequency:\n",
    "\n",
    "Frequency = Total Number of Transactions\n",
    "\n",
    "For example, if a customer made 5 purchases within the past year, their frequency value would be 5."
   ]
  },
  {
   "cell_type": "code",
   "execution_count": 14,
   "metadata": {},
   "outputs": [],
   "source": [
    "filter_frequency = RFM_merge.groupby('customerid')['transaction_id'].count().to_frame(name='frequency').reset_index()"
   ]
  },
  {
   "cell_type": "code",
   "execution_count": 15,
   "metadata": {},
   "outputs": [],
   "source": [
    "min_val = filter_frequency['frequency'].min()\n",
    "max_val = filter_frequency['frequency'].max()\n",
    "filter_frequency['frequency_scaled'] = [((filter_frequency['frequency'][i] - min_val) / (max_val - min_val) * (5-1) +1).__round__(0) for i in range(len(filter_frequency['frequency']))]"
   ]
  },
  {
   "cell_type": "code",
   "execution_count": 16,
   "metadata": {},
   "outputs": [
    {
     "data": {
      "text/html": [
       "<div>\n",
       "<style scoped>\n",
       "    .dataframe tbody tr th:only-of-type {\n",
       "        vertical-align: middle;\n",
       "    }\n",
       "\n",
       "    .dataframe tbody tr th {\n",
       "        vertical-align: top;\n",
       "    }\n",
       "\n",
       "    .dataframe thead th {\n",
       "        text-align: right;\n",
       "    }\n",
       "</style>\n",
       "<table border=\"1\" class=\"dataframe\">\n",
       "  <thead>\n",
       "    <tr style=\"text-align: right;\">\n",
       "      <th></th>\n",
       "      <th>customerid</th>\n",
       "      <th>frequency</th>\n",
       "      <th>frequency_scaled</th>\n",
       "    </tr>\n",
       "  </thead>\n",
       "  <tbody>\n",
       "    <tr>\n",
       "      <th>0</th>\n",
       "      <td>12346</td>\n",
       "      <td>2</td>\n",
       "      <td>1.0</td>\n",
       "    </tr>\n",
       "    <tr>\n",
       "      <th>1</th>\n",
       "      <td>12347</td>\n",
       "      <td>60</td>\n",
       "      <td>1.0</td>\n",
       "    </tr>\n",
       "    <tr>\n",
       "      <th>2</th>\n",
       "      <td>12348</td>\n",
       "      <td>23</td>\n",
       "      <td>1.0</td>\n",
       "    </tr>\n",
       "    <tr>\n",
       "      <th>3</th>\n",
       "      <td>12350</td>\n",
       "      <td>17</td>\n",
       "      <td>1.0</td>\n",
       "    </tr>\n",
       "    <tr>\n",
       "      <th>4</th>\n",
       "      <td>12356</td>\n",
       "      <td>36</td>\n",
       "      <td>1.0</td>\n",
       "    </tr>\n",
       "    <tr>\n",
       "      <th>...</th>\n",
       "      <td>...</td>\n",
       "      <td>...</td>\n",
       "      <td>...</td>\n",
       "    </tr>\n",
       "    <tr>\n",
       "      <th>1463</th>\n",
       "      <td>18259</td>\n",
       "      <td>7</td>\n",
       "      <td>1.0</td>\n",
       "    </tr>\n",
       "    <tr>\n",
       "      <th>1464</th>\n",
       "      <td>18260</td>\n",
       "      <td>40</td>\n",
       "      <td>1.0</td>\n",
       "    </tr>\n",
       "    <tr>\n",
       "      <th>1465</th>\n",
       "      <td>18269</td>\n",
       "      <td>8</td>\n",
       "      <td>1.0</td>\n",
       "    </tr>\n",
       "    <tr>\n",
       "      <th>1466</th>\n",
       "      <td>18277</td>\n",
       "      <td>1</td>\n",
       "      <td>1.0</td>\n",
       "    </tr>\n",
       "    <tr>\n",
       "      <th>1467</th>\n",
       "      <td>18283</td>\n",
       "      <td>102</td>\n",
       "      <td>2.0</td>\n",
       "    </tr>\n",
       "  </tbody>\n",
       "</table>\n",
       "<p>1468 rows × 3 columns</p>\n",
       "</div>"
      ],
      "text/plain": [
       "      customerid  frequency  frequency_scaled\n",
       "0          12346          2               1.0\n",
       "1          12347         60               1.0\n",
       "2          12348         23               1.0\n",
       "3          12350         17               1.0\n",
       "4          12356         36               1.0\n",
       "...          ...        ...               ...\n",
       "1463       18259          7               1.0\n",
       "1464       18260         40               1.0\n",
       "1465       18269          8               1.0\n",
       "1466       18277          1               1.0\n",
       "1467       18283        102               2.0\n",
       "\n",
       "[1468 rows x 3 columns]"
      ]
     },
     "execution_count": 16,
     "metadata": {},
     "output_type": "execute_result"
    }
   ],
   "source": [
    "filter_frequency"
   ]
  },
  {
   "cell_type": "code",
   "execution_count": 17,
   "metadata": {},
   "outputs": [
    {
     "name": "stderr",
     "output_type": "stream",
     "text": [
      "c:\\Users\\Mohdd\\anaconda3\\Lib\\site-packages\\seaborn\\_oldcore.py:1119: FutureWarning: use_inf_as_na option is deprecated and will be removed in a future version. Convert inf values to NaN before operating instead.\n",
      "  with pd.option_context('mode.use_inf_as_na', True):\n"
     ]
    },
    {
     "data": {
      "image/png": "[encoded data removed]",
      "text/plain": [
       "<Figure size 1000x500 with 1 Axes>"
      ]
     },
     "metadata": {},
     "output_type": "display_data"
    }
   ],
   "source": [
    "plt.figure(figsize=(10,5))\n",
    "sns.histplot(data=filter_frequency,x=filter_frequency['frequency_scaled'].astype(int))\n",
    "plt.xlabel('frequency')\n",
    "plt.ylabel('count')\n",
    "plt.title('Distribution of transaction frequency')\n",
    "plt.xticks(range(1, 6))\n",
    "plt.grid(True, which='both', linestyle='--', linewidth=0.5, zorder=0)\n",
    "plt.show()"
   ]
  },
  {
   "cell_type": "markdown",
   "metadata": {},
   "source": [
    "the formula for calculating monetary value:\n",
    "\n",
    "Monetary Value = sum(Transaction Value)"
   ]
  },
  {
   "cell_type": "code",
   "execution_count": 18,
   "metadata": {},
   "outputs": [],
   "source": [
    "filter_monetary_value = RFM_merge.groupby('customerid')['invoice_value'].sum().to_frame(name='monetary_value').reset_index()"
   ]
  },
  {
   "cell_type": "code",
   "execution_count": 19,
   "metadata": {},
   "outputs": [],
   "source": [
    "filter_monetary_value['monetary_value'] = filter_monetary_value['monetary_value'].round(0).astype(int)"
   ]
  },
  {
   "cell_type": "code",
   "execution_count": 20,
   "metadata": {},
   "outputs": [],
   "source": [
    "min_val = filter_monetary_value['monetary_value'].min()\n",
    "max_val = filter_monetary_value['monetary_value'].max()\n",
    "filter_monetary_value['monetary_value_scaled'] = [((filter_monetary_value['monetary_value'][i] - min_val) / (max_val - min_val) * (5-1) +1).__round__(0) for i in range(len(filter_monetary_value['monetary_value']))]"
   ]
  },
  {
   "cell_type": "markdown",
   "metadata": {},
   "source": [
    "RFM Score:"
   ]
  },
  {
   "cell_type": "code",
   "execution_count": 21,
   "metadata": {},
   "outputs": [],
   "source": [
    "RFM_score_frame = filter_recency[['customerid','recency_scaled']].merge(filter_frequency[['customerid','frequency_scaled']],'left',on=['customerid']).merge(filter_monetary_value[['customerid','monetary_value_scaled']],'left',on=['customerid'])"
   ]
  },
  {
   "cell_type": "code",
   "execution_count": 22,
   "metadata": {},
   "outputs": [],
   "source": [
    "RFM_score_frame['RFM_score'] = (RFM_score_frame['recency_scaled'].astype(int).astype(str) + RFM_score_frame['frequency_scaled'].astype(int).astype(str) +RFM_score_frame['monetary_value_scaled'].astype(int).astype(str)).astype(int)"
   ]
  },
  {
   "cell_type": "markdown",
   "metadata": {},
   "source": [
    "Top 10 highest value customers"
   ]
  },
  {
   "cell_type": "code",
   "execution_count": 23,
   "metadata": {},
   "outputs": [
    {
     "data": {
      "text/html": [
       "<div>\n",
       "<style scoped>\n",
       "    .dataframe tbody tr th:only-of-type {\n",
       "        vertical-align: middle;\n",
       "    }\n",
       "\n",
       "    .dataframe tbody tr th {\n",
       "        vertical-align: top;\n",
       "    }\n",
       "\n",
       "    .dataframe thead th {\n",
       "        text-align: right;\n",
       "    }\n",
       "</style>\n",
       "<table border=\"1\" class=\"dataframe\">\n",
       "  <thead>\n",
       "    <tr style=\"text-align: right;\">\n",
       "      <th></th>\n",
       "      <th>customerid</th>\n",
       "      <th>recency_scaled</th>\n",
       "      <th>frequency_scaled</th>\n",
       "      <th>monetary_value_scaled</th>\n",
       "      <th>RFM_score</th>\n",
       "    </tr>\n",
       "  </thead>\n",
       "  <tbody>\n",
       "    <tr>\n",
       "      <th>1358</th>\n",
       "      <td>17850</td>\n",
       "      <td>5.0</td>\n",
       "      <td>3.0</td>\n",
       "      <td>3.0</td>\n",
       "      <td>533</td>\n",
       "    </tr>\n",
       "    <tr>\n",
       "      <th>746</th>\n",
       "      <td>15351</td>\n",
       "      <td>5.0</td>\n",
       "      <td>1.0</td>\n",
       "      <td>2.0</td>\n",
       "      <td>512</td>\n",
       "    </tr>\n",
       "    <tr>\n",
       "      <th>130</th>\n",
       "      <td>12791</td>\n",
       "      <td>5.0</td>\n",
       "      <td>1.0</td>\n",
       "      <td>1.0</td>\n",
       "      <td>511</td>\n",
       "    </tr>\n",
       "    <tr>\n",
       "      <th>954</th>\n",
       "      <td>16250</td>\n",
       "      <td>5.0</td>\n",
       "      <td>1.0</td>\n",
       "      <td>1.0</td>\n",
       "      <td>511</td>\n",
       "    </tr>\n",
       "    <tr>\n",
       "      <th>500</th>\n",
       "      <td>14396</td>\n",
       "      <td>5.0</td>\n",
       "      <td>1.0</td>\n",
       "      <td>1.0</td>\n",
       "      <td>511</td>\n",
       "    </tr>\n",
       "    <tr>\n",
       "      <th>498</th>\n",
       "      <td>14390</td>\n",
       "      <td>5.0</td>\n",
       "      <td>1.0</td>\n",
       "      <td>1.0</td>\n",
       "      <td>511</td>\n",
       "    </tr>\n",
       "    <tr>\n",
       "      <th>941</th>\n",
       "      <td>16186</td>\n",
       "      <td>5.0</td>\n",
       "      <td>1.0</td>\n",
       "      <td>1.0</td>\n",
       "      <td>511</td>\n",
       "    </tr>\n",
       "    <tr>\n",
       "      <th>138</th>\n",
       "      <td>12838</td>\n",
       "      <td>5.0</td>\n",
       "      <td>1.0</td>\n",
       "      <td>1.0</td>\n",
       "      <td>511</td>\n",
       "    </tr>\n",
       "    <tr>\n",
       "      <th>947</th>\n",
       "      <td>16218</td>\n",
       "      <td>5.0</td>\n",
       "      <td>1.0</td>\n",
       "      <td>1.0</td>\n",
       "      <td>511</td>\n",
       "    </tr>\n",
       "    <tr>\n",
       "      <th>953</th>\n",
       "      <td>16244</td>\n",
       "      <td>5.0</td>\n",
       "      <td>1.0</td>\n",
       "      <td>1.0</td>\n",
       "      <td>511</td>\n",
       "    </tr>\n",
       "  </tbody>\n",
       "</table>\n",
       "</div>"
      ],
      "text/plain": [
       "      customerid  recency_scaled  frequency_scaled  monetary_value_scaled  \\\n",
       "1358       17850             5.0               3.0                    3.0   \n",
       "746        15351             5.0               1.0                    2.0   \n",
       "130        12791             5.0               1.0                    1.0   \n",
       "954        16250             5.0               1.0                    1.0   \n",
       "500        14396             5.0               1.0                    1.0   \n",
       "498        14390             5.0               1.0                    1.0   \n",
       "941        16186             5.0               1.0                    1.0   \n",
       "138        12838             5.0               1.0                    1.0   \n",
       "947        16218             5.0               1.0                    1.0   \n",
       "953        16244             5.0               1.0                    1.0   \n",
       "\n",
       "      RFM_score  \n",
       "1358        533  \n",
       "746         512  \n",
       "130         511  \n",
       "954         511  \n",
       "500         511  \n",
       "498         511  \n",
       "941         511  \n",
       "138         511  \n",
       "947         511  \n",
       "953         511  "
      ]
     },
     "execution_count": 23,
     "metadata": {},
     "output_type": "execute_result"
    }
   ],
   "source": [
    "RFM_score_frame.sort_values('RFM_score',ascending=False).head(10)"
   ]
  },
  {
   "cell_type": "markdown",
   "metadata": {},
   "source": [
    "segmenting include Premium, Gold, Silver, and Standard customers"
   ]
  },
  {
   "cell_type": "code",
   "execution_count": 24,
   "metadata": {},
   "outputs": [],
   "source": [
    "max_val = RFM_score_frame['RFM_score'].max()\n",
    "min_val = RFM_score_frame['RFM_score'].min()\n",
    "RFM_score_frame['customer_segments'] = [((RFM_score_frame['RFM_score'][i] - min_val) / (max_val - min_val) * (4-1) +1).__round__(0) for i in range(len(RFM_score_frame['RFM_score']))]"
   ]
  },
  {
   "cell_type": "code",
   "execution_count": 25,
   "metadata": {},
   "outputs": [],
   "source": [
    "RFM_score_frame['customer_segments'] = RFM_score_frame['customer_segments'].map({4.0:'Premium',3.0:'Gold',2.0:'Silver',1.0:'Standard'})"
   ]
  },
  {
   "cell_type": "code",
   "execution_count": 26,
   "metadata": {},
   "outputs": [
    {
     "data": {
      "text/html": [
       "<div>\n",
       "<style scoped>\n",
       "    .dataframe tbody tr th:only-of-type {\n",
       "        vertical-align: middle;\n",
       "    }\n",
       "\n",
       "    .dataframe tbody tr th {\n",
       "        vertical-align: top;\n",
       "    }\n",
       "\n",
       "    .dataframe thead th {\n",
       "        text-align: right;\n",
       "    }\n",
       "</style>\n",
       "<table border=\"1\" class=\"dataframe\">\n",
       "  <thead>\n",
       "    <tr style=\"text-align: right;\">\n",
       "      <th></th>\n",
       "      <th>customerid</th>\n",
       "      <th>recency_scaled</th>\n",
       "      <th>frequency_scaled</th>\n",
       "      <th>monetary_value_scaled</th>\n",
       "      <th>RFM_score</th>\n",
       "      <th>customer_segments</th>\n",
       "    </tr>\n",
       "  </thead>\n",
       "  <tbody>\n",
       "    <tr>\n",
       "      <th>0</th>\n",
       "      <td>12346</td>\n",
       "      <td>2.0</td>\n",
       "      <td>1.0</td>\n",
       "      <td>1.0</td>\n",
       "      <td>211</td>\n",
       "      <td>Silver</td>\n",
       "    </tr>\n",
       "    <tr>\n",
       "      <th>1</th>\n",
       "      <td>12347</td>\n",
       "      <td>2.0</td>\n",
       "      <td>1.0</td>\n",
       "      <td>2.0</td>\n",
       "      <td>212</td>\n",
       "      <td>Silver</td>\n",
       "    </tr>\n",
       "    <tr>\n",
       "      <th>2</th>\n",
       "      <td>12348</td>\n",
       "      <td>2.0</td>\n",
       "      <td>1.0</td>\n",
       "      <td>1.0</td>\n",
       "      <td>211</td>\n",
       "      <td>Silver</td>\n",
       "    </tr>\n",
       "    <tr>\n",
       "      <th>3</th>\n",
       "      <td>12350</td>\n",
       "      <td>1.0</td>\n",
       "      <td>1.0</td>\n",
       "      <td>1.0</td>\n",
       "      <td>111</td>\n",
       "      <td>Standard</td>\n",
       "    </tr>\n",
       "    <tr>\n",
       "      <th>4</th>\n",
       "      <td>12356</td>\n",
       "      <td>2.0</td>\n",
       "      <td>1.0</td>\n",
       "      <td>1.0</td>\n",
       "      <td>211</td>\n",
       "      <td>Silver</td>\n",
       "    </tr>\n",
       "    <tr>\n",
       "      <th>...</th>\n",
       "      <td>...</td>\n",
       "      <td>...</td>\n",
       "      <td>...</td>\n",
       "      <td>...</td>\n",
       "      <td>...</td>\n",
       "      <td>...</td>\n",
       "    </tr>\n",
       "    <tr>\n",
       "      <th>1463</th>\n",
       "      <td>18259</td>\n",
       "      <td>4.0</td>\n",
       "      <td>1.0</td>\n",
       "      <td>1.0</td>\n",
       "      <td>411</td>\n",
       "      <td>Gold</td>\n",
       "    </tr>\n",
       "    <tr>\n",
       "      <th>1464</th>\n",
       "      <td>18260</td>\n",
       "      <td>2.0</td>\n",
       "      <td>1.0</td>\n",
       "      <td>1.0</td>\n",
       "      <td>211</td>\n",
       "      <td>Silver</td>\n",
       "    </tr>\n",
       "    <tr>\n",
       "      <th>1465</th>\n",
       "      <td>18269</td>\n",
       "      <td>3.0</td>\n",
       "      <td>1.0</td>\n",
       "      <td>1.0</td>\n",
       "      <td>311</td>\n",
       "      <td>Silver</td>\n",
       "    </tr>\n",
       "    <tr>\n",
       "      <th>1466</th>\n",
       "      <td>18277</td>\n",
       "      <td>2.0</td>\n",
       "      <td>1.0</td>\n",
       "      <td>1.0</td>\n",
       "      <td>211</td>\n",
       "      <td>Silver</td>\n",
       "    </tr>\n",
       "    <tr>\n",
       "      <th>1467</th>\n",
       "      <td>18283</td>\n",
       "      <td>2.0</td>\n",
       "      <td>2.0</td>\n",
       "      <td>1.0</td>\n",
       "      <td>221</td>\n",
       "      <td>Silver</td>\n",
       "    </tr>\n",
       "  </tbody>\n",
       "</table>\n",
       "<p>1468 rows × 6 columns</p>\n",
       "</div>"
      ],
      "text/plain": [
       "      customerid  recency_scaled  frequency_scaled  monetary_value_scaled  \\\n",
       "0          12346             2.0               1.0                    1.0   \n",
       "1          12347             2.0               1.0                    2.0   \n",
       "2          12348             2.0               1.0                    1.0   \n",
       "3          12350             1.0               1.0                    1.0   \n",
       "4          12356             2.0               1.0                    1.0   \n",
       "...          ...             ...               ...                    ...   \n",
       "1463       18259             4.0               1.0                    1.0   \n",
       "1464       18260             2.0               1.0                    1.0   \n",
       "1465       18269             3.0               1.0                    1.0   \n",
       "1466       18277             2.0               1.0                    1.0   \n",
       "1467       18283             2.0               2.0                    1.0   \n",
       "\n",
       "      RFM_score customer_segments  \n",
       "0           211            Silver  \n",
       "1           212            Silver  \n",
       "2           211            Silver  \n",
       "3           111          Standard  \n",
       "4           211            Silver  \n",
       "...         ...               ...  \n",
       "1463        411              Gold  \n",
       "1464        211            Silver  \n",
       "1465        311            Silver  \n",
       "1466        211            Silver  \n",
       "1467        221            Silver  \n",
       "\n",
       "[1468 rows x 6 columns]"
      ]
     },
     "execution_count": 26,
     "metadata": {},
     "output_type": "execute_result"
    }
   ],
   "source": [
    "RFM_score_frame"
   ]
  },
  {
   "cell_type": "markdown",
   "metadata": {},
   "source": [
    "Vizualization"
   ]
  },
  {
   "cell_type": "code",
   "execution_count": 27,
   "metadata": {},
   "outputs": [],
   "source": [
    "RFM_score_viz = RFM_score_frame.groupby('customer_segments')['customerid'].count().to_frame(name='customer_count').reset_index()"
   ]
  },
  {
   "cell_type": "code",
   "execution_count": 28,
   "metadata": {},
   "outputs": [
    {
     "name": "stderr",
     "output_type": "stream",
     "text": [
      "No artists with labels found to put in legend.  Note that artists whose label start with an underscore are ignored when legend() is called with no argument.\n"
     ]
    },
    {
     "data": {
      "image/png": "[encoded data removed]",
      "text/plain": [
       "<Figure size 1000x600 with 1 Axes>"
      ]
     },
     "metadata": {},
     "output_type": "display_data"
    }
   ],
   "source": [
    "plt.figure(figsize=(10,6))\n",
    "plt.bar(RFM_score_viz['customer_segments'],height=RFM_score_viz['customer_count'])\n",
    "plt.xlabel('customer segments')\n",
    "plt.ylabel('customer count')\n",
    "plt.title('Bar Chart of customer count by customer segments')\n",
    "plt.legend(title='Category count')\n",
    "plt.xticks(RFM_score_viz['customer_segments'])\n",
    "plt.grid(True, which='both', linestyle='--', linewidth=0.5, zorder=0)\n",
    "plt.show()\n"
   ]
  },
  {
   "cell_type": "markdown",
   "metadata": {},
   "source": [
    "some strategies  we consider for each customer segment based on their RFM scores and customer segment:\n",
    "\n",
    "Premium Customers (High RFM Scores):\n",
    "Offer exclusive discounts or promotions: Provide special offers, discounts, or early access to new products/services to reward their loyalty and encourage repeat purchases.\n",
    "VIP treatment: Provide personalized customer service, dedicated account managers, or priority support channels to enhance their overall experience.\n",
    "Loyalty rewards: Implement a loyalty program with tiered rewards or points accumulation for every purchase made.\n",
    "Gold Customers (High RFM Scores in Frequency and Monetary, Moderate Recency):\n",
    "Personalized recommendations: Use customer data and purchase history to offer personalized product recommendations or curated collections tailored to their preferences.\n",
    "Tiered discounts: Offer tiered discounts based on the frequency or amount of purchases made, providing incentives for them to increase their spending.\n",
    "Early access to sales or new products: Give them exclusive access to sales events or new product launches before they are made available to the general public.\n",
    "Silver Customers (Moderate RFM Scores in Frequency and Monetary, Moderate Recency) (We have highest number of customers from this category):\n",
    "Targeted promotions: Send targeted email campaigns or promotions based on their past purchases or browsing behavior to encourage repeat purchases.\n",
    "Cross-selling opportunities: Identify complementary products or accessories related to their past purchases and offer them as recommendations.\n",
    "Referral incentives: Encourage them to refer friends or family members by offering incentives such as discounts or rewards for successful referrals.\n",
    "Standard Customers (Low RFM Scores):\n",
    "Re-engagement campaigns: Send targeted re-engagement emails or offers to win back customers who haven't made a purchase in a while.\n",
    "Survey feedback: Gather feedback through surveys or feedback forms to understand their concerns or reasons for not purchasing frequently, and use this information to improve their experience.\n",
    "Incentivize repeat purchases: Offer special discounts or promotions for their next purchase to encourage them to come back and shop again."
   ]
  }
 ],
 "metadata": {
  "kernelspec": {
   "display_name": "base",
   "language": "python",
   "name": "python3"
  },
  "language_info": {
   "codemirror_mode": {
    "name": "ipython",
    "version": 3
   },
   "file_extension": ".py",
   "mimetype": "text/x-python",
   "name": "python",
   "nbconvert_exporter": "python",
   "pygments_lexer": "ipython3",
   "version": "3.11.8"
  }
 },
 "nbformat": 4,
 "nbformat_minor": 2
}
