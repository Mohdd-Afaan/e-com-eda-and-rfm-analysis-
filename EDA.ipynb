{
 "cells": [
  {
   "cell_type": "code",
   "execution_count": 2,
   "metadata": {},
   "outputs": [],
   "source": [
    "import pandas as pd\n",
    "from datetime import datetime"
   ]
  },
  {
   "cell_type": "code",
   "execution_count": 3,
   "metadata": {},
   "outputs": [],
   "source": [
    "import matplotlib.pyplot as plt\n",
    "%matplotlib inline\n",
    "import seaborn as sns"
   ]
  },
  {
   "cell_type": "code",
   "execution_count": 4,
   "metadata": {},
   "outputs": [],
   "source": [
    "import numpy as np"
   ]
  },
  {
   "cell_type": "code",
   "execution_count": 5,
   "metadata": {},
   "outputs": [],
   "source": [
    "online_sales_df = pd.read_csv(\".\\dataset\\Online_Sales.csv\")"
   ]
  },
  {
   "cell_type": "code",
   "execution_count": 6,
   "metadata": {},
   "outputs": [],
   "source": [
    "discount_coupon_df = pd.read_csv('.\\dataset\\Discount_Coupon.csv')"
   ]
  },
  {
   "cell_type": "code",
   "execution_count": 7,
   "metadata": {},
   "outputs": [],
   "source": [
    "tax_amount_df = pd.read_excel('.\\dataset\\Tax_amount.xlsx')"
   ]
  },
  {
   "cell_type": "code",
   "execution_count": 8,
   "metadata": {},
   "outputs": [],
   "source": [
    "marketing_spend_df = pd.read_csv('.\\dataset\\Marketing_Spend.csv')"
   ]
  },
  {
   "cell_type": "code",
   "execution_count": 9,
   "metadata": {},
   "outputs": [],
   "source": [
    "online_sales_df.columns = online_sales_df.columns.str.lower()"
   ]
  },
  {
   "cell_type": "code",
   "execution_count": 10,
   "metadata": {},
   "outputs": [],
   "source": [
    "discount_coupon_df.columns = discount_coupon_df.columns.str.lower()"
   ]
  },
  {
   "cell_type": "code",
   "execution_count": 11,
   "metadata": {},
   "outputs": [],
   "source": [
    "marketing_spend_df.columns = marketing_spend_df.columns.str.lower()"
   ]
  },
  {
   "cell_type": "code",
   "execution_count": 12,
   "metadata": {},
   "outputs": [],
   "source": [
    "tax_amount_df.columns = tax_amount_df.columns.str.lower()"
   ]
  },
  {
   "cell_type": "code",
   "execution_count": 13,
   "metadata": {},
   "outputs": [],
   "source": [
    "discount_coupon_df['discount_pct'] = discount_coupon_df['discount_pct']/100"
   ]
  },
  {
   "cell_type": "code",
   "execution_count": 14,
   "metadata": {},
   "outputs": [],
   "source": [
    "marketing_spend_df['date'] = pd.to_datetime(marketing_spend_df['date'])"
   ]
  },
  {
   "cell_type": "code",
   "execution_count": 15,
   "metadata": {},
   "outputs": [],
   "source": [
    "marketing_spend_df.rename(columns={'date':'transaction_date'},inplace=True)"
   ]
  },
  {
   "cell_type": "code",
   "execution_count": 16,
   "metadata": {},
   "outputs": [
    {
     "data": {
      "text/plain": [
       "(Index(['transaction_date', 'offline_spend', 'online_spend'], dtype='object'),\n",
       " Index(['customerid', 'transaction_id', 'transaction_date', 'product_sku',\n",
       "        'product_description', 'product_category', 'quantity', 'avg_price',\n",
       "        'delivery_charges', 'coupon_status'],\n",
       "       dtype='object'))"
      ]
     },
     "execution_count": 16,
     "metadata": {},
     "output_type": "execute_result"
    }
   ],
   "source": [
    "marketing_spend_df.columns,online_sales_df.columns"
   ]
  },
  {
   "cell_type": "code",
   "execution_count": 17,
   "metadata": {},
   "outputs": [],
   "source": [
    "online_sales_df['transaction_date'] = pd.to_datetime(online_sales_df['transaction_date'])"
   ]
  },
  {
   "cell_type": "code",
   "execution_count": 18,
   "metadata": {},
   "outputs": [],
   "source": [
    "online_sales_df['transaction_month'] = online_sales_df['transaction_date'].dt.month"
   ]
  },
  {
   "cell_type": "code",
   "execution_count": 19,
   "metadata": {},
   "outputs": [],
   "source": [
    "discount_coupon_df['transaction_month'] = [datetime.strptime(i,'%b').month for i in discount_coupon_df['month']]"
   ]
  },
  {
   "cell_type": "code",
   "execution_count": 20,
   "metadata": {},
   "outputs": [
    {
     "name": "stdout",
     "output_type": "stream",
     "text": [
      "<class 'pandas.core.frame.DataFrame'>\n",
      "RangeIndex: 52924 entries, 0 to 52923\n",
      "Data columns (total 11 columns):\n",
      " #   Column               Non-Null Count  Dtype         \n",
      "---  ------               --------------  -----         \n",
      " 0   customerid           52924 non-null  int64         \n",
      " 1   transaction_id       52924 non-null  int64         \n",
      " 2   transaction_date     52924 non-null  datetime64[ns]\n",
      " 3   product_sku          52924 non-null  object        \n",
      " 4   product_description  52924 non-null  object        \n",
      " 5   product_category     52924 non-null  object        \n",
      " 6   quantity             52924 non-null  int64         \n",
      " 7   avg_price            52924 non-null  float64       \n",
      " 8   delivery_charges     52924 non-null  float64       \n",
      " 9   coupon_status        52924 non-null  object        \n",
      " 10  transaction_month    52924 non-null  int32         \n",
      "dtypes: datetime64[ns](1), float64(2), int32(1), int64(3), object(4)\n",
      "memory usage: 4.2+ MB\n",
      "<class 'pandas.core.frame.DataFrame'>\n",
      "RangeIndex: 204 entries, 0 to 203\n",
      "Data columns (total 5 columns):\n",
      " #   Column             Non-Null Count  Dtype  \n",
      "---  ------             --------------  -----  \n",
      " 0   month              204 non-null    object \n",
      " 1   product_category   204 non-null    object \n",
      " 2   coupon_code        204 non-null    object \n",
      " 3   discount_pct       204 non-null    float64\n",
      " 4   transaction_month  204 non-null    int64  \n",
      "dtypes: float64(1), int64(1), object(3)\n",
      "memory usage: 8.1+ KB\n",
      "<class 'pandas.core.frame.DataFrame'>\n",
      "RangeIndex: 20 entries, 0 to 19\n",
      "Data columns (total 2 columns):\n",
      " #   Column            Non-Null Count  Dtype  \n",
      "---  ------            --------------  -----  \n",
      " 0   product_category  20 non-null     object \n",
      " 1   gst               20 non-null     float64\n",
      "dtypes: float64(1), object(1)\n",
      "memory usage: 452.0+ bytes\n",
      "<class 'pandas.core.frame.DataFrame'>\n",
      "RangeIndex: 365 entries, 0 to 364\n",
      "Data columns (total 3 columns):\n",
      " #   Column            Non-Null Count  Dtype         \n",
      "---  ------            --------------  -----         \n",
      " 0   transaction_date  365 non-null    datetime64[ns]\n",
      " 1   offline_spend     365 non-null    int64         \n",
      " 2   online_spend      365 non-null    float64       \n",
      "dtypes: datetime64[ns](1), float64(1), int64(1)\n",
      "memory usage: 8.7 KB\n"
     ]
    },
    {
     "data": {
      "text/plain": [
       "(None, None, None, None)"
      ]
     },
     "execution_count": 20,
     "metadata": {},
     "output_type": "execute_result"
    }
   ],
   "source": [
    "online_sales_df.info(),discount_coupon_df.info(),tax_amount_df.info(),marketing_spend_df.info()"
   ]
  },
  {
   "cell_type": "code",
   "execution_count": 21,
   "metadata": {},
   "outputs": [],
   "source": [
    "discount_coupon_df.drop(columns=['month'],inplace= True)"
   ]
  },
  {
   "cell_type": "code",
   "execution_count": 22,
   "metadata": {},
   "outputs": [],
   "source": [
    "merge_frame = online_sales_df.merge(discount_coupon_df,'left',on=['transaction_month','product_category']).merge(tax_amount_df,'left',on=['product_category']).merge(marketing_spend_df,'left',on=['transaction_date'])"
   ]
  },
  {
   "cell_type": "code",
   "execution_count": 23,
   "metadata": {},
   "outputs": [
    {
     "data": {
      "text/plain": [
       "customerid               0\n",
       "transaction_id           0\n",
       "transaction_date         0\n",
       "product_sku              0\n",
       "product_description      0\n",
       "product_category         0\n",
       "quantity                 0\n",
       "avg_price                0\n",
       "delivery_charges         0\n",
       "coupon_status            0\n",
       "transaction_month        0\n",
       "coupon_code            400\n",
       "discount_pct           400\n",
       "gst                      0\n",
       "offline_spend            0\n",
       "online_spend             0\n",
       "dtype: int64"
      ]
     },
     "execution_count": 23,
     "metadata": {},
     "output_type": "execute_result"
    }
   ],
   "source": [
    "merge_frame.isna().sum()"
   ]
  },
  {
   "cell_type": "code",
   "execution_count": 24,
   "metadata": {},
   "outputs": [],
   "source": [
    "null_rows = merge_frame[merge_frame.isnull().any(axis=1)]"
   ]
  },
  {
   "cell_type": "code",
   "execution_count": 25,
   "metadata": {},
   "outputs": [
    {
     "data": {
      "text/html": [
       "<div>\n",
       "<style scoped>\n",
       "    .dataframe tbody tr th:only-of-type {\n",
       "        vertical-align: middle;\n",
       "    }\n",
       "\n",
       "    .dataframe tbody tr th {\n",
       "        vertical-align: top;\n",
       "    }\n",
       "\n",
       "    .dataframe thead th {\n",
       "        text-align: right;\n",
       "    }\n",
       "</style>\n",
       "<table border=\"1\" class=\"dataframe\">\n",
       "  <thead>\n",
       "    <tr style=\"text-align: right;\">\n",
       "      <th></th>\n",
       "      <th>customerid</th>\n",
       "      <th>transaction_id</th>\n",
       "      <th>transaction_date</th>\n",
       "      <th>product_sku</th>\n",
       "      <th>product_description</th>\n",
       "      <th>product_category</th>\n",
       "      <th>quantity</th>\n",
       "      <th>avg_price</th>\n",
       "      <th>delivery_charges</th>\n",
       "      <th>coupon_status</th>\n",
       "      <th>transaction_month</th>\n",
       "      <th>coupon_code</th>\n",
       "      <th>discount_pct</th>\n",
       "      <th>gst</th>\n",
       "      <th>offline_spend</th>\n",
       "      <th>online_spend</th>\n",
       "    </tr>\n",
       "  </thead>\n",
       "  <tbody>\n",
       "    <tr>\n",
       "      <th>62</th>\n",
       "      <td>17850</td>\n",
       "      <td>16704</td>\n",
       "      <td>2019-01-01</td>\n",
       "      <td>GGOEYOBR078599</td>\n",
       "      <td>YouTube Luggage Tag</td>\n",
       "      <td>Fun</td>\n",
       "      <td>4</td>\n",
       "      <td>9.27</td>\n",
       "      <td>6.50</td>\n",
       "      <td>Used</td>\n",
       "      <td>1</td>\n",
       "      <td>NaN</td>\n",
       "      <td>NaN</td>\n",
       "      <td>0.18</td>\n",
       "      <td>4500</td>\n",
       "      <td>2424.50</td>\n",
       "    </tr>\n",
       "    <tr>\n",
       "      <th>95</th>\n",
       "      <td>14688</td>\n",
       "      <td>16742</td>\n",
       "      <td>2019-01-02</td>\n",
       "      <td>GGOEGBRD079699</td>\n",
       "      <td>25L Classic Rucksack</td>\n",
       "      <td>Backpacks</td>\n",
       "      <td>1</td>\n",
       "      <td>103.15</td>\n",
       "      <td>6.50</td>\n",
       "      <td>Clicked</td>\n",
       "      <td>1</td>\n",
       "      <td>NaN</td>\n",
       "      <td>NaN</td>\n",
       "      <td>0.10</td>\n",
       "      <td>4500</td>\n",
       "      <td>3480.36</td>\n",
       "    </tr>\n",
       "    <tr>\n",
       "      <th>157</th>\n",
       "      <td>18074</td>\n",
       "      <td>16782</td>\n",
       "      <td>2019-01-02</td>\n",
       "      <td>GGOEGOBC078699</td>\n",
       "      <td>Google Luggage Tag</td>\n",
       "      <td>Fun</td>\n",
       "      <td>1</td>\n",
       "      <td>7.42</td>\n",
       "      <td>6.50</td>\n",
       "      <td>Used</td>\n",
       "      <td>1</td>\n",
       "      <td>NaN</td>\n",
       "      <td>NaN</td>\n",
       "      <td>0.18</td>\n",
       "      <td>4500</td>\n",
       "      <td>3480.36</td>\n",
       "    </tr>\n",
       "    <tr>\n",
       "      <th>178</th>\n",
       "      <td>16029</td>\n",
       "      <td>16800</td>\n",
       "      <td>2019-01-02</td>\n",
       "      <td>GGOEAOBH078799</td>\n",
       "      <td>Android Luggage Tag</td>\n",
       "      <td>Fun</td>\n",
       "      <td>2</td>\n",
       "      <td>7.42</td>\n",
       "      <td>6.50</td>\n",
       "      <td>Not Used</td>\n",
       "      <td>1</td>\n",
       "      <td>NaN</td>\n",
       "      <td>NaN</td>\n",
       "      <td>0.18</td>\n",
       "      <td>4500</td>\n",
       "      <td>3480.36</td>\n",
       "    </tr>\n",
       "    <tr>\n",
       "      <th>193</th>\n",
       "      <td>16250</td>\n",
       "      <td>16812</td>\n",
       "      <td>2019-01-02</td>\n",
       "      <td>GGOEGDHG082499</td>\n",
       "      <td>Google 25 oz Clear Stainless Steel Bottle</td>\n",
       "      <td>Google</td>\n",
       "      <td>1</td>\n",
       "      <td>11.54</td>\n",
       "      <td>17.96</td>\n",
       "      <td>Clicked</td>\n",
       "      <td>1</td>\n",
       "      <td>NaN</td>\n",
       "      <td>NaN</td>\n",
       "      <td>0.10</td>\n",
       "      <td>4500</td>\n",
       "      <td>3480.36</td>\n",
       "    </tr>\n",
       "    <tr>\n",
       "      <th>...</th>\n",
       "      <td>...</td>\n",
       "      <td>...</td>\n",
       "      <td>...</td>\n",
       "      <td>...</td>\n",
       "      <td>...</td>\n",
       "      <td>...</td>\n",
       "      <td>...</td>\n",
       "      <td>...</td>\n",
       "      <td>...</td>\n",
       "      <td>...</td>\n",
       "      <td>...</td>\n",
       "      <td>...</td>\n",
       "      <td>...</td>\n",
       "      <td>...</td>\n",
       "      <td>...</td>\n",
       "      <td>...</td>\n",
       "    </tr>\n",
       "    <tr>\n",
       "      <th>44213</th>\n",
       "      <td>12472</td>\n",
       "      <td>42109</td>\n",
       "      <td>2019-10-30</td>\n",
       "      <td>GGOEGBRD079699</td>\n",
       "      <td>25L Classic Rucksack</td>\n",
       "      <td>Backpacks</td>\n",
       "      <td>1</td>\n",
       "      <td>79.99</td>\n",
       "      <td>6.00</td>\n",
       "      <td>Clicked</td>\n",
       "      <td>10</td>\n",
       "      <td>NaN</td>\n",
       "      <td>NaN</td>\n",
       "      <td>0.10</td>\n",
       "      <td>2000</td>\n",
       "      <td>780.15</td>\n",
       "    </tr>\n",
       "    <tr>\n",
       "      <th>45167</th>\n",
       "      <td>14911</td>\n",
       "      <td>42756</td>\n",
       "      <td>2019-11-07</td>\n",
       "      <td>GGOEGBRD079699</td>\n",
       "      <td>25L Classic Rucksack</td>\n",
       "      <td>Backpacks</td>\n",
       "      <td>1</td>\n",
       "      <td>79.99</td>\n",
       "      <td>6.00</td>\n",
       "      <td>Not Used</td>\n",
       "      <td>11</td>\n",
       "      <td>NaN</td>\n",
       "      <td>NaN</td>\n",
       "      <td>0.10</td>\n",
       "      <td>3500</td>\n",
       "      <td>1252.63</td>\n",
       "    </tr>\n",
       "    <tr>\n",
       "      <th>45807</th>\n",
       "      <td>18125</td>\n",
       "      <td>43244</td>\n",
       "      <td>2019-11-12</td>\n",
       "      <td>GGOEGBRD079699</td>\n",
       "      <td>25L Classic Rucksack</td>\n",
       "      <td>Backpacks</td>\n",
       "      <td>1</td>\n",
       "      <td>99.99</td>\n",
       "      <td>6.00</td>\n",
       "      <td>Clicked</td>\n",
       "      <td>11</td>\n",
       "      <td>NaN</td>\n",
       "      <td>NaN</td>\n",
       "      <td>0.10</td>\n",
       "      <td>4000</td>\n",
       "      <td>3390.82</td>\n",
       "    </tr>\n",
       "    <tr>\n",
       "      <th>46239</th>\n",
       "      <td>17180</td>\n",
       "      <td>43537</td>\n",
       "      <td>2019-11-15</td>\n",
       "      <td>GGOEGBRD079699</td>\n",
       "      <td>25L Classic Rucksack</td>\n",
       "      <td>Backpacks</td>\n",
       "      <td>1</td>\n",
       "      <td>79.99</td>\n",
       "      <td>6.00</td>\n",
       "      <td>Used</td>\n",
       "      <td>11</td>\n",
       "      <td>NaN</td>\n",
       "      <td>NaN</td>\n",
       "      <td>0.10</td>\n",
       "      <td>4000</td>\n",
       "      <td>737.08</td>\n",
       "    </tr>\n",
       "    <tr>\n",
       "      <th>46966</th>\n",
       "      <td>12377</td>\n",
       "      <td>44124</td>\n",
       "      <td>2019-11-21</td>\n",
       "      <td>GGOEGBRB079599</td>\n",
       "      <td>25L Classic Rucksack</td>\n",
       "      <td>Backpacks</td>\n",
       "      <td>1</td>\n",
       "      <td>99.99</td>\n",
       "      <td>6.00</td>\n",
       "      <td>Clicked</td>\n",
       "      <td>11</td>\n",
       "      <td>NaN</td>\n",
       "      <td>NaN</td>\n",
       "      <td>0.10</td>\n",
       "      <td>2500</td>\n",
       "      <td>484.90</td>\n",
       "    </tr>\n",
       "  </tbody>\n",
       "</table>\n",
       "<p>400 rows × 16 columns</p>\n",
       "</div>"
      ],
      "text/plain": [
       "       customerid  transaction_id transaction_date     product_sku  \\\n",
       "62          17850           16704       2019-01-01  GGOEYOBR078599   \n",
       "95          14688           16742       2019-01-02  GGOEGBRD079699   \n",
       "157         18074           16782       2019-01-02  GGOEGOBC078699   \n",
       "178         16029           16800       2019-01-02  GGOEAOBH078799   \n",
       "193         16250           16812       2019-01-02  GGOEGDHG082499   \n",
       "...           ...             ...              ...             ...   \n",
       "44213       12472           42109       2019-10-30  GGOEGBRD079699   \n",
       "45167       14911           42756       2019-11-07  GGOEGBRD079699   \n",
       "45807       18125           43244       2019-11-12  GGOEGBRD079699   \n",
       "46239       17180           43537       2019-11-15  GGOEGBRD079699   \n",
       "46966       12377           44124       2019-11-21  GGOEGBRB079599   \n",
       "\n",
       "                             product_description product_category  quantity  \\\n",
       "62                           YouTube Luggage Tag              Fun         4   \n",
       "95                          25L Classic Rucksack        Backpacks         1   \n",
       "157                           Google Luggage Tag              Fun         1   \n",
       "178                          Android Luggage Tag              Fun         2   \n",
       "193    Google 25 oz Clear Stainless Steel Bottle           Google         1   \n",
       "...                                          ...              ...       ...   \n",
       "44213                       25L Classic Rucksack        Backpacks         1   \n",
       "45167                       25L Classic Rucksack        Backpacks         1   \n",
       "45807                       25L Classic Rucksack        Backpacks         1   \n",
       "46239                       25L Classic Rucksack        Backpacks         1   \n",
       "46966                       25L Classic Rucksack        Backpacks         1   \n",
       "\n",
       "       avg_price  delivery_charges coupon_status  transaction_month  \\\n",
       "62          9.27              6.50          Used                  1   \n",
       "95        103.15              6.50       Clicked                  1   \n",
       "157         7.42              6.50          Used                  1   \n",
       "178         7.42              6.50      Not Used                  1   \n",
       "193        11.54             17.96       Clicked                  1   \n",
       "...          ...               ...           ...                ...   \n",
       "44213      79.99              6.00       Clicked                 10   \n",
       "45167      79.99              6.00      Not Used                 11   \n",
       "45807      99.99              6.00       Clicked                 11   \n",
       "46239      79.99              6.00          Used                 11   \n",
       "46966      99.99              6.00       Clicked                 11   \n",
       "\n",
       "      coupon_code  discount_pct   gst  offline_spend  online_spend  \n",
       "62            NaN           NaN  0.18           4500       2424.50  \n",
       "95            NaN           NaN  0.10           4500       3480.36  \n",
       "157           NaN           NaN  0.18           4500       3480.36  \n",
       "178           NaN           NaN  0.18           4500       3480.36  \n",
       "193           NaN           NaN  0.10           4500       3480.36  \n",
       "...           ...           ...   ...            ...           ...  \n",
       "44213         NaN           NaN  0.10           2000        780.15  \n",
       "45167         NaN           NaN  0.10           3500       1252.63  \n",
       "45807         NaN           NaN  0.10           4000       3390.82  \n",
       "46239         NaN           NaN  0.10           4000        737.08  \n",
       "46966         NaN           NaN  0.10           2500        484.90  \n",
       "\n",
       "[400 rows x 16 columns]"
      ]
     },
     "execution_count": 25,
     "metadata": {},
     "output_type": "execute_result"
    }
   ],
   "source": [
    "null_rows"
   ]
  },
  {
   "cell_type": "code",
   "execution_count": 26,
   "metadata": {},
   "outputs": [],
   "source": [
    "set_1 = set(discount_coupon_df['product_category'].unique())"
   ]
  },
  {
   "cell_type": "code",
   "execution_count": 27,
   "metadata": {},
   "outputs": [],
   "source": [
    "set_2 = set(null_rows['product_category'].unique())"
   ]
  },
  {
   "cell_type": "code",
   "execution_count": 28,
   "metadata": {},
   "outputs": [
    {
     "data": {
      "text/plain": [
       "False"
      ]
     },
     "execution_count": 28,
     "metadata": {},
     "output_type": "execute_result"
    }
   ],
   "source": [
    "set_2.issubset(set_1)"
   ]
  },
  {
   "cell_type": "markdown",
   "metadata": {},
   "source": [
    "these null rows have null values because for these products no discount is allowed\n",
    "so we will be replacing null values of discount pct with 0 and coupun code with no coupun"
   ]
  },
  {
   "cell_type": "code",
   "execution_count": 29,
   "metadata": {},
   "outputs": [],
   "source": [
    "merge_frame['discount_pct'].fillna(.0,inplace=True)"
   ]
  },
  {
   "cell_type": "code",
   "execution_count": 30,
   "metadata": {},
   "outputs": [],
   "source": [
    "merge_frame['coupon_code'].fillna('ZERO_OFF\"',inplace=True)"
   ]
  },
  {
   "cell_type": "code",
   "execution_count": 31,
   "metadata": {},
   "outputs": [
    {
     "data": {
      "text/plain": [
       "customerid             0\n",
       "transaction_id         0\n",
       "transaction_date       0\n",
       "product_sku            0\n",
       "product_description    0\n",
       "product_category       0\n",
       "quantity               0\n",
       "avg_price              0\n",
       "delivery_charges       0\n",
       "coupon_status          0\n",
       "transaction_month      0\n",
       "coupon_code            0\n",
       "discount_pct           0\n",
       "gst                    0\n",
       "offline_spend          0\n",
       "online_spend           0\n",
       "dtype: int64"
      ]
     },
     "execution_count": 31,
     "metadata": {},
     "output_type": "execute_result"
    }
   ],
   "source": [
    "merge_frame.isna().sum()"
   ]
  },
  {
   "cell_type": "markdown",
   "metadata": {},
   "source": [
    "Business Objective:\n",
    "The e-commerce company is expecting below analysis using the data"
   ]
  },
  {
   "cell_type": "markdown",
   "metadata": {},
   "source": [
    "Calculate Invoice amount or sale_amount or revenue for each transaction and item level\n",
    "Invoice Value =(( QuantityAvg_price)(1-Dicount_pct)*(1+GST))+Delivery_Charges"
   ]
  },
  {
   "cell_type": "code",
   "execution_count": 32,
   "metadata": {},
   "outputs": [
    {
     "data": {
      "text/html": [
       "<div>\n",
       "<style scoped>\n",
       "    .dataframe tbody tr th:only-of-type {\n",
       "        vertical-align: middle;\n",
       "    }\n",
       "\n",
       "    .dataframe tbody tr th {\n",
       "        vertical-align: top;\n",
       "    }\n",
       "\n",
       "    .dataframe thead th {\n",
       "        text-align: right;\n",
       "    }\n",
       "</style>\n",
       "<table border=\"1\" class=\"dataframe\">\n",
       "  <thead>\n",
       "    <tr style=\"text-align: right;\">\n",
       "      <th></th>\n",
       "      <th>customerid</th>\n",
       "      <th>transaction_id</th>\n",
       "      <th>transaction_date</th>\n",
       "      <th>product_sku</th>\n",
       "      <th>product_description</th>\n",
       "      <th>product_category</th>\n",
       "      <th>quantity</th>\n",
       "      <th>avg_price</th>\n",
       "      <th>delivery_charges</th>\n",
       "      <th>coupon_status</th>\n",
       "      <th>transaction_month</th>\n",
       "      <th>coupon_code</th>\n",
       "      <th>discount_pct</th>\n",
       "      <th>gst</th>\n",
       "      <th>offline_spend</th>\n",
       "      <th>online_spend</th>\n",
       "    </tr>\n",
       "  </thead>\n",
       "  <tbody>\n",
       "    <tr>\n",
       "      <th>0</th>\n",
       "      <td>17850</td>\n",
       "      <td>16679</td>\n",
       "      <td>2019-01-01</td>\n",
       "      <td>GGOENEBJ079499</td>\n",
       "      <td>Nest Learning Thermostat 3rd Gen-USA - Stainle...</td>\n",
       "      <td>Nest-USA</td>\n",
       "      <td>1</td>\n",
       "      <td>153.71</td>\n",
       "      <td>6.50</td>\n",
       "      <td>Used</td>\n",
       "      <td>1</td>\n",
       "      <td>ELEC10</td>\n",
       "      <td>0.1</td>\n",
       "      <td>0.10</td>\n",
       "      <td>4500</td>\n",
       "      <td>2424.50</td>\n",
       "    </tr>\n",
       "    <tr>\n",
       "      <th>1</th>\n",
       "      <td>17850</td>\n",
       "      <td>16680</td>\n",
       "      <td>2019-01-01</td>\n",
       "      <td>GGOENEBJ079499</td>\n",
       "      <td>Nest Learning Thermostat 3rd Gen-USA - Stainle...</td>\n",
       "      <td>Nest-USA</td>\n",
       "      <td>1</td>\n",
       "      <td>153.71</td>\n",
       "      <td>6.50</td>\n",
       "      <td>Used</td>\n",
       "      <td>1</td>\n",
       "      <td>ELEC10</td>\n",
       "      <td>0.1</td>\n",
       "      <td>0.10</td>\n",
       "      <td>4500</td>\n",
       "      <td>2424.50</td>\n",
       "    </tr>\n",
       "    <tr>\n",
       "      <th>2</th>\n",
       "      <td>17850</td>\n",
       "      <td>16681</td>\n",
       "      <td>2019-01-01</td>\n",
       "      <td>GGOEGFKQ020399</td>\n",
       "      <td>Google Laptop and Cell Phone Stickers</td>\n",
       "      <td>Office</td>\n",
       "      <td>1</td>\n",
       "      <td>2.05</td>\n",
       "      <td>6.50</td>\n",
       "      <td>Used</td>\n",
       "      <td>1</td>\n",
       "      <td>OFF10</td>\n",
       "      <td>0.1</td>\n",
       "      <td>0.10</td>\n",
       "      <td>4500</td>\n",
       "      <td>2424.50</td>\n",
       "    </tr>\n",
       "    <tr>\n",
       "      <th>3</th>\n",
       "      <td>17850</td>\n",
       "      <td>16682</td>\n",
       "      <td>2019-01-01</td>\n",
       "      <td>GGOEGAAB010516</td>\n",
       "      <td>Google Men's 100% Cotton Short Sleeve Hero Tee...</td>\n",
       "      <td>Apparel</td>\n",
       "      <td>5</td>\n",
       "      <td>17.53</td>\n",
       "      <td>6.50</td>\n",
       "      <td>Not Used</td>\n",
       "      <td>1</td>\n",
       "      <td>SALE10</td>\n",
       "      <td>0.1</td>\n",
       "      <td>0.18</td>\n",
       "      <td>4500</td>\n",
       "      <td>2424.50</td>\n",
       "    </tr>\n",
       "    <tr>\n",
       "      <th>4</th>\n",
       "      <td>17850</td>\n",
       "      <td>16682</td>\n",
       "      <td>2019-01-01</td>\n",
       "      <td>GGOEGBJL013999</td>\n",
       "      <td>Google Canvas Tote Natural/Navy</td>\n",
       "      <td>Bags</td>\n",
       "      <td>1</td>\n",
       "      <td>16.50</td>\n",
       "      <td>6.50</td>\n",
       "      <td>Used</td>\n",
       "      <td>1</td>\n",
       "      <td>AIO10</td>\n",
       "      <td>0.1</td>\n",
       "      <td>0.18</td>\n",
       "      <td>4500</td>\n",
       "      <td>2424.50</td>\n",
       "    </tr>\n",
       "    <tr>\n",
       "      <th>...</th>\n",
       "      <td>...</td>\n",
       "      <td>...</td>\n",
       "      <td>...</td>\n",
       "      <td>...</td>\n",
       "      <td>...</td>\n",
       "      <td>...</td>\n",
       "      <td>...</td>\n",
       "      <td>...</td>\n",
       "      <td>...</td>\n",
       "      <td>...</td>\n",
       "      <td>...</td>\n",
       "      <td>...</td>\n",
       "      <td>...</td>\n",
       "      <td>...</td>\n",
       "      <td>...</td>\n",
       "      <td>...</td>\n",
       "    </tr>\n",
       "    <tr>\n",
       "      <th>52919</th>\n",
       "      <td>14410</td>\n",
       "      <td>48493</td>\n",
       "      <td>2019-12-31</td>\n",
       "      <td>GGOENEBB078899</td>\n",
       "      <td>Nest Cam Indoor Security Camera - USA</td>\n",
       "      <td>Nest-USA</td>\n",
       "      <td>1</td>\n",
       "      <td>121.30</td>\n",
       "      <td>6.50</td>\n",
       "      <td>Clicked</td>\n",
       "      <td>12</td>\n",
       "      <td>ELEC30</td>\n",
       "      <td>0.3</td>\n",
       "      <td>0.10</td>\n",
       "      <td>4000</td>\n",
       "      <td>2058.75</td>\n",
       "    </tr>\n",
       "    <tr>\n",
       "      <th>52920</th>\n",
       "      <td>14410</td>\n",
       "      <td>48494</td>\n",
       "      <td>2019-12-31</td>\n",
       "      <td>GGOEGAEB091117</td>\n",
       "      <td>Google Zip Hoodie Black</td>\n",
       "      <td>Apparel</td>\n",
       "      <td>1</td>\n",
       "      <td>48.92</td>\n",
       "      <td>6.50</td>\n",
       "      <td>Used</td>\n",
       "      <td>12</td>\n",
       "      <td>SALE30</td>\n",
       "      <td>0.3</td>\n",
       "      <td>0.18</td>\n",
       "      <td>4000</td>\n",
       "      <td>2058.75</td>\n",
       "    </tr>\n",
       "    <tr>\n",
       "      <th>52921</th>\n",
       "      <td>14410</td>\n",
       "      <td>48495</td>\n",
       "      <td>2019-12-31</td>\n",
       "      <td>GGOENEBQ084699</td>\n",
       "      <td>Nest Learning Thermostat 3rd Gen-USA - White</td>\n",
       "      <td>Nest-USA</td>\n",
       "      <td>1</td>\n",
       "      <td>151.88</td>\n",
       "      <td>6.50</td>\n",
       "      <td>Used</td>\n",
       "      <td>12</td>\n",
       "      <td>ELEC30</td>\n",
       "      <td>0.3</td>\n",
       "      <td>0.10</td>\n",
       "      <td>4000</td>\n",
       "      <td>2058.75</td>\n",
       "    </tr>\n",
       "    <tr>\n",
       "      <th>52922</th>\n",
       "      <td>14600</td>\n",
       "      <td>48496</td>\n",
       "      <td>2019-12-31</td>\n",
       "      <td>GGOENEBQ079199</td>\n",
       "      <td>Nest Protect Smoke + CO White Wired Alarm-USA</td>\n",
       "      <td>Nest-USA</td>\n",
       "      <td>5</td>\n",
       "      <td>80.52</td>\n",
       "      <td>6.50</td>\n",
       "      <td>Clicked</td>\n",
       "      <td>12</td>\n",
       "      <td>ELEC30</td>\n",
       "      <td>0.3</td>\n",
       "      <td>0.10</td>\n",
       "      <td>4000</td>\n",
       "      <td>2058.75</td>\n",
       "    </tr>\n",
       "    <tr>\n",
       "      <th>52923</th>\n",
       "      <td>14600</td>\n",
       "      <td>48497</td>\n",
       "      <td>2019-12-31</td>\n",
       "      <td>GGOENEBQ079099</td>\n",
       "      <td>Nest Protect Smoke + CO White Battery Alarm-USA</td>\n",
       "      <td>Nest-USA</td>\n",
       "      <td>4</td>\n",
       "      <td>80.52</td>\n",
       "      <td>19.99</td>\n",
       "      <td>Clicked</td>\n",
       "      <td>12</td>\n",
       "      <td>ELEC30</td>\n",
       "      <td>0.3</td>\n",
       "      <td>0.10</td>\n",
       "      <td>4000</td>\n",
       "      <td>2058.75</td>\n",
       "    </tr>\n",
       "  </tbody>\n",
       "</table>\n",
       "<p>52924 rows × 16 columns</p>\n",
       "</div>"
      ],
      "text/plain": [
       "       customerid  transaction_id transaction_date     product_sku  \\\n",
       "0           17850           16679       2019-01-01  GGOENEBJ079499   \n",
       "1           17850           16680       2019-01-01  GGOENEBJ079499   \n",
       "2           17850           16681       2019-01-01  GGOEGFKQ020399   \n",
       "3           17850           16682       2019-01-01  GGOEGAAB010516   \n",
       "4           17850           16682       2019-01-01  GGOEGBJL013999   \n",
       "...           ...             ...              ...             ...   \n",
       "52919       14410           48493       2019-12-31  GGOENEBB078899   \n",
       "52920       14410           48494       2019-12-31  GGOEGAEB091117   \n",
       "52921       14410           48495       2019-12-31  GGOENEBQ084699   \n",
       "52922       14600           48496       2019-12-31  GGOENEBQ079199   \n",
       "52923       14600           48497       2019-12-31  GGOENEBQ079099   \n",
       "\n",
       "                                     product_description product_category  \\\n",
       "0      Nest Learning Thermostat 3rd Gen-USA - Stainle...         Nest-USA   \n",
       "1      Nest Learning Thermostat 3rd Gen-USA - Stainle...         Nest-USA   \n",
       "2                  Google Laptop and Cell Phone Stickers           Office   \n",
       "3      Google Men's 100% Cotton Short Sleeve Hero Tee...          Apparel   \n",
       "4                        Google Canvas Tote Natural/Navy             Bags   \n",
       "...                                                  ...              ...   \n",
       "52919              Nest Cam Indoor Security Camera - USA         Nest-USA   \n",
       "52920                            Google Zip Hoodie Black          Apparel   \n",
       "52921       Nest Learning Thermostat 3rd Gen-USA - White         Nest-USA   \n",
       "52922      Nest Protect Smoke + CO White Wired Alarm-USA         Nest-USA   \n",
       "52923    Nest Protect Smoke + CO White Battery Alarm-USA         Nest-USA   \n",
       "\n",
       "       quantity  avg_price  delivery_charges coupon_status  transaction_month  \\\n",
       "0             1     153.71              6.50          Used                  1   \n",
       "1             1     153.71              6.50          Used                  1   \n",
       "2             1       2.05              6.50          Used                  1   \n",
       "3             5      17.53              6.50      Not Used                  1   \n",
       "4             1      16.50              6.50          Used                  1   \n",
       "...         ...        ...               ...           ...                ...   \n",
       "52919         1     121.30              6.50       Clicked                 12   \n",
       "52920         1      48.92              6.50          Used                 12   \n",
       "52921         1     151.88              6.50          Used                 12   \n",
       "52922         5      80.52              6.50       Clicked                 12   \n",
       "52923         4      80.52             19.99       Clicked                 12   \n",
       "\n",
       "      coupon_code  discount_pct   gst  offline_spend  online_spend  \n",
       "0          ELEC10           0.1  0.10           4500       2424.50  \n",
       "1          ELEC10           0.1  0.10           4500       2424.50  \n",
       "2           OFF10           0.1  0.10           4500       2424.50  \n",
       "3          SALE10           0.1  0.18           4500       2424.50  \n",
       "4           AIO10           0.1  0.18           4500       2424.50  \n",
       "...           ...           ...   ...            ...           ...  \n",
       "52919      ELEC30           0.3  0.10           4000       2058.75  \n",
       "52920      SALE30           0.3  0.18           4000       2058.75  \n",
       "52921      ELEC30           0.3  0.10           4000       2058.75  \n",
       "52922      ELEC30           0.3  0.10           4000       2058.75  \n",
       "52923      ELEC30           0.3  0.10           4000       2058.75  \n",
       "\n",
       "[52924 rows x 16 columns]"
      ]
     },
     "execution_count": 32,
     "metadata": {},
     "output_type": "execute_result"
    }
   ],
   "source": [
    "merge_frame"
   ]
  },
  {
   "cell_type": "code",
   "execution_count": 33,
   "metadata": {},
   "outputs": [
    {
     "data": {
      "text/plain": [
       "'Used'"
      ]
     },
     "execution_count": 33,
     "metadata": {},
     "output_type": "execute_result"
    }
   ],
   "source": [
    "merge_frame['coupon_status'][0]"
   ]
  },
  {
   "cell_type": "code",
   "execution_count": 34,
   "metadata": {},
   "outputs": [
    {
     "data": {
      "text/html": [
       "<div>\n",
       "<style scoped>\n",
       "    .dataframe tbody tr th:only-of-type {\n",
       "        vertical-align: middle;\n",
       "    }\n",
       "\n",
       "    .dataframe tbody tr th {\n",
       "        vertical-align: top;\n",
       "    }\n",
       "\n",
       "    .dataframe thead th {\n",
       "        text-align: right;\n",
       "    }\n",
       "</style>\n",
       "<table border=\"1\" class=\"dataframe\">\n",
       "  <thead>\n",
       "    <tr style=\"text-align: right;\">\n",
       "      <th></th>\n",
       "      <th>customerid</th>\n",
       "      <th>transaction_id</th>\n",
       "      <th>transaction_date</th>\n",
       "      <th>product_sku</th>\n",
       "      <th>product_description</th>\n",
       "      <th>product_category</th>\n",
       "      <th>quantity</th>\n",
       "      <th>avg_price</th>\n",
       "      <th>delivery_charges</th>\n",
       "      <th>coupon_status</th>\n",
       "      <th>transaction_month</th>\n",
       "      <th>coupon_code</th>\n",
       "      <th>discount_pct</th>\n",
       "      <th>gst</th>\n",
       "      <th>offline_spend</th>\n",
       "      <th>online_spend</th>\n",
       "    </tr>\n",
       "  </thead>\n",
       "  <tbody>\n",
       "    <tr>\n",
       "      <th>0</th>\n",
       "      <td>17850</td>\n",
       "      <td>16679</td>\n",
       "      <td>2019-01-01</td>\n",
       "      <td>GGOENEBJ079499</td>\n",
       "      <td>Nest Learning Thermostat 3rd Gen-USA - Stainle...</td>\n",
       "      <td>Nest-USA</td>\n",
       "      <td>1</td>\n",
       "      <td>153.71</td>\n",
       "      <td>6.50</td>\n",
       "      <td>Used</td>\n",
       "      <td>1</td>\n",
       "      <td>ELEC10</td>\n",
       "      <td>0.1</td>\n",
       "      <td>0.10</td>\n",
       "      <td>4500</td>\n",
       "      <td>2424.50</td>\n",
       "    </tr>\n",
       "    <tr>\n",
       "      <th>1</th>\n",
       "      <td>17850</td>\n",
       "      <td>16680</td>\n",
       "      <td>2019-01-01</td>\n",
       "      <td>GGOENEBJ079499</td>\n",
       "      <td>Nest Learning Thermostat 3rd Gen-USA - Stainle...</td>\n",
       "      <td>Nest-USA</td>\n",
       "      <td>1</td>\n",
       "      <td>153.71</td>\n",
       "      <td>6.50</td>\n",
       "      <td>Used</td>\n",
       "      <td>1</td>\n",
       "      <td>ELEC10</td>\n",
       "      <td>0.1</td>\n",
       "      <td>0.10</td>\n",
       "      <td>4500</td>\n",
       "      <td>2424.50</td>\n",
       "    </tr>\n",
       "    <tr>\n",
       "      <th>2</th>\n",
       "      <td>17850</td>\n",
       "      <td>16681</td>\n",
       "      <td>2019-01-01</td>\n",
       "      <td>GGOEGFKQ020399</td>\n",
       "      <td>Google Laptop and Cell Phone Stickers</td>\n",
       "      <td>Office</td>\n",
       "      <td>1</td>\n",
       "      <td>2.05</td>\n",
       "      <td>6.50</td>\n",
       "      <td>Used</td>\n",
       "      <td>1</td>\n",
       "      <td>OFF10</td>\n",
       "      <td>0.1</td>\n",
       "      <td>0.10</td>\n",
       "      <td>4500</td>\n",
       "      <td>2424.50</td>\n",
       "    </tr>\n",
       "    <tr>\n",
       "      <th>3</th>\n",
       "      <td>17850</td>\n",
       "      <td>16682</td>\n",
       "      <td>2019-01-01</td>\n",
       "      <td>GGOEGAAB010516</td>\n",
       "      <td>Google Men's 100% Cotton Short Sleeve Hero Tee...</td>\n",
       "      <td>Apparel</td>\n",
       "      <td>5</td>\n",
       "      <td>17.53</td>\n",
       "      <td>6.50</td>\n",
       "      <td>Not Used</td>\n",
       "      <td>1</td>\n",
       "      <td>SALE10</td>\n",
       "      <td>0.1</td>\n",
       "      <td>0.18</td>\n",
       "      <td>4500</td>\n",
       "      <td>2424.50</td>\n",
       "    </tr>\n",
       "    <tr>\n",
       "      <th>4</th>\n",
       "      <td>17850</td>\n",
       "      <td>16682</td>\n",
       "      <td>2019-01-01</td>\n",
       "      <td>GGOEGBJL013999</td>\n",
       "      <td>Google Canvas Tote Natural/Navy</td>\n",
       "      <td>Bags</td>\n",
       "      <td>1</td>\n",
       "      <td>16.50</td>\n",
       "      <td>6.50</td>\n",
       "      <td>Used</td>\n",
       "      <td>1</td>\n",
       "      <td>AIO10</td>\n",
       "      <td>0.1</td>\n",
       "      <td>0.18</td>\n",
       "      <td>4500</td>\n",
       "      <td>2424.50</td>\n",
       "    </tr>\n",
       "    <tr>\n",
       "      <th>...</th>\n",
       "      <td>...</td>\n",
       "      <td>...</td>\n",
       "      <td>...</td>\n",
       "      <td>...</td>\n",
       "      <td>...</td>\n",
       "      <td>...</td>\n",
       "      <td>...</td>\n",
       "      <td>...</td>\n",
       "      <td>...</td>\n",
       "      <td>...</td>\n",
       "      <td>...</td>\n",
       "      <td>...</td>\n",
       "      <td>...</td>\n",
       "      <td>...</td>\n",
       "      <td>...</td>\n",
       "      <td>...</td>\n",
       "    </tr>\n",
       "    <tr>\n",
       "      <th>52919</th>\n",
       "      <td>14410</td>\n",
       "      <td>48493</td>\n",
       "      <td>2019-12-31</td>\n",
       "      <td>GGOENEBB078899</td>\n",
       "      <td>Nest Cam Indoor Security Camera - USA</td>\n",
       "      <td>Nest-USA</td>\n",
       "      <td>1</td>\n",
       "      <td>121.30</td>\n",
       "      <td>6.50</td>\n",
       "      <td>Clicked</td>\n",
       "      <td>12</td>\n",
       "      <td>ELEC30</td>\n",
       "      <td>0.3</td>\n",
       "      <td>0.10</td>\n",
       "      <td>4000</td>\n",
       "      <td>2058.75</td>\n",
       "    </tr>\n",
       "    <tr>\n",
       "      <th>52920</th>\n",
       "      <td>14410</td>\n",
       "      <td>48494</td>\n",
       "      <td>2019-12-31</td>\n",
       "      <td>GGOEGAEB091117</td>\n",
       "      <td>Google Zip Hoodie Black</td>\n",
       "      <td>Apparel</td>\n",
       "      <td>1</td>\n",
       "      <td>48.92</td>\n",
       "      <td>6.50</td>\n",
       "      <td>Used</td>\n",
       "      <td>12</td>\n",
       "      <td>SALE30</td>\n",
       "      <td>0.3</td>\n",
       "      <td>0.18</td>\n",
       "      <td>4000</td>\n",
       "      <td>2058.75</td>\n",
       "    </tr>\n",
       "    <tr>\n",
       "      <th>52921</th>\n",
       "      <td>14410</td>\n",
       "      <td>48495</td>\n",
       "      <td>2019-12-31</td>\n",
       "      <td>GGOENEBQ084699</td>\n",
       "      <td>Nest Learning Thermostat 3rd Gen-USA - White</td>\n",
       "      <td>Nest-USA</td>\n",
       "      <td>1</td>\n",
       "      <td>151.88</td>\n",
       "      <td>6.50</td>\n",
       "      <td>Used</td>\n",
       "      <td>12</td>\n",
       "      <td>ELEC30</td>\n",
       "      <td>0.3</td>\n",
       "      <td>0.10</td>\n",
       "      <td>4000</td>\n",
       "      <td>2058.75</td>\n",
       "    </tr>\n",
       "    <tr>\n",
       "      <th>52922</th>\n",
       "      <td>14600</td>\n",
       "      <td>48496</td>\n",
       "      <td>2019-12-31</td>\n",
       "      <td>GGOENEBQ079199</td>\n",
       "      <td>Nest Protect Smoke + CO White Wired Alarm-USA</td>\n",
       "      <td>Nest-USA</td>\n",
       "      <td>5</td>\n",
       "      <td>80.52</td>\n",
       "      <td>6.50</td>\n",
       "      <td>Clicked</td>\n",
       "      <td>12</td>\n",
       "      <td>ELEC30</td>\n",
       "      <td>0.3</td>\n",
       "      <td>0.10</td>\n",
       "      <td>4000</td>\n",
       "      <td>2058.75</td>\n",
       "    </tr>\n",
       "    <tr>\n",
       "      <th>52923</th>\n",
       "      <td>14600</td>\n",
       "      <td>48497</td>\n",
       "      <td>2019-12-31</td>\n",
       "      <td>GGOENEBQ079099</td>\n",
       "      <td>Nest Protect Smoke + CO White Battery Alarm-USA</td>\n",
       "      <td>Nest-USA</td>\n",
       "      <td>4</td>\n",
       "      <td>80.52</td>\n",
       "      <td>19.99</td>\n",
       "      <td>Clicked</td>\n",
       "      <td>12</td>\n",
       "      <td>ELEC30</td>\n",
       "      <td>0.3</td>\n",
       "      <td>0.10</td>\n",
       "      <td>4000</td>\n",
       "      <td>2058.75</td>\n",
       "    </tr>\n",
       "  </tbody>\n",
       "</table>\n",
       "<p>52924 rows × 16 columns</p>\n",
       "</div>"
      ],
      "text/plain": [
       "       customerid  transaction_id transaction_date     product_sku  \\\n",
       "0           17850           16679       2019-01-01  GGOENEBJ079499   \n",
       "1           17850           16680       2019-01-01  GGOENEBJ079499   \n",
       "2           17850           16681       2019-01-01  GGOEGFKQ020399   \n",
       "3           17850           16682       2019-01-01  GGOEGAAB010516   \n",
       "4           17850           16682       2019-01-01  GGOEGBJL013999   \n",
       "...           ...             ...              ...             ...   \n",
       "52919       14410           48493       2019-12-31  GGOENEBB078899   \n",
       "52920       14410           48494       2019-12-31  GGOEGAEB091117   \n",
       "52921       14410           48495       2019-12-31  GGOENEBQ084699   \n",
       "52922       14600           48496       2019-12-31  GGOENEBQ079199   \n",
       "52923       14600           48497       2019-12-31  GGOENEBQ079099   \n",
       "\n",
       "                                     product_description product_category  \\\n",
       "0      Nest Learning Thermostat 3rd Gen-USA - Stainle...         Nest-USA   \n",
       "1      Nest Learning Thermostat 3rd Gen-USA - Stainle...         Nest-USA   \n",
       "2                  Google Laptop and Cell Phone Stickers           Office   \n",
       "3      Google Men's 100% Cotton Short Sleeve Hero Tee...          Apparel   \n",
       "4                        Google Canvas Tote Natural/Navy             Bags   \n",
       "...                                                  ...              ...   \n",
       "52919              Nest Cam Indoor Security Camera - USA         Nest-USA   \n",
       "52920                            Google Zip Hoodie Black          Apparel   \n",
       "52921       Nest Learning Thermostat 3rd Gen-USA - White         Nest-USA   \n",
       "52922      Nest Protect Smoke + CO White Wired Alarm-USA         Nest-USA   \n",
       "52923    Nest Protect Smoke + CO White Battery Alarm-USA         Nest-USA   \n",
       "\n",
       "       quantity  avg_price  delivery_charges coupon_status  transaction_month  \\\n",
       "0             1     153.71              6.50          Used                  1   \n",
       "1             1     153.71              6.50          Used                  1   \n",
       "2             1       2.05              6.50          Used                  1   \n",
       "3             5      17.53              6.50      Not Used                  1   \n",
       "4             1      16.50              6.50          Used                  1   \n",
       "...         ...        ...               ...           ...                ...   \n",
       "52919         1     121.30              6.50       Clicked                 12   \n",
       "52920         1      48.92              6.50          Used                 12   \n",
       "52921         1     151.88              6.50          Used                 12   \n",
       "52922         5      80.52              6.50       Clicked                 12   \n",
       "52923         4      80.52             19.99       Clicked                 12   \n",
       "\n",
       "      coupon_code  discount_pct   gst  offline_spend  online_spend  \n",
       "0          ELEC10           0.1  0.10           4500       2424.50  \n",
       "1          ELEC10           0.1  0.10           4500       2424.50  \n",
       "2           OFF10           0.1  0.10           4500       2424.50  \n",
       "3          SALE10           0.1  0.18           4500       2424.50  \n",
       "4           AIO10           0.1  0.18           4500       2424.50  \n",
       "...           ...           ...   ...            ...           ...  \n",
       "52919      ELEC30           0.3  0.10           4000       2058.75  \n",
       "52920      SALE30           0.3  0.18           4000       2058.75  \n",
       "52921      ELEC30           0.3  0.10           4000       2058.75  \n",
       "52922      ELEC30           0.3  0.10           4000       2058.75  \n",
       "52923      ELEC30           0.3  0.10           4000       2058.75  \n",
       "\n",
       "[52924 rows x 16 columns]"
      ]
     },
     "execution_count": 34,
     "metadata": {},
     "output_type": "execute_result"
    }
   ],
   "source": [
    "merge_frame"
   ]
  },
  {
   "cell_type": "code",
   "execution_count": 35,
   "metadata": {},
   "outputs": [
    {
     "data": {
      "text/html": [
       "<div>\n",
       "<style scoped>\n",
       "    .dataframe tbody tr th:only-of-type {\n",
       "        vertical-align: middle;\n",
       "    }\n",
       "\n",
       "    .dataframe tbody tr th {\n",
       "        vertical-align: top;\n",
       "    }\n",
       "\n",
       "    .dataframe thead th {\n",
       "        text-align: right;\n",
       "    }\n",
       "</style>\n",
       "<table border=\"1\" class=\"dataframe\">\n",
       "  <thead>\n",
       "    <tr style=\"text-align: right;\">\n",
       "      <th></th>\n",
       "      <th>quantity</th>\n",
       "      <th>avg_price</th>\n",
       "      <th>discount_pct</th>\n",
       "      <th>coupon_status</th>\n",
       "    </tr>\n",
       "  </thead>\n",
       "  <tbody>\n",
       "    <tr>\n",
       "      <th>0</th>\n",
       "      <td>1</td>\n",
       "      <td>153.71</td>\n",
       "      <td>0.1</td>\n",
       "      <td>Used</td>\n",
       "    </tr>\n",
       "    <tr>\n",
       "      <th>1</th>\n",
       "      <td>1</td>\n",
       "      <td>153.71</td>\n",
       "      <td>0.1</td>\n",
       "      <td>Used</td>\n",
       "    </tr>\n",
       "    <tr>\n",
       "      <th>2</th>\n",
       "      <td>1</td>\n",
       "      <td>2.05</td>\n",
       "      <td>0.1</td>\n",
       "      <td>Used</td>\n",
       "    </tr>\n",
       "    <tr>\n",
       "      <th>3</th>\n",
       "      <td>5</td>\n",
       "      <td>17.53</td>\n",
       "      <td>0.1</td>\n",
       "      <td>Not Used</td>\n",
       "    </tr>\n",
       "    <tr>\n",
       "      <th>4</th>\n",
       "      <td>1</td>\n",
       "      <td>16.50</td>\n",
       "      <td>0.1</td>\n",
       "      <td>Used</td>\n",
       "    </tr>\n",
       "    <tr>\n",
       "      <th>...</th>\n",
       "      <td>...</td>\n",
       "      <td>...</td>\n",
       "      <td>...</td>\n",
       "      <td>...</td>\n",
       "    </tr>\n",
       "    <tr>\n",
       "      <th>52919</th>\n",
       "      <td>1</td>\n",
       "      <td>121.30</td>\n",
       "      <td>0.3</td>\n",
       "      <td>Clicked</td>\n",
       "    </tr>\n",
       "    <tr>\n",
       "      <th>52920</th>\n",
       "      <td>1</td>\n",
       "      <td>48.92</td>\n",
       "      <td>0.3</td>\n",
       "      <td>Used</td>\n",
       "    </tr>\n",
       "    <tr>\n",
       "      <th>52921</th>\n",
       "      <td>1</td>\n",
       "      <td>151.88</td>\n",
       "      <td>0.3</td>\n",
       "      <td>Used</td>\n",
       "    </tr>\n",
       "    <tr>\n",
       "      <th>52922</th>\n",
       "      <td>5</td>\n",
       "      <td>80.52</td>\n",
       "      <td>0.3</td>\n",
       "      <td>Clicked</td>\n",
       "    </tr>\n",
       "    <tr>\n",
       "      <th>52923</th>\n",
       "      <td>4</td>\n",
       "      <td>80.52</td>\n",
       "      <td>0.3</td>\n",
       "      <td>Clicked</td>\n",
       "    </tr>\n",
       "  </tbody>\n",
       "</table>\n",
       "<p>52924 rows × 4 columns</p>\n",
       "</div>"
      ],
      "text/plain": [
       "       quantity  avg_price  discount_pct coupon_status\n",
       "0             1     153.71           0.1          Used\n",
       "1             1     153.71           0.1          Used\n",
       "2             1       2.05           0.1          Used\n",
       "3             5      17.53           0.1      Not Used\n",
       "4             1      16.50           0.1          Used\n",
       "...         ...        ...           ...           ...\n",
       "52919         1     121.30           0.3       Clicked\n",
       "52920         1      48.92           0.3          Used\n",
       "52921         1     151.88           0.3          Used\n",
       "52922         5      80.52           0.3       Clicked\n",
       "52923         4      80.52           0.3       Clicked\n",
       "\n",
       "[52924 rows x 4 columns]"
      ]
     },
     "execution_count": 35,
     "metadata": {},
     "output_type": "execute_result"
    }
   ],
   "source": [
    " merge_frame[['quantity','avg_price','discount_pct','coupon_status']]"
   ]
  },
  {
   "cell_type": "code",
   "execution_count": 36,
   "metadata": {},
   "outputs": [],
   "source": [
    "for i in range(len(merge_frame[['quantity','avg_price','discount_pct','coupon_status']])):\n",
    "    if merge_frame['coupon_status'][i] == 'Used':\n",
    "        ((merge_frame['quantity'][i] *merge_frame['avg_price'][i]) * (1 - merge_frame['discount_pct'][i]))\n",
    "    else:\n",
    "        (merge_frame['quantity'][i] *merge_frame['avg_price'][i])"
   ]
  },
  {
   "cell_type": "code",
   "execution_count": 37,
   "metadata": {},
   "outputs": [],
   "source": [
    "merge_frame['invoice_value'] = [\n",
    "    ((merge_frame['quantity'][i] * merge_frame['avg_price'][i]) * (1 - merge_frame['discount_pct'][i])* (1 + merge_frame['gst'][i]) +  merge_frame['delivery_charges'][i])\n",
    "      if \n",
    "      merge_frame['coupon_status'][i] == 'Used' \n",
    "      else \n",
    "      (merge_frame['quantity'][i] * merge_frame['avg_price'][i]* (1 + merge_frame['gst'][i]) +  merge_frame['delivery_charges'][i]) \n",
    "      for i in range(len(merge_frame[['quantity','avg_price','discount_pct','coupon_status']]))]"
   ]
  },
  {
   "cell_type": "code",
   "execution_count": 38,
   "metadata": {},
   "outputs": [
    {
     "data": {
      "text/plain": [
       "customerid             0\n",
       "transaction_id         0\n",
       "transaction_date       0\n",
       "product_sku            0\n",
       "product_description    0\n",
       "product_category       0\n",
       "quantity               0\n",
       "avg_price              0\n",
       "delivery_charges       0\n",
       "coupon_status          0\n",
       "transaction_month      0\n",
       "coupon_code            0\n",
       "discount_pct           0\n",
       "gst                    0\n",
       "offline_spend          0\n",
       "online_spend           0\n",
       "invoice_value          0\n",
       "dtype: int64"
      ]
     },
     "execution_count": 38,
     "metadata": {},
     "output_type": "execute_result"
    }
   ],
   "source": [
    "merge_frame.isna().sum()"
   ]
  },
  {
   "cell_type": "code",
   "execution_count": 39,
   "metadata": {},
   "outputs": [
    {
     "data": {
      "text/html": [
       "<div>\n",
       "<style scoped>\n",
       "    .dataframe tbody tr th:only-of-type {\n",
       "        vertical-align: middle;\n",
       "    }\n",
       "\n",
       "    .dataframe tbody tr th {\n",
       "        vertical-align: top;\n",
       "    }\n",
       "\n",
       "    .dataframe thead th {\n",
       "        text-align: right;\n",
       "    }\n",
       "</style>\n",
       "<table border=\"1\" class=\"dataframe\">\n",
       "  <thead>\n",
       "    <tr style=\"text-align: right;\">\n",
       "      <th></th>\n",
       "      <th>customerid</th>\n",
       "      <th>transaction_id</th>\n",
       "      <th>transaction_date</th>\n",
       "      <th>product_sku</th>\n",
       "      <th>product_description</th>\n",
       "      <th>product_category</th>\n",
       "      <th>quantity</th>\n",
       "      <th>avg_price</th>\n",
       "      <th>delivery_charges</th>\n",
       "      <th>coupon_status</th>\n",
       "      <th>transaction_month</th>\n",
       "      <th>coupon_code</th>\n",
       "      <th>discount_pct</th>\n",
       "      <th>gst</th>\n",
       "      <th>offline_spend</th>\n",
       "      <th>online_spend</th>\n",
       "      <th>invoice_value</th>\n",
       "    </tr>\n",
       "  </thead>\n",
       "  <tbody>\n",
       "    <tr>\n",
       "      <th>0</th>\n",
       "      <td>17850</td>\n",
       "      <td>16679</td>\n",
       "      <td>2019-01-01</td>\n",
       "      <td>GGOENEBJ079499</td>\n",
       "      <td>Nest Learning Thermostat 3rd Gen-USA - Stainle...</td>\n",
       "      <td>Nest-USA</td>\n",
       "      <td>1</td>\n",
       "      <td>153.71</td>\n",
       "      <td>6.5</td>\n",
       "      <td>Used</td>\n",
       "      <td>1</td>\n",
       "      <td>ELEC10</td>\n",
       "      <td>0.1</td>\n",
       "      <td>0.10</td>\n",
       "      <td>4500</td>\n",
       "      <td>2424.5</td>\n",
       "      <td>158.6729</td>\n",
       "    </tr>\n",
       "    <tr>\n",
       "      <th>1</th>\n",
       "      <td>17850</td>\n",
       "      <td>16680</td>\n",
       "      <td>2019-01-01</td>\n",
       "      <td>GGOENEBJ079499</td>\n",
       "      <td>Nest Learning Thermostat 3rd Gen-USA - Stainle...</td>\n",
       "      <td>Nest-USA</td>\n",
       "      <td>1</td>\n",
       "      <td>153.71</td>\n",
       "      <td>6.5</td>\n",
       "      <td>Used</td>\n",
       "      <td>1</td>\n",
       "      <td>ELEC10</td>\n",
       "      <td>0.1</td>\n",
       "      <td>0.10</td>\n",
       "      <td>4500</td>\n",
       "      <td>2424.5</td>\n",
       "      <td>158.6729</td>\n",
       "    </tr>\n",
       "    <tr>\n",
       "      <th>2</th>\n",
       "      <td>17850</td>\n",
       "      <td>16681</td>\n",
       "      <td>2019-01-01</td>\n",
       "      <td>GGOEGFKQ020399</td>\n",
       "      <td>Google Laptop and Cell Phone Stickers</td>\n",
       "      <td>Office</td>\n",
       "      <td>1</td>\n",
       "      <td>2.05</td>\n",
       "      <td>6.5</td>\n",
       "      <td>Used</td>\n",
       "      <td>1</td>\n",
       "      <td>OFF10</td>\n",
       "      <td>0.1</td>\n",
       "      <td>0.10</td>\n",
       "      <td>4500</td>\n",
       "      <td>2424.5</td>\n",
       "      <td>8.5295</td>\n",
       "    </tr>\n",
       "    <tr>\n",
       "      <th>3</th>\n",
       "      <td>17850</td>\n",
       "      <td>16682</td>\n",
       "      <td>2019-01-01</td>\n",
       "      <td>GGOEGAAB010516</td>\n",
       "      <td>Google Men's 100% Cotton Short Sleeve Hero Tee...</td>\n",
       "      <td>Apparel</td>\n",
       "      <td>5</td>\n",
       "      <td>17.53</td>\n",
       "      <td>6.5</td>\n",
       "      <td>Not Used</td>\n",
       "      <td>1</td>\n",
       "      <td>SALE10</td>\n",
       "      <td>0.1</td>\n",
       "      <td>0.18</td>\n",
       "      <td>4500</td>\n",
       "      <td>2424.5</td>\n",
       "      <td>109.9270</td>\n",
       "    </tr>\n",
       "    <tr>\n",
       "      <th>4</th>\n",
       "      <td>17850</td>\n",
       "      <td>16682</td>\n",
       "      <td>2019-01-01</td>\n",
       "      <td>GGOEGBJL013999</td>\n",
       "      <td>Google Canvas Tote Natural/Navy</td>\n",
       "      <td>Bags</td>\n",
       "      <td>1</td>\n",
       "      <td>16.50</td>\n",
       "      <td>6.5</td>\n",
       "      <td>Used</td>\n",
       "      <td>1</td>\n",
       "      <td>AIO10</td>\n",
       "      <td>0.1</td>\n",
       "      <td>0.18</td>\n",
       "      <td>4500</td>\n",
       "      <td>2424.5</td>\n",
       "      <td>24.0230</td>\n",
       "    </tr>\n",
       "  </tbody>\n",
       "</table>\n",
       "</div>"
      ],
      "text/plain": [
       "   customerid  transaction_id transaction_date     product_sku  \\\n",
       "0       17850           16679       2019-01-01  GGOENEBJ079499   \n",
       "1       17850           16680       2019-01-01  GGOENEBJ079499   \n",
       "2       17850           16681       2019-01-01  GGOEGFKQ020399   \n",
       "3       17850           16682       2019-01-01  GGOEGAAB010516   \n",
       "4       17850           16682       2019-01-01  GGOEGBJL013999   \n",
       "\n",
       "                                 product_description product_category  \\\n",
       "0  Nest Learning Thermostat 3rd Gen-USA - Stainle...         Nest-USA   \n",
       "1  Nest Learning Thermostat 3rd Gen-USA - Stainle...         Nest-USA   \n",
       "2              Google Laptop and Cell Phone Stickers           Office   \n",
       "3  Google Men's 100% Cotton Short Sleeve Hero Tee...          Apparel   \n",
       "4                    Google Canvas Tote Natural/Navy             Bags   \n",
       "\n",
       "   quantity  avg_price  delivery_charges coupon_status  transaction_month  \\\n",
       "0         1     153.71               6.5          Used                  1   \n",
       "1         1     153.71               6.5          Used                  1   \n",
       "2         1       2.05               6.5          Used                  1   \n",
       "3         5      17.53               6.5      Not Used                  1   \n",
       "4         1      16.50               6.5          Used                  1   \n",
       "\n",
       "  coupon_code  discount_pct   gst  offline_spend  online_spend  invoice_value  \n",
       "0      ELEC10           0.1  0.10           4500        2424.5       158.6729  \n",
       "1      ELEC10           0.1  0.10           4500        2424.5       158.6729  \n",
       "2       OFF10           0.1  0.10           4500        2424.5         8.5295  \n",
       "3      SALE10           0.1  0.18           4500        2424.5       109.9270  \n",
       "4       AIO10           0.1  0.18           4500        2424.5        24.0230  "
      ]
     },
     "execution_count": 39,
     "metadata": {},
     "output_type": "execute_result"
    }
   ],
   "source": [
    "merge_frame.head(5)"
   ]
  },
  {
   "cell_type": "markdown",
   "metadata": {},
   "source": [
    "Detailed exploratory analysis"
   ]
  },
  {
   "cell_type": "markdown",
   "metadata": {},
   "source": [
    "Defining the Retention Period: Decide on the time frame over which you want to measure customer retention."
   ]
  },
  {
   "cell_type": "markdown",
   "metadata": {},
   "source": [
    "Understanding how many customers acquired every month"
   ]
  },
  {
   "cell_type": "code",
   "execution_count": 40,
   "metadata": {},
   "outputs": [],
   "source": [
    "merge_frame.sort_values('transaction_date',inplace=True)"
   ]
  },
  {
   "cell_type": "code",
   "execution_count": 41,
   "metadata": {},
   "outputs": [],
   "source": [
    "merge_frame['acquisition_month'] = merge_frame['transaction_date'].dt.to_period('m')\n"
   ]
  },
  {
   "cell_type": "code",
   "execution_count": 42,
   "metadata": {},
   "outputs": [
    {
     "data": {
      "text/plain": [
       "0        2019-01\n",
       "64       2019-01\n",
       "63       2019-01\n",
       "62       2019-01\n",
       "61       2019-01\n",
       "          ...   \n",
       "52876    2019-12\n",
       "52874    2019-12\n",
       "52873    2019-12\n",
       "52880    2019-12\n",
       "52923    2019-12\n",
       "Name: acquisition_month, Length: 52924, dtype: period[M]"
      ]
     },
     "execution_count": 42,
     "metadata": {},
     "output_type": "execute_result"
    }
   ],
   "source": [
    "merge_frame['acquisition_month']"
   ]
  },
  {
   "cell_type": "code",
   "execution_count": 43,
   "metadata": {},
   "outputs": [],
   "source": [
    "acquisition_per_month = merge_frame.groupby('acquisition_month').size()"
   ]
  },
  {
   "cell_type": "code",
   "execution_count": 44,
   "metadata": {},
   "outputs": [],
   "source": [
    "acquisition_month = acquisition_per_month.index.strftime('%m')"
   ]
  },
  {
   "cell_type": "code",
   "execution_count": 45,
   "metadata": {},
   "outputs": [
    {
     "data": {
      "text/plain": [
       "Index(['01', '02', '03', '04', '05', '06', '07', '08', '09', '10', '11', '12'], dtype='object', name='acquisition_month')"
      ]
     },
     "execution_count": 45,
     "metadata": {},
     "output_type": "execute_result"
    }
   ],
   "source": [
    "acquisition_month"
   ]
  },
  {
   "cell_type": "code",
   "execution_count": 46,
   "metadata": {},
   "outputs": [
    {
     "data": {
      "image/png": "[encoded data removed]",
      "text/plain": [
       "<Figure size 1000x600 with 1 Axes>"
      ]
     },
     "metadata": {},
     "output_type": "display_data"
    }
   ],
   "source": [
    "plt.figure(figsize=(10, 6))\n",
    "plt.plot(acquisition_month, acquisition_per_month.values, marker='o', linestyle='-')\n",
    "plt.title('Number of Customers Acquired Each Month')\n",
    "plt.xlabel('Month')\n",
    "plt.ylabel('Number of Customers Acquired')\n",
    "plt.xticks(rotation=45)  # Rotate x-axis labels for better readability\n",
    "plt.grid(True)\n",
    "plt.tight_layout()\n",
    "plt.show()"
   ]
  },
  {
   "cell_type": "markdown",
   "metadata": {},
   "source": [
    "The line chart illustrates the number of customers acquired each month over a year. Here are the key observations:\n",
    "\n",
    "Initial Drop and Recovery (Jan-Feb): There is a notable drop in customer acquisition in February, with the lowest count for the year, followed by a sharp increase in March.\n",
    "\n",
    "Steady Growth and Peaks (Mar-Aug): After recovering in March, the number of customers acquired shows a general upward trend, with some fluctuations. The peak acquisition occurs in August, indicating a significant spike in customer growth during this month.\n",
    "\n",
    "Decline and Stabilization (Sep-Dec): Following the peak in August, there is a steep decline in September. The subsequent months (October to December) show a relatively stable but lower acquisition rate compared to the earlier peak, with a minor increase in December.\n",
    "\n",
    "Overall Trends: The data suggests seasonal or cyclical trends in customer acquisition, with high acquisition periods around mid-year and lower acquisition towards the end of the year."
   ]
  },
  {
   "cell_type": "markdown",
   "metadata": {},
   "source": [
    "Understand the retention of customers on month on month basis"
   ]
  },
  {
   "cell_type": "code",
   "execution_count": 47,
   "metadata": {},
   "outputs": [],
   "source": [
    "merge_frame['acquisition_month']= merge_frame['acquisition_month'].dt.month"
   ]
  },
  {
   "cell_type": "code",
   "execution_count": 48,
   "metadata": {},
   "outputs": [],
   "source": [
    "subset = {}\n",
    "for value , group in merge_frame.groupby('acquisition_month'):\n",
    "    subset[value] = pd.DataFrame(group)"
   ]
  },
  {
   "cell_type": "code",
   "execution_count": 49,
   "metadata": {},
   "outputs": [],
   "source": [
    "month_1_customer = set(subset.get(1)['customerid'])\n",
    "month_2_customer = set(subset.get(2)['customerid'])\n",
    "month_3_customer = set(subset.get(3)['customerid'])\n",
    "month_4_customer = set(subset.get(4)['customerid'])\n",
    "month_5_customer = set(subset.get(5)['customerid'])\n",
    "month_6_customer = set(subset.get(6)['customerid'])\n",
    "month_7_customer = set(subset.get(7)['customerid'])\n",
    "month_8_customer = set(subset.get(8)['customerid'])\n",
    "month_9_customer = set(subset.get(9)['customerid'])\n",
    "month_10_customer = set(subset.get(10)['customerid'])\n",
    "month_11_customer = set(subset.get(11)['customerid'])\n",
    "month_12_customer = set(subset.get(12)['customerid'])"
   ]
  },
  {
   "cell_type": "code",
   "execution_count": 50,
   "metadata": {},
   "outputs": [],
   "source": [
    "rentention_1 = month_1_customer.intersection(month_2_customer ).__len__()\n",
    "rentention_2 = month_2_customer.intersection(month_3_customer ).__len__()\n",
    "rentention_3 = month_3_customer.intersection(month_4_customer).__len__()\n",
    "rentention_4 = month_4_customer.intersection(month_5_customer).__len__()\n",
    "rentention_5 = month_5_customer.intersection(month_6_customer).__len__()\n",
    "rentention_6 = month_6_customer.intersection(month_7_customer).__len__()\n",
    "rentention_7 = month_7_customer.intersection(month_8_customer).__len__()\n",
    "rentention_8 = month_8_customer.intersection(month_9_customer).__len__()\n",
    "rentention_9 = month_9_customer.intersection(month_10_customer).__len__()\n",
    "rentention_10 = month_10_customer.intersection(month_11_customer).__len__()\n",
    "rentention_11 = month_11_customer.intersection(month_12_customer).__len__()"
   ]
  },
  {
   "cell_type": "code",
   "execution_count": 51,
   "metadata": {},
   "outputs": [],
   "source": [
    "retention_list = [rentention_1,rentention_2,rentention_3,rentention_4,rentention_5,rentention_6,rentention_7,rentention_8,rentention_9,rentention_10,rentention_11]"
   ]
  },
  {
   "cell_type": "code",
   "execution_count": 52,
   "metadata": {},
   "outputs": [
    {
     "data": {
      "text/plain": [
       "[13, 11, 24, 25, 37, 58, 65, 44, 29, 31, 28]"
      ]
     },
     "execution_count": 52,
     "metadata": {},
     "output_type": "execute_result"
    }
   ],
   "source": [
    "retention_list"
   ]
  },
  {
   "cell_type": "code",
   "execution_count": 53,
   "metadata": {},
   "outputs": [],
   "source": [
    "acquisition_mon_1 = month_1_customer.__len__()\n",
    "acquisition_mon_2 = month_2_customer.difference(month_1_customer).__len__()\n",
    "acquisition_mon_3 = month_3_customer.difference(month_2_customer).__len__()\n",
    "acquisition_mon_4 = month_4_customer.difference(month_3_customer).__len__()\n",
    "acquisition_mon_5 = month_5_customer.difference(month_4_customer).__len__()\n",
    "acquisition_mon_6 = month_6_customer.difference(month_5_customer).__len__()\n",
    "acquisition_mon_7 = month_7_customer.difference(month_6_customer).__len__()\n",
    "acquisition_mon_8 = month_8_customer.difference(month_7_customer).__len__()\n",
    "acquisition_mon_9 = month_9_customer.difference(month_8_customer).__len__()\n",
    "acquisition_mon_10 = month_10_customer.difference(month_9_customer).__len__()\n",
    "acquisition_mon_11 = month_11_customer.difference(month_10_customer).__len__()\n",
    "acquisition_mon_12 = month_12_customer.difference(month_11_customer).__len__()"
   ]
  },
  {
   "cell_type": "code",
   "execution_count": 54,
   "metadata": {},
   "outputs": [
    {
     "data": {
      "text/plain": [
       "(215, 96, 197, 200, 175, 222, 178, 235, 149, 181, 157, 208)"
      ]
     },
     "execution_count": 54,
     "metadata": {},
     "output_type": "execute_result"
    }
   ],
   "source": [
    "acquisition_mon_1, acquisition_mon_2,acquisition_mon_3,acquisition_mon_4,acquisition_mon_5,acquisition_mon_6,acquisition_mon_7,acquisition_mon_8,acquisition_mon_9,acquisition_mon_10,acquisition_mon_11,acquisition_mon_12"
   ]
  },
  {
   "cell_type": "markdown",
   "metadata": {},
   "source": [
    "Calculating Retention Rate :  Calculate the retention rate for each cohort by dividing the number of retained customers in each subsequent month by the total number of customers in the initial cohort.\n"
   ]
  },
  {
   "cell_type": "code",
   "execution_count": 55,
   "metadata": {},
   "outputs": [
    {
     "name": "stdout",
     "output_type": "stream",
     "text": [
      "[6.05, 5.12, 11.16, 11.63, 17.21, 26.98, 30.23, 20.47, 13.49, 14.42, 13.02]\n"
     ]
    }
   ],
   "source": [
    "retention_rates = []\n",
    "for i in retention_list:\n",
    "    x = ((i / acquisition_mon_1)*100).__round__(2)\n",
    "    retention_rates.append(x)\n",
    "\n",
    "print(retention_rates)"
   ]
  },
  {
   "cell_type": "markdown",
   "metadata": {},
   "source": [
    "Visualizing Retention on monthly basis "
   ]
  },
  {
   "cell_type": "code",
   "execution_count": 56,
   "metadata": {},
   "outputs": [
    {
     "data": {
      "image/png": "[encoded data removed]",
      "text/plain": [
       "<Figure size 1000x600 with 1 Axes>"
      ]
     },
     "metadata": {},
     "output_type": "display_data"
    }
   ],
   "source": [
    "plt.figure(figsize=(10, 6))\n",
    "plt.plot(acquisition_month[1:], retention_rates, marker='o', linestyle='-')\n",
    "plt.title('Retention on monthly basis')\n",
    "plt.xlabel('Month')\n",
    "plt.ylabel('retention_rates')\n",
    "plt.xticks(rotation=45)  # Rotate x-axis labels for better readability\n",
    "plt.grid(True)\n",
    "plt.tight_layout()\n",
    "plt.show()"
   ]
  },
  {
   "cell_type": "markdown",
   "metadata": {},
   "source": [
    "The line chart illustrates customer retention rates on a monthly basis. Here are the key observations:\n",
    "\n",
    "Initial Low Retention (Feb-Mar): The retention rates start low in February and reach their minimum in March. This indicates that fewer customers acquired in the early part of the year were retained.\n",
    "\n",
    "Gradual Increase (Mar-Jul): From March onwards, there is a steady increase in retention rates, peaking in July. This suggests successful retention strategies or increased customer satisfaction during these months.\n",
    "\n",
    "Sharp Decline (Aug-Oct): Following the peak in July, there is a sharp decline in retention rates, bottoming out in October. This might indicate seasonal changes, customer churn, or other external factors affecting retention.\n",
    "\n",
    "Stabilization (Oct-Dec): After October, the retention rates stabilize, with minor fluctuations. The rates in November and December are relatively steady but lower than the peak months."
   ]
  },
  {
   "cell_type": "markdown",
   "metadata": {},
   "source": [
    "understading the effect of marketing expenses"
   ]
  },
  {
   "cell_type": "code",
   "execution_count": 57,
   "metadata": {},
   "outputs": [],
   "source": [
    "sales_exp = merge_frame.groupby('acquisition_month')[['offline_spend', 'online_spend', 'invoice_value']].sum()"
   ]
  },
  {
   "cell_type": "code",
   "execution_count": 58,
   "metadata": {},
   "outputs": [],
   "source": [
    "sales_exp['online_spend_nearest_M'] = (sales_exp['online_spend']/1e6).round()\n",
    "sales_exp['invoice_value_nearest_M'] = (sales_exp['invoice_value']/1e5).round()\n",
    "sales_exp['offline_spend_nearest_M'] = (sales_exp['offline_spend']/1e6).round()\n"
   ]
  },
  {
   "cell_type": "code",
   "execution_count": 59,
   "metadata": {},
   "outputs": [
    {
     "data": {
      "text/html": [
       "<div>\n",
       "<style scoped>\n",
       "    .dataframe tbody tr th:only-of-type {\n",
       "        vertical-align: middle;\n",
       "    }\n",
       "\n",
       "    .dataframe tbody tr th {\n",
       "        vertical-align: top;\n",
       "    }\n",
       "\n",
       "    .dataframe thead th {\n",
       "        text-align: right;\n",
       "    }\n",
       "</style>\n",
       "<table border=\"1\" class=\"dataframe\">\n",
       "  <thead>\n",
       "    <tr style=\"text-align: right;\">\n",
       "      <th></th>\n",
       "      <th>offline_spend</th>\n",
       "      <th>online_spend</th>\n",
       "      <th>invoice_value</th>\n",
       "      <th>online_spend_nearest_M</th>\n",
       "      <th>invoice_value_nearest_M</th>\n",
       "      <th>offline_spend_nearest_M</th>\n",
       "    </tr>\n",
       "    <tr>\n",
       "      <th>acquisition_month</th>\n",
       "      <th></th>\n",
       "      <th></th>\n",
       "      <th></th>\n",
       "      <th></th>\n",
       "      <th></th>\n",
       "      <th></th>\n",
       "    </tr>\n",
       "  </thead>\n",
       "  <tbody>\n",
       "    <tr>\n",
       "      <th>1</th>\n",
       "      <td>12365900</td>\n",
       "      <td>7686875.17</td>\n",
       "      <td>494090.54875</td>\n",
       "      <td>8.0</td>\n",
       "      <td>5.0</td>\n",
       "      <td>12.0</td>\n",
       "    </tr>\n",
       "    <tr>\n",
       "      <th>2</th>\n",
       "      <td>9481400</td>\n",
       "      <td>6360136.05</td>\n",
       "      <td>375162.04730</td>\n",
       "      <td>6.0</td>\n",
       "      <td>4.0</td>\n",
       "      <td>9.0</td>\n",
       "    </tr>\n",
       "    <tr>\n",
       "      <th>3</th>\n",
       "      <td>10488500</td>\n",
       "      <td>6965280.31</td>\n",
       "      <td>415157.79044</td>\n",
       "      <td>7.0</td>\n",
       "      <td>4.0</td>\n",
       "      <td>10.0</td>\n",
       "    </tr>\n",
       "    <tr>\n",
       "      <th>4</th>\n",
       "      <td>13459000</td>\n",
       "      <td>8196922.13</td>\n",
       "      <td>477498.59102</td>\n",
       "      <td>8.0</td>\n",
       "      <td>5.0</td>\n",
       "      <td>13.0</td>\n",
       "    </tr>\n",
       "    <tr>\n",
       "      <th>5</th>\n",
       "      <td>9951500</td>\n",
       "      <td>7574021.02</td>\n",
       "      <td>365596.02956</td>\n",
       "      <td>8.0</td>\n",
       "      <td>4.0</td>\n",
       "      <td>10.0</td>\n",
       "    </tr>\n",
       "    <tr>\n",
       "      <th>6</th>\n",
       "      <td>11189000</td>\n",
       "      <td>7436403.73</td>\n",
       "      <td>361000.17429</td>\n",
       "      <td>7.0</td>\n",
       "      <td>4.0</td>\n",
       "      <td>11.0</td>\n",
       "    </tr>\n",
       "    <tr>\n",
       "      <th>7</th>\n",
       "      <td>11563000</td>\n",
       "      <td>9055934.41</td>\n",
       "      <td>451878.40904</td>\n",
       "      <td>9.0</td>\n",
       "      <td>5.0</td>\n",
       "      <td>12.0</td>\n",
       "    </tr>\n",
       "    <tr>\n",
       "      <th>8</th>\n",
       "      <td>16834500</td>\n",
       "      <td>11551233.77</td>\n",
       "      <td>475796.87554</td>\n",
       "      <td>12.0</td>\n",
       "      <td>5.0</td>\n",
       "      <td>17.0</td>\n",
       "    </tr>\n",
       "    <tr>\n",
       "      <th>9</th>\n",
       "      <td>11886500</td>\n",
       "      <td>7371126.34</td>\n",
       "      <td>396510.49254</td>\n",
       "      <td>7.0</td>\n",
       "      <td>4.0</td>\n",
       "      <td>12.0</td>\n",
       "    </tr>\n",
       "    <tr>\n",
       "      <th>10</th>\n",
       "      <td>12722500</td>\n",
       "      <td>7813772.39</td>\n",
       "      <td>480767.36981</td>\n",
       "      <td>8.0</td>\n",
       "      <td>5.0</td>\n",
       "      <td>13.0</td>\n",
       "    </tr>\n",
       "    <tr>\n",
       "      <th>11</th>\n",
       "      <td>12161500</td>\n",
       "      <td>8934799.69</td>\n",
       "      <td>547788.12626</td>\n",
       "      <td>9.0</td>\n",
       "      <td>5.0</td>\n",
       "      <td>12.0</td>\n",
       "    </tr>\n",
       "    <tr>\n",
       "      <th>12</th>\n",
       "      <td>17720000</td>\n",
       "      <td>11244402.01</td>\n",
       "      <td>556112.29179</td>\n",
       "      <td>11.0</td>\n",
       "      <td>6.0</td>\n",
       "      <td>18.0</td>\n",
       "    </tr>\n",
       "  </tbody>\n",
       "</table>\n",
       "</div>"
      ],
      "text/plain": [
       "                   offline_spend  online_spend  invoice_value  \\\n",
       "acquisition_month                                               \n",
       "1                       12365900    7686875.17   494090.54875   \n",
       "2                        9481400    6360136.05   375162.04730   \n",
       "3                       10488500    6965280.31   415157.79044   \n",
       "4                       13459000    8196922.13   477498.59102   \n",
       "5                        9951500    7574021.02   365596.02956   \n",
       "6                       11189000    7436403.73   361000.17429   \n",
       "7                       11563000    9055934.41   451878.40904   \n",
       "8                       16834500   11551233.77   475796.87554   \n",
       "9                       11886500    7371126.34   396510.49254   \n",
       "10                      12722500    7813772.39   480767.36981   \n",
       "11                      12161500    8934799.69   547788.12626   \n",
       "12                      17720000   11244402.01   556112.29179   \n",
       "\n",
       "                   online_spend_nearest_M  invoice_value_nearest_M  \\\n",
       "acquisition_month                                                    \n",
       "1                                     8.0                      5.0   \n",
       "2                                     6.0                      4.0   \n",
       "3                                     7.0                      4.0   \n",
       "4                                     8.0                      5.0   \n",
       "5                                     8.0                      4.0   \n",
       "6                                     7.0                      4.0   \n",
       "7                                     9.0                      5.0   \n",
       "8                                    12.0                      5.0   \n",
       "9                                     7.0                      4.0   \n",
       "10                                    8.0                      5.0   \n",
       "11                                    9.0                      5.0   \n",
       "12                                   11.0                      6.0   \n",
       "\n",
       "                   offline_spend_nearest_M  \n",
       "acquisition_month                           \n",
       "1                                     12.0  \n",
       "2                                      9.0  \n",
       "3                                     10.0  \n",
       "4                                     13.0  \n",
       "5                                     10.0  \n",
       "6                                     11.0  \n",
       "7                                     12.0  \n",
       "8                                     17.0  \n",
       "9                                     12.0  \n",
       "10                                    13.0  \n",
       "11                                    12.0  \n",
       "12                                    18.0  "
      ]
     },
     "execution_count": 59,
     "metadata": {},
     "output_type": "execute_result"
    }
   ],
   "source": [
    "sales_exp"
   ]
  },
  {
   "cell_type": "code",
   "execution_count": 60,
   "metadata": {},
   "outputs": [
    {
     "data": {
      "image/png": "[encoded data removed]",
      "text/plain": [
       "<Figure size 1000x600 with 1 Axes>"
      ]
     },
     "metadata": {},
     "output_type": "display_data"
    }
   ],
   "source": [
    "# Plotting the lines\n",
    "plt.figure(figsize=(10,6))\n",
    "plt.plot(sales_exp['online_spend_nearest_M'], marker='o', label='Online Spend')\n",
    "plt.plot(sales_exp['invoice_value_nearest_M'], marker='o', label='Invoice Value')\n",
    "plt.plot(sales_exp['offline_spend_nearest_M'], marker='o', label='Offline Spend')\n",
    "\n",
    "# Adding labels and title\n",
    "plt.xlabel('Month')\n",
    "plt.ylabel('Values')\n",
    "plt.title('Line Chart')\n",
    "plt.xticks( sales_exp.index.values)\n",
    "plt.legend()\n",
    "plt.grid(True)\n",
    "\n",
    "plt.show()\n"
   ]
  },
  {
   "cell_type": "markdown",
   "metadata": {},
   "source": [
    "The line chart displays the trends of Online Spend, Invoice Value, and Offline Spend over the course of a year. Here are the key observations:\n",
    "\n",
    "Online Spend:\n",
    "\n",
    "The blue line shows a steady increase in online spending over the months, with noticeable peaks in August and December.\n",
    "The upward trend suggests a continuous investment in online marketing, potentially aligning with significant promotional periods or campaigns.\n",
    "Offline Spend:\n",
    "\n",
    "The green line indicates fluctuations in offline spending, with prominent peaks in January, May, August, and December.\n",
    "Offline spend shows more volatility compared to online spend, possibly reflecting periodic offline marketing campaigns or seasonal advertising efforts.\n",
    "Invoice Value:\n",
    "\n",
    "The orange line remains relatively flat throughout the year, with a slight upward trend towards the end of the year.\n",
    "Despite the variations in online and offline spending, the invoice value shows less pronounced changes, indicating other factors might influence revenue beyond just marketing spend."
   ]
  },
  {
   "cell_type": "markdown",
   "metadata": {},
   "source": [
    " How the revenues from existing/new customers on month on month basis"
   ]
  },
  {
   "cell_type": "markdown",
   "metadata": {},
   "source": [
    "Define Existing and New Customers:\n",
    "Existing customers are those who made purchases in previous months.\n",
    "New customers are those who made their first purchase in the current month."
   ]
  },
  {
   "cell_type": "markdown",
   "metadata": {},
   "source": [
    "nc = new customers , \n",
    "oc = old customers"
   ]
  },
  {
   "cell_type": "code",
   "execution_count": 61,
   "metadata": {},
   "outputs": [],
   "source": [
    "nc_mnth_1 = list(month_1_customer)\n",
    "\n",
    "nc_mnth_2 = list(month_2_customer.difference(month_1_customer))\n",
    "oc_mnth_2 = list(month_2_customer.intersection(month_1_customer))\n",
    "\n",
    "nc_mnth_3 = list(month_3_customer.difference(month_2_customer))\n",
    "oc_mnth_3 = list(month_3_customer.intersection(month_2_customer))\n",
    "\n",
    "nc_mnth_4 = list(month_4_customer.difference(month_3_customer))\n",
    "oc_mnth_4 = list(month_4_customer.intersection(month_3_customer))\n",
    "\n",
    "nc_mnth_5 = list(month_5_customer.difference(month_4_customer))\n",
    "oc_mnth_5 = list(month_5_customer.intersection(month_4_customer))\n",
    "\n",
    "nc_mnth_6 = list(month_6_customer.difference(month_5_customer))\n",
    "oc_mnth_6 = list(month_6_customer.intersection(month_5_customer))\n",
    "\n",
    "nc_mnth_7 = list(month_7_customer.difference(month_6_customer))\n",
    "oc_mnth_7 = list(month_7_customer.intersection(month_6_customer))\n",
    "\n",
    "nc_mnth_8 = list(month_8_customer.difference(month_7_customer))\n",
    "oc_mnth_8 = list(month_8_customer.intersection(month_7_customer))\n",
    "\n",
    "nc_mnth_9 = list(month_9_customer.difference(month_8_customer))\n",
    "oc_mnth_9 = list(month_9_customer.intersection(month_8_customer))\n",
    "\n",
    "nc_mnth_10 = list(month_10_customer.difference(month_9_customer))\n",
    "oc_mnth_10 = list(month_10_customer.intersection(month_9_customer))\n",
    "\n",
    "nc_mnth_11 = list(month_11_customer.difference(month_10_customer))\n",
    "oc_mnth_11 = list(month_11_customer.intersection(month_10_customer))\n",
    "\n",
    "nc_mnth_12 = list(month_12_customer.difference(month_11_customer))\n",
    "oc_mnth_12 = list(month_12_customer.intersection(month_11_customer))"
   ]
  },
  {
   "cell_type": "markdown",
   "metadata": {},
   "source": [
    "calculating total sales of new customers"
   ]
  },
  {
   "cell_type": "code",
   "execution_count": 62,
   "metadata": {},
   "outputs": [
    {
     "name": "stderr",
     "output_type": "stream",
     "text": [
      "C:\\Users\\Mohdd\\AppData\\Local\\Temp\\ipykernel_1600\\1033957423.py:1: UserWarning: Boolean Series key will be reindexed to match DataFrame index.\n",
      "  nc_mnth_1_sales = (merge_frame[merge_frame['customerid'].isin(nc_mnth_1)][merge_frame['acquisition_month']==1]['invoice_value'].sum()/1e4).round(0)\n",
      "C:\\Users\\Mohdd\\AppData\\Local\\Temp\\ipykernel_1600\\1033957423.py:2: UserWarning: Boolean Series key will be reindexed to match DataFrame index.\n",
      "  nc_mnth_2_sales = (merge_frame[merge_frame['customerid'].isin(nc_mnth_2)][merge_frame['acquisition_month']==2]['invoice_value'].sum()/1e4).round(0)\n",
      "C:\\Users\\Mohdd\\AppData\\Local\\Temp\\ipykernel_1600\\1033957423.py:3: UserWarning: Boolean Series key will be reindexed to match DataFrame index.\n",
      "  nc_mnth_3_sales = (merge_frame[merge_frame['customerid'].isin(nc_mnth_3)][merge_frame['acquisition_month']==3]['invoice_value'].sum()/1e4).round(0)\n",
      "C:\\Users\\Mohdd\\AppData\\Local\\Temp\\ipykernel_1600\\1033957423.py:4: UserWarning: Boolean Series key will be reindexed to match DataFrame index.\n",
      "  nc_mnth_4_sales = (merge_frame[merge_frame['customerid'].isin(nc_mnth_4)][merge_frame['acquisition_month']==4]['invoice_value'].sum()/1e4).round(0)\n",
      "C:\\Users\\Mohdd\\AppData\\Local\\Temp\\ipykernel_1600\\1033957423.py:5: UserWarning: Boolean Series key will be reindexed to match DataFrame index.\n",
      "  nc_mnth_5_sales = (merge_frame[merge_frame['customerid'].isin(nc_mnth_5)][merge_frame['acquisition_month']==5]['invoice_value'].sum()/1e4).round(0)\n",
      "C:\\Users\\Mohdd\\AppData\\Local\\Temp\\ipykernel_1600\\1033957423.py:6: UserWarning: Boolean Series key will be reindexed to match DataFrame index.\n",
      "  nc_mnth_6_sales = (merge_frame[merge_frame['customerid'].isin(nc_mnth_6)][merge_frame['acquisition_month']==6]['invoice_value'].sum()/1e4).round(0)\n",
      "C:\\Users\\Mohdd\\AppData\\Local\\Temp\\ipykernel_1600\\1033957423.py:7: UserWarning: Boolean Series key will be reindexed to match DataFrame index.\n",
      "  nc_mnth_7_sales = (merge_frame[merge_frame['customerid'].isin(nc_mnth_7)][merge_frame['acquisition_month']==7]['invoice_value'].sum()/1e4).round(0)\n",
      "C:\\Users\\Mohdd\\AppData\\Local\\Temp\\ipykernel_1600\\1033957423.py:8: UserWarning: Boolean Series key will be reindexed to match DataFrame index.\n",
      "  nc_mnth_8_sales = (merge_frame[merge_frame['customerid'].isin(nc_mnth_8)][merge_frame['acquisition_month']==8]['invoice_value'].sum()/1e4).round(0)\n",
      "C:\\Users\\Mohdd\\AppData\\Local\\Temp\\ipykernel_1600\\1033957423.py:9: UserWarning: Boolean Series key will be reindexed to match DataFrame index.\n",
      "  nc_mnth_9_sales = (merge_frame[merge_frame['customerid'].isin(nc_mnth_9)][merge_frame['acquisition_month']==9]['invoice_value'].sum()/1e4).round(0)\n",
      "C:\\Users\\Mohdd\\AppData\\Local\\Temp\\ipykernel_1600\\1033957423.py:10: UserWarning: Boolean Series key will be reindexed to match DataFrame index.\n",
      "  nc_mnth_10_sales = (merge_frame[merge_frame['customerid'].isin(nc_mnth_10)][merge_frame['acquisition_month']==10]['invoice_value'].sum()/1e4).round(0)\n",
      "C:\\Users\\Mohdd\\AppData\\Local\\Temp\\ipykernel_1600\\1033957423.py:11: UserWarning: Boolean Series key will be reindexed to match DataFrame index.\n",
      "  nc_mnth_11_sales = (merge_frame[merge_frame['customerid'].isin(nc_mnth_11)][merge_frame['acquisition_month']==11]['invoice_value'].sum()/1e4).round(0)\n",
      "C:\\Users\\Mohdd\\AppData\\Local\\Temp\\ipykernel_1600\\1033957423.py:12: UserWarning: Boolean Series key will be reindexed to match DataFrame index.\n",
      "  nc_mnth_12_sales = (merge_frame[merge_frame['customerid'].isin(nc_mnth_12)][merge_frame['acquisition_month']==12]['invoice_value'].sum()/1e4).round(0)\n"
     ]
    }
   ],
   "source": [
    "nc_mnth_1_sales = (merge_frame[merge_frame['customerid'].isin(nc_mnth_1)][merge_frame['acquisition_month']==1]['invoice_value'].sum()/1e4).round(0)\n",
    "nc_mnth_2_sales = (merge_frame[merge_frame['customerid'].isin(nc_mnth_2)][merge_frame['acquisition_month']==2]['invoice_value'].sum()/1e4).round(0)\n",
    "nc_mnth_3_sales = (merge_frame[merge_frame['customerid'].isin(nc_mnth_3)][merge_frame['acquisition_month']==3]['invoice_value'].sum()/1e4).round(0)\n",
    "nc_mnth_4_sales = (merge_frame[merge_frame['customerid'].isin(nc_mnth_4)][merge_frame['acquisition_month']==4]['invoice_value'].sum()/1e4).round(0)\n",
    "nc_mnth_5_sales = (merge_frame[merge_frame['customerid'].isin(nc_mnth_5)][merge_frame['acquisition_month']==5]['invoice_value'].sum()/1e4).round(0)\n",
    "nc_mnth_6_sales = (merge_frame[merge_frame['customerid'].isin(nc_mnth_6)][merge_frame['acquisition_month']==6]['invoice_value'].sum()/1e4).round(0)\n",
    "nc_mnth_7_sales = (merge_frame[merge_frame['customerid'].isin(nc_mnth_7)][merge_frame['acquisition_month']==7]['invoice_value'].sum()/1e4).round(0)\n",
    "nc_mnth_8_sales = (merge_frame[merge_frame['customerid'].isin(nc_mnth_8)][merge_frame['acquisition_month']==8]['invoice_value'].sum()/1e4).round(0)\n",
    "nc_mnth_9_sales = (merge_frame[merge_frame['customerid'].isin(nc_mnth_9)][merge_frame['acquisition_month']==9]['invoice_value'].sum()/1e4).round(0)\n",
    "nc_mnth_10_sales = (merge_frame[merge_frame['customerid'].isin(nc_mnth_10)][merge_frame['acquisition_month']==10]['invoice_value'].sum()/1e4).round(0)\n",
    "nc_mnth_11_sales = (merge_frame[merge_frame['customerid'].isin(nc_mnth_11)][merge_frame['acquisition_month']==11]['invoice_value'].sum()/1e4).round(0)\n",
    "nc_mnth_12_sales = (merge_frame[merge_frame['customerid'].isin(nc_mnth_12)][merge_frame['acquisition_month']==12]['invoice_value'].sum()/1e4).round(0)"
   ]
  },
  {
   "cell_type": "code",
   "execution_count": 63,
   "metadata": {},
   "outputs": [],
   "source": [
    "nc_sales = [nc_mnth_1_sales, nc_mnth_2_sales, nc_mnth_3_sales, nc_mnth_4_sales, nc_mnth_5_sales, nc_mnth_6_sales, nc_mnth_7_sales, nc_mnth_8_sales, nc_mnth_9_sales, nc_mnth_10_sales, nc_mnth_11_sales, nc_mnth_12_sales]"
   ]
  },
  {
   "cell_type": "markdown",
   "metadata": {},
   "source": [
    "calculating sales of old customers"
   ]
  },
  {
   "cell_type": "code",
   "execution_count": 64,
   "metadata": {},
   "outputs": [
    {
     "name": "stderr",
     "output_type": "stream",
     "text": [
      "C:\\Users\\Mohdd\\AppData\\Local\\Temp\\ipykernel_1600\\424708941.py:1: UserWarning: Boolean Series key will be reindexed to match DataFrame index.\n",
      "  oc_mnth_2_sales = (merge_frame[merge_frame['customerid'].isin(oc_mnth_2)][merge_frame['acquisition_month']==2]['invoice_value'].sum()/1e4).round(0)\n",
      "C:\\Users\\Mohdd\\AppData\\Local\\Temp\\ipykernel_1600\\424708941.py:2: UserWarning: Boolean Series key will be reindexed to match DataFrame index.\n",
      "  oc_mnth_3_sales = (merge_frame[merge_frame['customerid'].isin(oc_mnth_3)][merge_frame['acquisition_month']==3]['invoice_value'].sum()/1e4).round(0)\n",
      "C:\\Users\\Mohdd\\AppData\\Local\\Temp\\ipykernel_1600\\424708941.py:3: UserWarning: Boolean Series key will be reindexed to match DataFrame index.\n",
      "  oc_mnth_4_sales = (merge_frame[merge_frame['customerid'].isin(oc_mnth_4)][merge_frame['acquisition_month']==4]['invoice_value'].sum()/1e4).round(0)\n",
      "C:\\Users\\Mohdd\\AppData\\Local\\Temp\\ipykernel_1600\\424708941.py:4: UserWarning: Boolean Series key will be reindexed to match DataFrame index.\n",
      "  oc_mnth_5_sales = (merge_frame[merge_frame['customerid'].isin(oc_mnth_5)][merge_frame['acquisition_month']==5]['invoice_value'].sum()/1e4).round(0)\n",
      "C:\\Users\\Mohdd\\AppData\\Local\\Temp\\ipykernel_1600\\424708941.py:5: UserWarning: Boolean Series key will be reindexed to match DataFrame index.\n",
      "  oc_mnth_6_sales = (merge_frame[merge_frame['customerid'].isin(oc_mnth_6)][merge_frame['acquisition_month']==6]['invoice_value'].sum()/1e4).round(0)\n",
      "C:\\Users\\Mohdd\\AppData\\Local\\Temp\\ipykernel_1600\\424708941.py:6: UserWarning: Boolean Series key will be reindexed to match DataFrame index.\n",
      "  oc_mnth_7_sales = (merge_frame[merge_frame['customerid'].isin(oc_mnth_7)][merge_frame['acquisition_month']==7]['invoice_value'].sum()/1e4).round(0)\n",
      "C:\\Users\\Mohdd\\AppData\\Local\\Temp\\ipykernel_1600\\424708941.py:7: UserWarning: Boolean Series key will be reindexed to match DataFrame index.\n",
      "  oc_mnth_8_sales = (merge_frame[merge_frame['customerid'].isin(oc_mnth_8)][merge_frame['acquisition_month']==8]['invoice_value'].sum()/1e4).round(0)\n",
      "C:\\Users\\Mohdd\\AppData\\Local\\Temp\\ipykernel_1600\\424708941.py:8: UserWarning: Boolean Series key will be reindexed to match DataFrame index.\n",
      "  oc_mnth_9_sales = (merge_frame[merge_frame['customerid'].isin(oc_mnth_9)][merge_frame['acquisition_month']==9]['invoice_value'].sum()/1e4).round(0)\n",
      "C:\\Users\\Mohdd\\AppData\\Local\\Temp\\ipykernel_1600\\424708941.py:9: UserWarning: Boolean Series key will be reindexed to match DataFrame index.\n",
      "  oc_mnth_10_sales = (merge_frame[merge_frame['customerid'].isin(oc_mnth_10)][merge_frame['acquisition_month']==10]['invoice_value'].sum()/1e4).round(0)\n",
      "C:\\Users\\Mohdd\\AppData\\Local\\Temp\\ipykernel_1600\\424708941.py:10: UserWarning: Boolean Series key will be reindexed to match DataFrame index.\n",
      "  oc_mnth_11_sales = (merge_frame[merge_frame['customerid'].isin(oc_mnth_11)][merge_frame['acquisition_month']==11]['invoice_value'].sum()/1e4).round(0)\n",
      "C:\\Users\\Mohdd\\AppData\\Local\\Temp\\ipykernel_1600\\424708941.py:11: UserWarning: Boolean Series key will be reindexed to match DataFrame index.\n",
      "  oc_mnth_12_sales = (merge_frame[merge_frame['customerid'].isin(oc_mnth_12)][merge_frame['acquisition_month']==12]['invoice_value'].sum()/1e4).round(0)\n"
     ]
    }
   ],
   "source": [
    "oc_mnth_2_sales = (merge_frame[merge_frame['customerid'].isin(oc_mnth_2)][merge_frame['acquisition_month']==2]['invoice_value'].sum()/1e4).round(0)\n",
    "oc_mnth_3_sales = (merge_frame[merge_frame['customerid'].isin(oc_mnth_3)][merge_frame['acquisition_month']==3]['invoice_value'].sum()/1e4).round(0)\n",
    "oc_mnth_4_sales = (merge_frame[merge_frame['customerid'].isin(oc_mnth_4)][merge_frame['acquisition_month']==4]['invoice_value'].sum()/1e4).round(0)\n",
    "oc_mnth_5_sales = (merge_frame[merge_frame['customerid'].isin(oc_mnth_5)][merge_frame['acquisition_month']==5]['invoice_value'].sum()/1e4).round(0)\n",
    "oc_mnth_6_sales = (merge_frame[merge_frame['customerid'].isin(oc_mnth_6)][merge_frame['acquisition_month']==6]['invoice_value'].sum()/1e4).round(0)\n",
    "oc_mnth_7_sales = (merge_frame[merge_frame['customerid'].isin(oc_mnth_7)][merge_frame['acquisition_month']==7]['invoice_value'].sum()/1e4).round(0)\n",
    "oc_mnth_8_sales = (merge_frame[merge_frame['customerid'].isin(oc_mnth_8)][merge_frame['acquisition_month']==8]['invoice_value'].sum()/1e4).round(0)\n",
    "oc_mnth_9_sales = (merge_frame[merge_frame['customerid'].isin(oc_mnth_9)][merge_frame['acquisition_month']==9]['invoice_value'].sum()/1e4).round(0)\n",
    "oc_mnth_10_sales = (merge_frame[merge_frame['customerid'].isin(oc_mnth_10)][merge_frame['acquisition_month']==10]['invoice_value'].sum()/1e4).round(0)\n",
    "oc_mnth_11_sales = (merge_frame[merge_frame['customerid'].isin(oc_mnth_11)][merge_frame['acquisition_month']==11]['invoice_value'].sum()/1e4).round(0)\n",
    "oc_mnth_12_sales = (merge_frame[merge_frame['customerid'].isin(oc_mnth_12)][merge_frame['acquisition_month']==12]['invoice_value'].sum()/1e4).round(0)"
   ]
  },
  {
   "cell_type": "code",
   "execution_count": 65,
   "metadata": {},
   "outputs": [],
   "source": [
    "oc_sales = [oc_mnth_2_sales, oc_mnth_3_sales, oc_mnth_4_sales, oc_mnth_5_sales, oc_mnth_6_sales, oc_mnth_7_sales, oc_mnth_8_sales, oc_mnth_9_sales, oc_mnth_10_sales, oc_mnth_11_sales, oc_mnth_12_sales]"
   ]
  },
  {
   "cell_type": "markdown",
   "metadata": {},
   "source": [
    "vizualizing the sales of new customers to old customers"
   ]
  },
  {
   "cell_type": "code",
   "execution_count": 66,
   "metadata": {},
   "outputs": [
    {
     "data": {
      "image/png": "[encoded data removed]",
      "text/plain": [
       "<Figure size 1500x600 with 1 Axes>"
      ]
     },
     "metadata": {},
     "output_type": "display_data"
    }
   ],
   "source": [
    "months = np.arange(1, 13)  \n",
    "plt.figure(figsize=(15, 6))\n",
    "plt.plot(months, nc_sales, marker='o', label='New Customer Sales')\n",
    "plt.plot(months[1:], oc_sales, marker='o', label='Retained Customers Sales')\n",
    "plt.xlabel('Month')  \n",
    "plt.ylabel('Sales (rounded to nearest thousand)')  \n",
    "plt.xticks(months) \n",
    "plt.legend()\n",
    "plt.title('Sales Comparison') \n",
    "plt.grid(True)  \n",
    "plt.show()\n"
   ]
  },
  {
   "cell_type": "markdown",
   "metadata": {},
   "source": [
    "\n",
    "The graph illustrates the comparison between sales from new customers and retained customers on a monthly basis over a year. Here are the key observations:\n",
    "\n",
    "New Customer Sales:\n",
    "\n",
    "Strong Start: Sales from new customers are at their highest in the first month.\n",
    "Initial Decline and Plateau: After the peak in the first month, there is a noticeable drop in sales, which then stabilize with minor fluctuations for several months.\n",
    "Year-End Surge: Toward the end of the year, sales from new customers rise again, reaching a peak similar to the first month.\n",
    "Retained Customer Sales:\n",
    "\n",
    "Lower Sales Throughout: Sales from retained customers remain consistently lower compared to new customers.\n",
    "Minor Variations: There are small increases in certain months, but overall sales from retained customers stay relatively flat."
   ]
  },
  {
   "cell_type": "markdown",
   "metadata": {},
   "source": [
    "How the discounts playing role in the revenues?"
   ]
  },
  {
   "cell_type": "code",
   "execution_count": 67,
   "metadata": {},
   "outputs": [],
   "source": [
    "rev_dis = merge_frame.groupby(['acquisition_month','discount_pct'])['invoice_value'].sum().to_frame()"
   ]
  },
  {
   "cell_type": "code",
   "execution_count": 68,
   "metadata": {},
   "outputs": [
    {
     "data": {
      "text/plain": [
       "array([3.79602460e+03, 4.90294524e+05, 3.56589300e+03, 3.71596154e+05,\n",
       "       5.88123240e+03, 4.09276558e+05, 6.02481020e+03, 4.71473781e+05,\n",
       "       4.91833120e+03, 3.60677698e+05, 2.70507860e+03, 3.58295096e+05,\n",
       "       4.19813600e+03, 4.47680273e+05, 2.46139520e+03, 4.73335480e+05,\n",
       "       1.08013440e+03, 3.95430358e+05, 1.89834900e+03, 4.78869021e+05,\n",
       "       4.19956000e+02, 5.47368170e+05, 5.56112292e+05])"
      ]
     },
     "execution_count": 68,
     "metadata": {},
     "output_type": "execute_result"
    }
   ],
   "source": [
    "rev_dis['invoice_value'].values"
   ]
  },
  {
   "cell_type": "code",
   "execution_count": 69,
   "metadata": {},
   "outputs": [
    {
     "data": {
      "text/plain": [
       "Index(['invoice_value'], dtype='object')"
      ]
     },
     "execution_count": 69,
     "metadata": {},
     "output_type": "execute_result"
    }
   ],
   "source": [
    "rev_dis.columns"
   ]
  },
  {
   "cell_type": "code",
   "execution_count": 70,
   "metadata": {},
   "outputs": [
    {
     "data": {
      "text/html": [
       "<div>\n",
       "<style scoped>\n",
       "    .dataframe tbody tr th:only-of-type {\n",
       "        vertical-align: middle;\n",
       "    }\n",
       "\n",
       "    .dataframe tbody tr th {\n",
       "        vertical-align: top;\n",
       "    }\n",
       "\n",
       "    .dataframe thead th {\n",
       "        text-align: right;\n",
       "    }\n",
       "</style>\n",
       "<table border=\"1\" class=\"dataframe\">\n",
       "  <thead>\n",
       "    <tr style=\"text-align: right;\">\n",
       "      <th></th>\n",
       "      <th></th>\n",
       "      <th>invoice_value</th>\n",
       "    </tr>\n",
       "    <tr>\n",
       "      <th>acquisition_month</th>\n",
       "      <th>discount_pct</th>\n",
       "      <th></th>\n",
       "    </tr>\n",
       "  </thead>\n",
       "  <tbody>\n",
       "    <tr>\n",
       "      <th rowspan=\"2\" valign=\"top\">1</th>\n",
       "      <th>0.0</th>\n",
       "      <td>3796.02460</td>\n",
       "    </tr>\n",
       "    <tr>\n",
       "      <th>0.1</th>\n",
       "      <td>490294.52415</td>\n",
       "    </tr>\n",
       "    <tr>\n",
       "      <th rowspan=\"2\" valign=\"top\">2</th>\n",
       "      <th>0.0</th>\n",
       "      <td>3565.89300</td>\n",
       "    </tr>\n",
       "    <tr>\n",
       "      <th>0.2</th>\n",
       "      <td>371596.15430</td>\n",
       "    </tr>\n",
       "    <tr>\n",
       "      <th rowspan=\"2\" valign=\"top\">3</th>\n",
       "      <th>0.0</th>\n",
       "      <td>5881.23240</td>\n",
       "    </tr>\n",
       "    <tr>\n",
       "      <th>0.3</th>\n",
       "      <td>409276.55804</td>\n",
       "    </tr>\n",
       "    <tr>\n",
       "      <th rowspan=\"2\" valign=\"top\">4</th>\n",
       "      <th>0.0</th>\n",
       "      <td>6024.81020</td>\n",
       "    </tr>\n",
       "    <tr>\n",
       "      <th>0.1</th>\n",
       "      <td>471473.78082</td>\n",
       "    </tr>\n",
       "    <tr>\n",
       "      <th rowspan=\"2\" valign=\"top\">5</th>\n",
       "      <th>0.0</th>\n",
       "      <td>4918.33120</td>\n",
       "    </tr>\n",
       "    <tr>\n",
       "      <th>0.2</th>\n",
       "      <td>360677.69836</td>\n",
       "    </tr>\n",
       "    <tr>\n",
       "      <th rowspan=\"2\" valign=\"top\">6</th>\n",
       "      <th>0.0</th>\n",
       "      <td>2705.07860</td>\n",
       "    </tr>\n",
       "    <tr>\n",
       "      <th>0.3</th>\n",
       "      <td>358295.09569</td>\n",
       "    </tr>\n",
       "    <tr>\n",
       "      <th rowspan=\"2\" valign=\"top\">7</th>\n",
       "      <th>0.0</th>\n",
       "      <td>4198.13600</td>\n",
       "    </tr>\n",
       "    <tr>\n",
       "      <th>0.1</th>\n",
       "      <td>447680.27304</td>\n",
       "    </tr>\n",
       "    <tr>\n",
       "      <th rowspan=\"2\" valign=\"top\">8</th>\n",
       "      <th>0.0</th>\n",
       "      <td>2461.39520</td>\n",
       "    </tr>\n",
       "    <tr>\n",
       "      <th>0.2</th>\n",
       "      <td>473335.48034</td>\n",
       "    </tr>\n",
       "    <tr>\n",
       "      <th rowspan=\"2\" valign=\"top\">9</th>\n",
       "      <th>0.0</th>\n",
       "      <td>1080.13440</td>\n",
       "    </tr>\n",
       "    <tr>\n",
       "      <th>0.3</th>\n",
       "      <td>395430.35814</td>\n",
       "    </tr>\n",
       "    <tr>\n",
       "      <th rowspan=\"2\" valign=\"top\">10</th>\n",
       "      <th>0.0</th>\n",
       "      <td>1898.34900</td>\n",
       "    </tr>\n",
       "    <tr>\n",
       "      <th>0.1</th>\n",
       "      <td>478869.02081</td>\n",
       "    </tr>\n",
       "    <tr>\n",
       "      <th rowspan=\"2\" valign=\"top\">11</th>\n",
       "      <th>0.0</th>\n",
       "      <td>419.95600</td>\n",
       "    </tr>\n",
       "    <tr>\n",
       "      <th>0.2</th>\n",
       "      <td>547368.17026</td>\n",
       "    </tr>\n",
       "    <tr>\n",
       "      <th>12</th>\n",
       "      <th>0.3</th>\n",
       "      <td>556112.29179</td>\n",
       "    </tr>\n",
       "  </tbody>\n",
       "</table>\n",
       "</div>"
      ],
      "text/plain": [
       "                                invoice_value\n",
       "acquisition_month discount_pct               \n",
       "1                 0.0              3796.02460\n",
       "                  0.1            490294.52415\n",
       "2                 0.0              3565.89300\n",
       "                  0.2            371596.15430\n",
       "3                 0.0              5881.23240\n",
       "                  0.3            409276.55804\n",
       "4                 0.0              6024.81020\n",
       "                  0.1            471473.78082\n",
       "5                 0.0              4918.33120\n",
       "                  0.2            360677.69836\n",
       "6                 0.0              2705.07860\n",
       "                  0.3            358295.09569\n",
       "7                 0.0              4198.13600\n",
       "                  0.1            447680.27304\n",
       "8                 0.0              2461.39520\n",
       "                  0.2            473335.48034\n",
       "9                 0.0              1080.13440\n",
       "                  0.3            395430.35814\n",
       "10                0.0              1898.34900\n",
       "                  0.1            478869.02081\n",
       "11                0.0               419.95600\n",
       "                  0.2            547368.17026\n",
       "12                0.3            556112.29179"
      ]
     },
     "execution_count": 70,
     "metadata": {},
     "output_type": "execute_result"
    }
   ],
   "source": [
    "rev_dis"
   ]
  },
  {
   "cell_type": "code",
   "execution_count": 71,
   "metadata": {},
   "outputs": [
    {
     "data": {
      "text/plain": [
       "Index([0.0, 0.1, 0.2, 0.3], dtype='float64', name='discount_pct')"
      ]
     },
     "execution_count": 71,
     "metadata": {},
     "output_type": "execute_result"
    }
   ],
   "source": [
    "rev_dis.index.levels[1]"
   ]
  },
  {
   "cell_type": "code",
   "execution_count": 72,
   "metadata": {},
   "outputs": [
    {
     "data": {
      "image/png": "[encoded data removed]",
      "text/plain": [
       "<Figure size 1000x600 with 1 Axes>"
      ]
     },
     "metadata": {},
     "output_type": "display_data"
    }
   ],
   "source": [
    "acquisition_month_values = rev_dis.index.levels[0]\n",
    "discount_pct_values = rev_dis.index.levels[1]\n",
    "invoice_value = rev_dis['invoice_value']\n",
    "\n",
    "bar_heights = []\n",
    "\n",
    "for discount_pct in discount_pct_values:\n",
    "    invoice_values = [invoice_value.get((month, discount_pct), 0) for month in acquisition_month_values]\n",
    "    bar_heights.append(invoice_values)\n",
    "\n",
    "bar_heights = np.array(bar_heights)\n",
    "bottom_values = np.zeros(len(acquisition_month_values))\n",
    "\n",
    "plt.figure(figsize=(10, 6))\n",
    "for i in range(len(discount_pct_values)):\n",
    "    plt.bar(acquisition_month_values, bar_heights[i], label=f'Discount {discount_pct_values[i]}', alpha=0.7, zorder=3,bottom=bottom_values)\n",
    "    bottom_values += bar_heights[i]\n",
    "\n",
    "plt.xlabel('Month')\n",
    "plt.ylabel('Invoice Value')\n",
    "plt.title('Stacked Bar Chart of Invoice Values by Month and Discount Percentage')\n",
    "plt.legend(title='Discount Percentage')\n",
    "plt.xticks(acquisition_month_values)\n",
    "plt.grid(True, which='both', linestyle='--', linewidth=0.5, zorder=0)\n",
    "plt.show()\n"
   ]
  },
  {
   "cell_type": "markdown",
   "metadata": {},
   "source": [
    "The stacked bar chart shows the distribution of invoice values across different months and discount percentages. Here's an analysis of how the discounts influence the revenues:\n",
    "\n",
    "Discount 0.0 (No Discount):\n",
    "This category is almost non-existent in most months, indicating that most sales involve some level of discount.\n",
    "When present, it contributes minimally to the total invoice value.\n",
    "\n",
    "Discount 0.1 (10% Discount):\n",
    "Significant contribution in the first month and consistently present in many other months.\n",
    "Peaks notably in the first, fourth, ninth, and tenth months, indicating strategic use of moderate discounts to drive sales during these periods.\n",
    "\n",
    "Discount 0.2 (20% Discount):\n",
    "High contribution in several months, particularly the middle and end of the year.\n",
    "Peaks in the fourth, seventh, eighth, and eleventh months, showing the company often offers larger discounts during these periods to boost invoice values.\n",
    "\n",
    "Discount 0.3 (30% Discount):\n",
    "Substantial presence in some months, particularly noticeable towards the end of the year.\n",
    "Peaks in the third, sixth, and twelfth months, indicating the use of heavy discounts to maximize sales during these months, potentially aligning with end-of-quarter or year-end sales strategies."
   ]
  },
  {
   "cell_type": "markdown",
   "metadata": {},
   "source": [
    "How number order varies and sales with different days?"
   ]
  },
  {
   "cell_type": "code",
   "execution_count": 73,
   "metadata": {},
   "outputs": [],
   "source": [
    "daily_summary = merge_frame.groupby('transaction_date').agg({'quantity': 'sum', 'invoice_value': 'sum'}).reset_index()"
   ]
  },
  {
   "cell_type": "code",
   "execution_count": 74,
   "metadata": {},
   "outputs": [
    {
     "data": {
      "image/png": "[encoded data removed]",
      "text/plain": [
       "<Figure size 1000x600 with 1 Axes>"
      ]
     },
     "metadata": {},
     "output_type": "display_data"
    }
   ],
   "source": [
    "plt.figure(figsize=(10, 6))\n",
    "plt.plot(daily_summary['transaction_date'], daily_summary['quantity'], label='quantity', color='blue')\n",
    "plt.plot(daily_summary['transaction_date'], daily_summary['invoice_value'], label='invoice_value', color='red')\n",
    "\n",
    "plt.xlabel('Date')\n",
    "plt.ylabel('Amount')\n",
    "plt.title('Number of Orders and Sales by Day')\n",
    "\n",
    "plt.legend()\n",
    "plt.grid(True)\n",
    "\n",
    "plt.xticks(rotation=90)\n",
    "\n",
    "plt.show()\n",
    "\n"
   ]
  },
  {
   "cell_type": "markdown",
   "metadata": {},
   "source": [
    "The graph illustrates the daily variations in the number of orders and sales (invoice value) over the course of a year. Here are the key observations:\n",
    "\n",
    "Number of Orders (Blue Line):\n",
    "\n",
    "Consistent but Low Volume: The number of orders remains relatively consistent throughout the year with minor fluctuations.\n",
    "Small Peaks: There are occasional small spikes in the number of orders, but these are not as pronounced as the variations in sales.\n",
    "\n",
    "Sales (Invoice Value) (Red Line):\n",
    "\n",
    "High Variability: The invoice value shows significant day-to-day fluctuations, indicating varying sales volumes.\n",
    "Frequent Spikes: There are numerous sharp peaks in sales throughout the year, suggesting days with exceptionally high sales.\n",
    "Seasonal Trends: Larger spikes appear periodically, with notable increases around March, May, and December, indicating higher sales during these periods.\n"
   ]
  },
  {
   "cell_type": "markdown",
   "metadata": {},
   "source": [
    "Calculate the Revenue, Marketing spend, percentage of marketing spend out of\n",
    "revenue, Tax, percentage of delivery charges by month.\n",
    "\n"
   ]
  },
  {
   "cell_type": "code",
   "execution_count": 75,
   "metadata": {},
   "outputs": [],
   "source": [
    "merge_frame['tax_paid'] = (merge_frame['avg_price'] * merge_frame['quantity'])*merge_frame['gst']"
   ]
  },
  {
   "cell_type": "code",
   "execution_count": 76,
   "metadata": {},
   "outputs": [],
   "source": [
    "merge_frame['total_markerting_exp'] = merge_frame['offline_spend'] + merge_frame['online_spend']"
   ]
  },
  {
   "cell_type": "code",
   "execution_count": 77,
   "metadata": {},
   "outputs": [],
   "source": [
    "monthly_summary = merge_frame.groupby('transaction_month').agg({'invoice_value': 'sum','total_markerting_exp':'sum','tax_paid':'sum','delivery_charges':'sum'}).reset_index()"
   ]
  },
  {
   "cell_type": "code",
   "execution_count": 78,
   "metadata": {},
   "outputs": [],
   "source": [
    "monthly_summary['marketing_spend_percentage'] = (monthly_summary['total_markerting_exp']/monthly_summary['invoice_value'])*100"
   ]
  },
  {
   "cell_type": "code",
   "execution_count": 79,
   "metadata": {},
   "outputs": [],
   "source": [
    "monthly_summary['delivery_charges_percentage'] = (monthly_summary['delivery_charges'] / monthly_summary['invoice_value']) * 100"
   ]
  },
  {
   "cell_type": "code",
   "execution_count": 80,
   "metadata": {},
   "outputs": [],
   "source": [
    "monthly_summary['invoice_percent_m-exp'] = ((monthly_summary['invoice_value']/monthly_summary['total_markerting_exp'])*100)"
   ]
  },
  {
   "cell_type": "code",
   "execution_count": 97,
   "metadata": {},
   "outputs": [
    {
     "data": {
      "text/plain": [
       "<Axes: >"
      ]
     },
     "execution_count": 97,
     "metadata": {},
     "output_type": "execute_result"
    },
    {
     "data": {
      "image/png": "[encoded data removed]",
      "text/plain": [
       "<Figure size 1000x600 with 1 Axes>"
      ]
     },
     "metadata": {},
     "output_type": "display_data"
    }
   ],
   "source": [
    "monthly_summary[['invoice_percent_m-exp','marketing_spend_percentage']].plot(kind='bar',stacked=True,color=['red','blue'],figsize=(10,6))"
   ]
  },
  {
   "cell_type": "markdown",
   "metadata": {},
   "source": [
    "How marketing spend is impacting on revenue"
   ]
  },
  {
   "cell_type": "code",
   "execution_count": 82,
   "metadata": {},
   "outputs": [
    {
     "data": {
      "text/plain": [
       "Index(['customerid', 'transaction_id', 'transaction_date', 'product_sku',\n",
       "       'product_description', 'product_category', 'quantity', 'avg_price',\n",
       "       'delivery_charges', 'coupon_status', 'transaction_month', 'coupon_code',\n",
       "       'discount_pct', 'gst', 'offline_spend', 'online_spend', 'invoice_value',\n",
       "       'acquisition_month', 'tax_paid', 'total_markerting_exp'],\n",
       "      dtype='object')"
      ]
     },
     "execution_count": 82,
     "metadata": {},
     "output_type": "execute_result"
    }
   ],
   "source": [
    "merge_frame.columns"
   ]
  },
  {
   "cell_type": "code",
   "execution_count": 83,
   "metadata": {},
   "outputs": [],
   "source": [
    "marketing_impact_summary = merge_frame.groupby('transaction_month')[['online_spend','offline_spend','invoice_value','total_markerting_exp']].sum()"
   ]
  },
  {
   "cell_type": "code",
   "execution_count": 84,
   "metadata": {},
   "outputs": [],
   "source": [
    "marketing_impact_summary.reset_index(inplace=True)"
   ]
  },
  {
   "cell_type": "code",
   "execution_count": 85,
   "metadata": {},
   "outputs": [
    {
     "data": {
      "text/plain": [
       "0.71"
      ]
     },
     "execution_count": 85,
     "metadata": {},
     "output_type": "execute_result"
    }
   ],
   "source": [
    "marketing_impact_summary['invoice_value'].corr(marketing_impact_summary['offline_spend']).__round__(2)"
   ]
  },
  {
   "cell_type": "code",
   "execution_count": 86,
   "metadata": {},
   "outputs": [
    {
     "data": {
      "text/plain": [
       "0.67"
      ]
     },
     "execution_count": 86,
     "metadata": {},
     "output_type": "execute_result"
    }
   ],
   "source": [
    "marketing_impact_summary['online_spend'].corr(marketing_impact_summary['invoice_value']).__round__(2)"
   ]
  },
  {
   "cell_type": "code",
   "execution_count": 87,
   "metadata": {},
   "outputs": [
    {
     "data": {
      "text/plain": [
       "0.71"
      ]
     },
     "execution_count": 87,
     "metadata": {},
     "output_type": "execute_result"
    }
   ],
   "source": [
    "marketing_impact_summary['total_markerting_exp'].corr(marketing_impact_summary['invoice_value']).__round__(2)"
   ]
  },
  {
   "cell_type": "markdown",
   "metadata": {},
   "source": [
    "we can observe that the marketing expenses(online,offline) and  invoice value has a moderate degree of relationship between the two variables. It's not extremely strong, but it's not weak either.\n",
    "But we have to consider that correlation doesnt mean causation"
   ]
  },
  {
   "cell_type": "markdown",
   "metadata": {},
   "source": [
    "Vizualizing the impact"
   ]
  },
  {
   "cell_type": "code",
   "execution_count": 88,
   "metadata": {},
   "outputs": [
    {
     "data": {
      "text/plain": [
       "Index(['transaction_month', 'online_spend', 'offline_spend', 'invoice_value',\n",
       "       'total_markerting_exp'],\n",
       "      dtype='object')"
      ]
     },
     "execution_count": 88,
     "metadata": {},
     "output_type": "execute_result"
    }
   ],
   "source": [
    "marketing_impact_summary.columns"
   ]
  },
  {
   "cell_type": "code",
   "execution_count": 98,
   "metadata": {},
   "outputs": [
    {
     "data": {
      "image/png": "[encoded data removed]",
      "text/plain": [
       "<Figure size 1000x600 with 1 Axes>"
      ]
     },
     "metadata": {},
     "output_type": "display_data"
    }
   ],
   "source": [
    "plt.figure(figsize=(10, 6))\n",
    "plt.plot(marketing_impact_summary['transaction_month'], marketing_impact_summary['online_spend'], label='online_spend', color='blue')\n",
    "plt.plot(marketing_impact_summary['transaction_month'], marketing_impact_summary['offline_spend'], label='offline_spend', color='red')\n",
    "plt.plot(marketing_impact_summary['transaction_month'], marketing_impact_summary['invoice_value'], label='invoice_value', color='green')\n",
    "\n",
    "plt.xlabel('Date')\n",
    "plt.ylabel('Amount')\n",
    "plt.title('Impact of marketing spend on revenue')\n",
    "\n",
    "plt.legend()\n",
    "plt.grid(True)\n",
    "\n",
    "plt.xticks(rotation=90)\n",
    "\n",
    "plt.show()"
   ]
  },
  {
   "cell_type": "markdown",
   "metadata": {},
   "source": [
    "we have observed previously that there was a moderate positive correlation between the variables but we cant observe any such impact "
   ]
  },
  {
   "cell_type": "markdown",
   "metadata": {},
   "source": [
    "Which product was appeared in the transactions?"
   ]
  },
  {
   "cell_type": "code",
   "execution_count": 90,
   "metadata": {},
   "outputs": [
    {
     "data": {
      "text/plain": [
       "array(['Nest-USA', 'Apparel', 'Fun', 'Headgear', 'Bags', 'Drinkware',\n",
       "       'Waze', 'Lifestyle', 'Office', 'Notebooks & Journals', 'Google',\n",
       "       'Nest-Canada', 'Backpacks', 'Bottles', 'Gift Cards', 'More Bags',\n",
       "       'Housewares', 'Android', 'Accessories', 'Nest'], dtype=object)"
      ]
     },
     "execution_count": 90,
     "metadata": {},
     "output_type": "execute_result"
    }
   ],
   "source": [
    "merge_frame['product_category'].unique()"
   ]
  },
  {
   "cell_type": "code",
   "execution_count": 91,
   "metadata": {},
   "outputs": [
    {
     "data": {
      "text/plain": [
       "array(['Nest Learning Thermostat 3rd Gen-USA - Stainless Steel',\n",
       "       \"Google Men's 100% Cotton Short Sleeve Hero Tee Black\",\n",
       "       'YouTube Luggage Tag', 'Google Trucker Hat',\n",
       "       'Collapsible Shopping Bag', \"Google Women's Yoga Jacket Black\",\n",
       "       'Android Rise 14 oz Mug',\n",
       "       'Android Glass Water Bottle with Black Sleeve',\n",
       "       'Nest Protect Smoke + CO White Battery Alarm-USA',\n",
       "       'Waze Mobile Phone Vent Mount',\n",
       "       \"Google Men's Short Sleeve Hero Tee Heather\",\n",
       "       'Nest Cam Outdoor Security Camera - USA', '7&quot; Dog Frisbee',\n",
       "       \"YouTube Men's Fleece Hoodie Black\",\n",
       "       'Nest Cam Indoor Security Camera - USA',\n",
       "       \"Google Women's Lightweight Microfleece Jacket\",\n",
       "       \"Google Women's Short Sleeve Hero Tee Sky Blue\",\n",
       "       'Engraved Ceramic Google Mug', 'Reusable Shopping Bag',\n",
       "       'Google Laptop and Cell Phone Stickers',\n",
       "       'Switch Tone Color Crayon Pen', 'Google Kick Ball', 'Maze Pen',\n",
       "       'Compact Selfie Stick', 'Red Shine 15 oz Mug',\n",
       "       \"Google Women's Short Sleeve Hero Tee White\",\n",
       "       \"Google Men's 100% Cotton Short Sleeve Hero Tee Red\",\n",
       "       'Nest Protect Smoke + CO White Wired Alarm-USA',\n",
       "       \"YouTube Men's Short Sleeve Hero Tee Black\", 'Badge Holder',\n",
       "       'Galaxy Screen Cleaning Cloth', 'Google Infuser-Top Water Bottle',\n",
       "       'Google 22 oz Water Bottle', 'Sport Bag',\n",
       "       'Google Canvas Tote Natural/Navy',\n",
       "       'Google Wool Heather Cap Heather/Navy', 'Ballpoint LED Light Pen',\n",
       "       'Color Changing Grip Pen', 'Spiral Notebook and Pen Set',\n",
       "       'Colored Pencil Set', 'Google Youth Short Sleeve T-shirt Green',\n",
       "       'Google Youth Short Sleeve T-shirt Royal Blue',\n",
       "       \"Google Men's Pullover Hoodie Grey\",\n",
       "       \"Google Women's Short Sleeve Hero Tee Red Heather\",\n",
       "       \"Google Women's Short Sleeve Hero Tee Black\",\n",
       "       \"Google Men's 100% Cotton Short Sleeve Hero Tee Navy\",\n",
       "       \"Google Men's Bike Short Sleeve Tee Charcoal\",\n",
       "       \"Google Women's Quilted Insulated Vest Black\",\n",
       "       'YouTube Spiral Journal with Pen', 'YouTube Custom Decals',\n",
       "       '23 oz Wide Mouth Sport Bottle',\n",
       "       'Android Sticker Sheet Ultra Removable',\n",
       "       'Google 17oz Stainless Steel Sport Bottle',\n",
       "       'Waze Mood Ninja Window Decal',\n",
       "       'Google Infant Zip Hood Royal Blue', 'Google Twill Cap',\n",
       "       'Android Infant Short Sleeve Tee Aqua',\n",
       "       \"Android Men's Short Sleeve Tri-blend Hero Tee Grey\",\n",
       "       'Android BTTF Moonshot Graphic Tee', 'Google Luggage Tag',\n",
       "       '26 oz Double Wall Insulated Bottle', 'Google Sunglasses',\n",
       "       'Google 25 oz Clear Stainless Steel Bottle',\n",
       "       'Google Zipper-front Sports Bag',\n",
       "       \"YouTube Women's Fleece Hoodie Black\", 'YouTube Twill Cap',\n",
       "       'Android Luggage Tag', \"Google Women's Vintage Hero Tee White\",\n",
       "       'Google Toddler Raglan Shirt Blue Heather/Navy',\n",
       "       \"Google Men's Long Sleeve Raglan Ocean Blue\",\n",
       "       'Nest Learning Thermostat 3rd Gen - CA - Stainless Steel',\n",
       "       'Nest Cam Indoor Security Camera - CA',\n",
       "       \"Google Men's Lightweight Microfleece Jacket Black\",\n",
       "       \"Google Women's Long Sleeve Tee Lavender\",\n",
       "       'Metal Texture Roller Pen', 'Google 5-Panel Cap',\n",
       "       'Google French Terry Cap', 'Keyboard DOT Sticker',\n",
       "       'Google Alpine Style Backpack', '25L Classic Rucksack',\n",
       "       'Nest Protect Smoke + CO White Battery Alarm - CA',\n",
       "       'Windup Android', 'Nest Protect Smoke + CO White Wired Alarm - CA',\n",
       "       'Google 40 oz Insulated Monster Bottle',\n",
       "       'Google Toddler 1/4 Zip Fleece Pewter',\n",
       "       'Google Toddler Hoodie Royal Blue', 'Google Onesie Red/Graphite',\n",
       "       \"Google Women's Tee Grey\", 'Google Collapsible Pet Bowl',\n",
       "       'Crunch Noise Dog Toy', 'Google Doodle Decal',\n",
       "       'Pen Pencil & Highlighter Set', 'Recycled Paper Journal Set',\n",
       "       'Google Pet Feeding Mat',\n",
       "       \"Google Women's Vintage Hero Tee Platinum\",\n",
       "       \"Google Men's Short Sleeve Badge Tee Charcoal\",\n",
       "       'Google Slim Utility Travel Bag', 'Red Spiral Google Notebook',\n",
       "       'Google RFID Journal', '22 oz Android Bottle',\n",
       "       'Suitcase Organizer Cubes', \"Waze Men's Short Sleeve Tee\",\n",
       "       'Waze Mood Original Window Decal',\n",
       "       \"Google Men's Microfiber 1/4 Zip Pullover Blue/Indigo\",\n",
       "       \"Google Women's Short Sleeve Badge Tee Red Heather\",\n",
       "       'Google Lunch Bag', 'Google Insulated Stainless Steel Bottle',\n",
       "       'Gift Card - $50.00',\n",
       "       'Nest Protect Smoke + CO Black Battery Alarm-USA',\n",
       "       \"Google Men's 100% Cotton Short Sleeve Hero Tee White\",\n",
       "       \"Google Men's  Zip Hoodie\",\n",
       "       \"Google Women's 1/4 Zip Performance Pullover Two-Tone Blue\",\n",
       "       \"Women's Performance Full Zip Jacket Black\",\n",
       "       \"Google Women's Zip Hoodie Grey\",\n",
       "       'Rubber Grip Ballpoint Pen 4 Pack',\n",
       "       'Retractable Ballpoint Pen Red',\n",
       "       'YouTube Leatherette Notebook Combo', '8 pc Android Sticker Sheet',\n",
       "       'Android Stretch Fit Hat M/L',\n",
       "       \"Google Men's Quilted Insulated Vest Battleship Grey\",\n",
       "       \"YouTube Men's Long Sleeve Pullover Badge Tee Heather\",\n",
       "       '24 oz YouTube Sergeant Stripe Bottle',\n",
       "       \"Google Women's Short Sleeve Badge Tee Navy\",\n",
       "       'Google Toddler Short Sleeve T-shirt Royal Blue',\n",
       "       'Google Toddler Short Sleeve T-shirt Green',\n",
       "       \"Google Men's Microfiber 1/4 Zip Pullover Grey/Black\",\n",
       "       \"Android Men's Vintage Tee\",\n",
       "       \"Google Men's Short Sleeve Performance Badge Tee Pewter\",\n",
       "       \"Google Men's Vintage Badge Tee White\", 'Seat Pack Organizer',\n",
       "       'Yoga Mat Blue', 'Google Blackout Cap',\n",
       "       'Foam Can and Bottle Cooler',\n",
       "       '20 oz Stainless Steel Insulated Tumbler', 'Leatherette Journal',\n",
       "       'Google Collapsible Duffel Black', 'Ballpoint Stick Pen 4 Pack',\n",
       "       \"Google Women's Fleece Hoodie\", '1 oz Hand Sanitizer',\n",
       "       'Android Toddler Short Sleeve T-shirt Aqua',\n",
       "       'Android Toddler Short Sleeve T-shirt Pink',\n",
       "       'Four Color Retractable Pen', 'Waterproof Backpack',\n",
       "       'Electronics Accessory Pouch', 'Google Tote Bag',\n",
       "       'Softsided Travel Pouch Set', 'Google Ballpoint Pen Black',\n",
       "       'Ballpoint Stylus Pen',\n",
       "       \"Google Men's Airflow 1/4 Zip Pullover Black\",\n",
       "       \"Google Men's Performance 1/4 Zip Pullover Heather/Black\",\n",
       "       'Gel Roller Pen', 'Google Accent Insulated Stainless Steel Bottle',\n",
       "       \"Google Men's Quilted Insulated Vest Black\",\n",
       "       \"Google Men's Watershed Full Zip Hoodie Grey\",\n",
       "       'Google Metallic Notebook Set', 'Google Onesie Green',\n",
       "       \"Google Men's Short Sleeve Performance Badge Tee Black\",\n",
       "       'Google Tri-blend Hoodie Grey',\n",
       "       'Nest Cam Outdoor Security Camera - CA',\n",
       "       'Waze Baby on Board Window Decal',\n",
       "       'Google 25 oz Red Stainless Steel Bottle',\n",
       "       'Grip Highlighter Pen 3 Pack', 'Ballpoint Pen Blue',\n",
       "       'Android Lunch Kit', \"Google Men's Vintage Badge Tee Black\",\n",
       "       \"Google Men's Short Sleeve Performance Badge Tee Charcoal\",\n",
       "       \"Google Men's Short Sleeve Performance Badge Tee Navy\",\n",
       "       'Google 25 oz Blue Stainless Steel Bottle', 'Rainbow Stylus Pen',\n",
       "       'Google Youth Short Sleeve T-shirt Yellow',\n",
       "       \"Waze Women's Short Sleeve Tee\", 'Waze Mood Happy Window Decal',\n",
       "       'Google Rucksack', 'Google Spiral Journal with Pen',\n",
       "       \"Google Men's Skater Tee Grey\", 'Gift Card- $100.00',\n",
       "       'SPF-15 Slim & Slender Lip Balm',\n",
       "       'Android Heavyweight Long Sleeve Badge Tee Black',\n",
       "       'Android 17oz Stainless Steel Sport Bottle',\n",
       "       'Android 25 oz Green Apple Stainless Steel Bottle',\n",
       "       \"Men's Softshell Jacket Black/Grey\",\n",
       "       \"Android Men's Engineer Short Sleeve Tee Charcoal\",\n",
       "       'Gift Card - $25.00',\n",
       "       \"Google Men's Around The Block Short Sleeve Tee Ash\",\n",
       "       'Bottle Opener Clip', 'Google Hard Cover Journal',\n",
       "       'Leather and Metal Ballpoint Pen', 'Google Leather Journal-Brown',\n",
       "       'YouTube Hard Cover Journal', 'YouTube RFID Journal',\n",
       "       'YouTube Wool Heather Cap Heather/Black', 'YouTube Trucker Hat',\n",
       "       '22 oz YouTube Bottle Infuser', 'Google Stylus Pen w/ LED Light',\n",
       "       'YouTube Infant Short Sleeve Tee Red',\n",
       "       'Google Womens 3/4 Sleeve Baseball Raglan Heather/Black',\n",
       "       \"Android Lifted Men's Short Sleeve Tee Blue\",\n",
       "       \"Google Men's Performance Hero Tee Gunmetal\",\n",
       "       \"Android Men's Pep Rally Short Sleeve Tee Navy\",\n",
       "       \"Google Men's Bayside Graphic Tee\",\n",
       "       \"Waze Men's Typography Short Sleeve Tee\",\n",
       "       \"Google Men's Short Sleeve Hero Tee Charcoal\", 'Insulated Bottle',\n",
       "       'Android Toddler Short Sleeve T-shirt Pewter',\n",
       "       'YouTube Notebook and Pen Set', 'Google Youth Girl Tee Green',\n",
       "       'Google Youth Girl Hoodie', 'Android Twill Cap',\n",
       "       \"Google Women's 1/4 Zip Performance Pullover Black\",\n",
       "       'Google Youth Baseball Raglan Heather/Black',\n",
       "       \"YouTube Men's Vintage Henley\",\n",
       "       \"Android Men's 3/4 Sleeve Raglan Henley Black\",\n",
       "       \"Men's Weatherblock Shell Jacket Black\",\n",
       "       \"YouTube Men's Short Sleeve Hero Tee Charcoal\",\n",
       "       'Android Youth Short Sleeve T-shirt Pewter',\n",
       "       \"Google Women's Short Sleeve Performance Tee Black\",\n",
       "       'Yoga Mat Purple', \"Android Men's Paradise Short Sleeve Tee Olive\",\n",
       "       \"Google Women's 1/4 Zip Jacket Charcoal\",\n",
       "       'Google Youth Short Sleeve Tee White',\n",
       "       \"Google Men's Vintage Badge Tee Sage\",\n",
       "       'Google Stretch Fit Hat M/L Navy',\n",
       "       'Google Stretch Fit Hat S/M Navy', \"Google Women's Yoga Pants\",\n",
       "       'Executive Twist Ballpoint Pen',\n",
       "       \"Google Women's Vintage Hero Tee Lavender\",\n",
       "       'Large Zipper Top Tote Bag', 'Satin Black Ballpoint Pen',\n",
       "       \"Google Men's Vintage Tank\",\n",
       "       'Android Infant Short Sleeve Tee Pink',\n",
       "       'Nest Protect Smoke + CO Black Wired Alarm-USA',\n",
       "       'YouTube Youth Short Sleeve Tee Red',\n",
       "       'Ballpoint Pen & Matching Tube Case',\n",
       "       'Google Toddler Short Sleeve Tee White',\n",
       "       'Android Hard Cover Journal',\n",
       "       \"Google Women's Vintage Hero Tee Black\",\n",
       "       \"Google Men's Long Sleeve Raglan Cranberry\",\n",
       "       \"Android Men's Short Sleeve Hero Tee White\", 'Straw Beach Mat',\n",
       "       \"YouTube Men's Short Sleeve Hero Tee  White\",\n",
       "       \"Google Men's Performance Polo Grey/Black\",\n",
       "       \"Android Women's Fleece Hoodie\", \"YouTube Men's Vintage Tee\",\n",
       "       'Google Stretch Fit Hat L/XL Navy',\n",
       "       'Google Toddler Short Sleeve T-shirt Yellow',\n",
       "       'You Tube Toddler Short Sleeve Tee Red',\n",
       "       'Google Vintage Henley Grey/Black', 'Gunmetal Roller Ball Pen',\n",
       "       'Google Executive Umbrella', 'Google Toddler Short Sleeve Tee Red',\n",
       "       \"Android Men's Short Sleeve Hero Tee Heather\",\n",
       "       'Android BTTF Cosmos Graphic Tee', \"Android Men's  Zip Hoodie\",\n",
       "       'Android Journal Book Set', 'Android 24 oz Contigo Bottle',\n",
       "       \"Google Men's Long Sleeve Pullover Badge Tee Heather\",\n",
       "       \"Google Men's Performance Full Zip Jacket Black\",\n",
       "       'Google Toddler Short Sleeve T-shirt Grey',\n",
       "       \"YouTube Women's Short Sleeve Tri-blend Badge Tee Charcoal\",\n",
       "       \"YouTube Men's Short Sleeve Hero Tee White\",\n",
       "       'Google Youth Sports Tee Navy', 'Google Onesie Red',\n",
       "       'Android Onesie Sprout Green',\n",
       "       \"YouTube Women's Short Sleeve Hero Tee Charcoal\",\n",
       "       \"Google Men's Long & Lean Tee Grey\",\n",
       "       \"Android Women's Long Sleeve Blended Cardigan Grey\",\n",
       "       'Google Infant Short Sleeve Tee Red',\n",
       "       \"Google Women's Scoop Neck Tee White\",\n",
       "       \"Google Women's Short Sleeve Hero Tee Grey\",\n",
       "       \"Google Women's Scoop Neck Tee Black\", 'Google Laptop Backpack',\n",
       "       'Google Leather Perforated Journal',\n",
       "       'YouTube Womens 3/4 Sleeve Baseball Raglan White/Black',\n",
       "       \"Android Men's Outerstellar Short Sleeve Tee Black\",\n",
       "       \"Google Women's Quilted Insulated Vest White\",\n",
       "       'Android Infant Short Sleeve Tee Pewter', 'YouTube Onesie Heather',\n",
       "       \"Google Men's Airflow 1/4 Zip Pullover Lapis\",\n",
       "       \"Android Men's Take Charge Short Sleeve Tee Purple\",\n",
       "       \"Android Men's Vintage Tank\", 'Google Onesie Royal Blue',\n",
       "       'Google 3/4 Sleeve Raglan Badge Henley Black',\n",
       "       \"Waze Women's Typography Short Sleeve Tee\",\n",
       "       'Google Infant Zip Hood Pink', 'Android RFID Journal',\n",
       "       'UpCycled Bike Saddle Bag',\n",
       "       \"Google Women's Performance Golf Polo Blue\",\n",
       "       \"Google Women's Scoop Neck Tee Green\",\n",
       "       'Google Infant Short Sleeve Tee Cornflower Blue',\n",
       "       'Google Infant Short Sleeve Tee White',\n",
       "       \"Google Men's 3/4 Sleeve Raglan Henley Grey\",\n",
       "       'Google Collapsible Duffel Blue', 'Google Leather Journal-Black',\n",
       "       'Android Youth Short Sleeve T-shirt Aqua',\n",
       "       \"YouTube Men's 3/4 Sleeve Henley\", 'Android Onesie Baby Blue',\n",
       "       \"Android Men's Vintage Henley\",\n",
       "       'Google 17 oz Double Wall Stainless Steel Insulated Bottle',\n",
       "       'Google Youth Short Sleeve Tee Red',\n",
       "       \"Google Women's Short Sleeve Hero Tee Heather\",\n",
       "       'Android Wool Heather Cap Heather/Black', 'Android Onesie Gold',\n",
       "       \"Google Women's Softshell Jacket Black/Grey\",\n",
       "       'Google Snapback Hat Black',\n",
       "       \"YouTube Women's Racer Back Tank Black\",\n",
       "       \"Android Women's Short Sleeve Badge Tee Light Charcoal\",\n",
       "       \"Android Men's Skater Badge Tee Charcoal\",\n",
       "       'Google 5-Panel Snapback Cap', 'Google Spiral Leather Journal',\n",
       "       \"YouTube Men's Vintage Tank\", 'BLM Sweatshirt',\n",
       "       \"Women's Weatherblock Shell Jacket Black\",\n",
       "       \"YouTube Women's Short Sleeve Tri-blend Badge Tee Grey\",\n",
       "       'Android 5-Panel Low Cap', 'Yoga Block',\n",
       "       \"Google Women's Short Sleeve Badge Tee Grey\",\n",
       "       \"Google Women's Convertible Vest-Jacket Black\",\n",
       "       \"Google Men's Convertible Vest-Jacket Pewter\",\n",
       "       \"Google Women's Convertible Vest-Jacket Sea Foam Green\",\n",
       "       \"Google Men's Colorblock Tee White/Heather\",\n",
       "       \"Google Women's Short Sleeve Performance Tee Navy\",\n",
       "       \"Android Women's Racer Back Tank Black\",\n",
       "       'Android Spiral Journal with Pen', 'Waterproof Gear Bag',\n",
       "       \"YouTube Men's Long & Lean Tee Charcoal\",\n",
       "       \"Google Men's Long & Lean Tee Charcoal\",\n",
       "       \"Android Men's Long & Lean Badge Tee Charcoal\",\n",
       "       'UpCycled Handlebar Bag', 'Google Toddler Sports T-shirt Red',\n",
       "       'Android Stretch Fit Hat L/XL', 'Android Stretch Fit Hat',\n",
       "       \"Google Women's Short Sleeve Performance Tee Pewter\",\n",
       "       'Gift Card - $250.00',\n",
       "       \"Google Men's Short Sleeve Hero Tee Light Blue\",\n",
       "       \"YouTube Men's Skater Tee Charcoal\",\n",
       "       \"Android Women's Short Sleeve Tri-blend Badge Tee Light Blue\",\n",
       "       \"Google Women's Performance Hero Tee Gunmetal\",\n",
       "       \"Google Men's Heavyweight Long Sleeve Hero Tee Navy\",\n",
       "       'Waze Dress Socks',\n",
       "       \"Google Women's Short Sleeve Performance Tee Charcoal\",\n",
       "       'Nest Learning Thermostat 3rd Gen-USA - Copper',\n",
       "       'Nest Learning Thermostat 3rd Gen-USA - White',\n",
       "       \"Google Women's Performance Polo Grey/Black\",\n",
       "       \"Android Men's Long Sleeve Badge Crew Tee Heather\",\n",
       "       'Android Baby Esssentials Set', 'Google Baby Essentials Set',\n",
       "       'Waze Pack of 9 Decal Set', 'Google Laptop Tech Backpack',\n",
       "       \"Google Women's Long Sleeve Blended Cardigan Charcoal\",\n",
       "       \"Google Women's Shell Jacket Blue/Black\",\n",
       "       'Google Infant Short Sleeve Tee Royal Blue',\n",
       "       'Android Stretch Fit Hat S/M',\n",
       "       \"Google Women's Colorblock Tee White\",\n",
       "       \"Google Women's Short Sleeve Hero Dark Grey\", 'Nest Cam IQ - USA',\n",
       "       'Gift Card - $10.00', 'Emoji Sticker Sheet',\n",
       "       'Nest Secure Alarm System Starter Pack - USA',\n",
       "       'Nest Cam IQ Outdoor - USA (Preorder)', 'Nest Thermostat E - USA',\n",
       "       \"Google Men's Heavyweight Long Sleeve Hero Tee Burgundy\",\n",
       "       'Compact Journal with Recycled Pages', 'Nest  Thermostat E - CA',\n",
       "       'Android Small Removable Sticker Sheet',\n",
       "       'Google Large Standard Journal Navy',\n",
       "       'Android Large Removable Sticker Sheet', 'Nest Cam IQ - CA',\n",
       "       'Google Rolltop Backpack Blue', 'Google Snapback Black Cap',\n",
       "       'Google Snapback Navy Cap', 'Google Emoji Sticker Pack',\n",
       "       'YouTube Kids Onesie White', 'Google Trike Tee Black',\n",
       "       'Google Tee Blue', 'Google Crewneck Sweatshirt Navy',\n",
       "       'Google Crew Sweater Navy', \"YouTube Women's Favorite Tee White\",\n",
       "       'Google Protector Tee Navy', 'YouTube Kids Tee White',\n",
       "       'Google Flower Tee Purple', 'Android Matrix Tee White',\n",
       "       'YouTube Tee Black', 'Google Tee Green',\n",
       "       \"Android Women's Peace Tee Black\", \"Android Women's Dash Tee Grey\",\n",
       "       'YouTube 3 lines Tee Grey', 'Google Tee Red',\n",
       "       'Android Tone Hoodie Black', 'Nest Detect - USA',\n",
       "       'Google Braille Tee Black', 'Nest Tag - USA',\n",
       "       'Google Thermal Bottle Green', 'Google Thermal Bottle Red',\n",
       "       'Google Tee Yellow', 'YouTube Kids Tee Black',\n",
       "       'Google Thermal Bottle Blue', 'YouTube Transmission Journal Black',\n",
       "       'Google Thermal Bottle Yellow', \"Google Women's Coder Tee Navy\",\n",
       "       'Google Zip Hoodie Black', 'Google Infant Short Sleeve Tee Green',\n",
       "       'Google White Force 17 oz Bottle', 'Google Hub Mug White',\n",
       "       'Google Large Standard Journal Grey'], dtype=object)"
      ]
     },
     "execution_count": 91,
     "metadata": {},
     "output_type": "execute_result"
    }
   ],
   "source": [
    "merge_frame['product_description'].unique()"
   ]
  },
  {
   "cell_type": "markdown",
   "metadata": {},
   "source": [
    "Which product was purchased mostly based on the quantity?"
   ]
  },
  {
   "cell_type": "code",
   "execution_count": 92,
   "metadata": {},
   "outputs": [
    {
     "data": {
      "text/html": [
       "<div>\n",
       "<style scoped>\n",
       "    .dataframe tbody tr th:only-of-type {\n",
       "        vertical-align: middle;\n",
       "    }\n",
       "\n",
       "    .dataframe tbody tr th {\n",
       "        vertical-align: top;\n",
       "    }\n",
       "\n",
       "    .dataframe thead th {\n",
       "        text-align: right;\n",
       "    }\n",
       "</style>\n",
       "<table border=\"1\" class=\"dataframe\">\n",
       "  <thead>\n",
       "    <tr style=\"text-align: right;\">\n",
       "      <th></th>\n",
       "      <th>customerid</th>\n",
       "      <th>transaction_id</th>\n",
       "      <th>transaction_date</th>\n",
       "      <th>product_sku</th>\n",
       "      <th>product_description</th>\n",
       "      <th>product_category</th>\n",
       "      <th>quantity</th>\n",
       "      <th>avg_price</th>\n",
       "      <th>delivery_charges</th>\n",
       "      <th>coupon_status</th>\n",
       "      <th>transaction_month</th>\n",
       "      <th>coupon_code</th>\n",
       "      <th>discount_pct</th>\n",
       "      <th>gst</th>\n",
       "      <th>offline_spend</th>\n",
       "      <th>online_spend</th>\n",
       "      <th>invoice_value</th>\n",
       "      <th>acquisition_month</th>\n",
       "      <th>tax_paid</th>\n",
       "      <th>total_markerting_exp</th>\n",
       "    </tr>\n",
       "  </thead>\n",
       "  <tbody>\n",
       "    <tr>\n",
       "      <th>42456</th>\n",
       "      <td>14541</td>\n",
       "      <td>40835</td>\n",
       "      <td>2019-10-16</td>\n",
       "      <td>GGOEGGOA017399</td>\n",
       "      <td>Maze Pen</td>\n",
       "      <td>Office</td>\n",
       "      <td>900</td>\n",
       "      <td>0.99</td>\n",
       "      <td>12.99</td>\n",
       "      <td>Used</td>\n",
       "      <td>10</td>\n",
       "      <td>OFF10</td>\n",
       "      <td>0.1</td>\n",
       "      <td>0.1</td>\n",
       "      <td>2500</td>\n",
       "      <td>1218.6</td>\n",
       "      <td>895.08</td>\n",
       "      <td>10</td>\n",
       "      <td>89.1</td>\n",
       "      <td>3718.6</td>\n",
       "    </tr>\n",
       "  </tbody>\n",
       "</table>\n",
       "</div>"
      ],
      "text/plain": [
       "       customerid  transaction_id transaction_date     product_sku  \\\n",
       "42456       14541           40835       2019-10-16  GGOEGGOA017399   \n",
       "\n",
       "      product_description product_category  quantity  avg_price  \\\n",
       "42456            Maze Pen           Office       900       0.99   \n",
       "\n",
       "       delivery_charges coupon_status  transaction_month coupon_code  \\\n",
       "42456             12.99          Used                 10       OFF10   \n",
       "\n",
       "       discount_pct  gst  offline_spend  online_spend  invoice_value  \\\n",
       "42456           0.1  0.1           2500        1218.6         895.08   \n",
       "\n",
       "       acquisition_month  tax_paid  total_markerting_exp  \n",
       "42456                 10      89.1                3718.6  "
      ]
     },
     "execution_count": 92,
     "metadata": {},
     "output_type": "execute_result"
    }
   ],
   "source": [
    "merge_frame[merge_frame['quantity']==900]"
   ]
  },
  {
   "cell_type": "markdown",
   "metadata": {},
   "source": [
    "top 10 products that was purchased mostly based on the quantity?"
   ]
  },
  {
   "cell_type": "code",
   "execution_count": 93,
   "metadata": {},
   "outputs": [
    {
     "data": {
      "text/html": [
       "<div>\n",
       "<style scoped>\n",
       "    .dataframe tbody tr th:only-of-type {\n",
       "        vertical-align: middle;\n",
       "    }\n",
       "\n",
       "    .dataframe tbody tr th {\n",
       "        vertical-align: top;\n",
       "    }\n",
       "\n",
       "    .dataframe thead th {\n",
       "        text-align: right;\n",
       "    }\n",
       "</style>\n",
       "<table border=\"1\" class=\"dataframe\">\n",
       "  <thead>\n",
       "    <tr style=\"text-align: right;\">\n",
       "      <th></th>\n",
       "      <th>customerid</th>\n",
       "      <th>transaction_id</th>\n",
       "      <th>transaction_date</th>\n",
       "      <th>product_sku</th>\n",
       "      <th>product_description</th>\n",
       "      <th>product_category</th>\n",
       "      <th>quantity</th>\n",
       "      <th>avg_price</th>\n",
       "      <th>delivery_charges</th>\n",
       "      <th>coupon_status</th>\n",
       "      <th>transaction_month</th>\n",
       "      <th>coupon_code</th>\n",
       "      <th>discount_pct</th>\n",
       "      <th>gst</th>\n",
       "      <th>offline_spend</th>\n",
       "      <th>online_spend</th>\n",
       "      <th>invoice_value</th>\n",
       "      <th>acquisition_month</th>\n",
       "      <th>tax_paid</th>\n",
       "      <th>total_markerting_exp</th>\n",
       "    </tr>\n",
       "  </thead>\n",
       "  <tbody>\n",
       "    <tr>\n",
       "      <th>42456</th>\n",
       "      <td>14541</td>\n",
       "      <td>40835</td>\n",
       "      <td>2019-10-16</td>\n",
       "      <td>GGOEGGOA017399</td>\n",
       "      <td>Maze Pen</td>\n",
       "      <td>Office</td>\n",
       "      <td>900</td>\n",
       "      <td>0.99</td>\n",
       "      <td>12.99</td>\n",
       "      <td>Used</td>\n",
       "      <td>10</td>\n",
       "      <td>OFF10</td>\n",
       "      <td>0.1</td>\n",
       "      <td>0.10</td>\n",
       "      <td>2500</td>\n",
       "      <td>1218.60</td>\n",
       "      <td>895.0800</td>\n",
       "      <td>10</td>\n",
       "      <td>89.1000</td>\n",
       "      <td>3718.60</td>\n",
       "    </tr>\n",
       "    <tr>\n",
       "      <th>20992</th>\n",
       "      <td>16782</td>\n",
       "      <td>29657</td>\n",
       "      <td>2019-06-05</td>\n",
       "      <td>GGOEGGOA017399</td>\n",
       "      <td>Maze Pen</td>\n",
       "      <td>Office</td>\n",
       "      <td>825</td>\n",
       "      <td>0.79</td>\n",
       "      <td>85.33</td>\n",
       "      <td>Used</td>\n",
       "      <td>6</td>\n",
       "      <td>OFF30</td>\n",
       "      <td>0.3</td>\n",
       "      <td>0.10</td>\n",
       "      <td>3500</td>\n",
       "      <td>3202.10</td>\n",
       "      <td>587.1775</td>\n",
       "      <td>6</td>\n",
       "      <td>65.1750</td>\n",
       "      <td>6702.10</td>\n",
       "    </tr>\n",
       "    <tr>\n",
       "      <th>21364</th>\n",
       "      <td>17858</td>\n",
       "      <td>29898</td>\n",
       "      <td>2019-06-08</td>\n",
       "      <td>GGOEGGOA017399</td>\n",
       "      <td>Maze Pen</td>\n",
       "      <td>Office</td>\n",
       "      <td>825</td>\n",
       "      <td>0.79</td>\n",
       "      <td>85.33</td>\n",
       "      <td>Used</td>\n",
       "      <td>6</td>\n",
       "      <td>OFF30</td>\n",
       "      <td>0.3</td>\n",
       "      <td>0.10</td>\n",
       "      <td>3500</td>\n",
       "      <td>1598.46</td>\n",
       "      <td>587.1775</td>\n",
       "      <td>6</td>\n",
       "      <td>65.1750</td>\n",
       "      <td>5098.46</td>\n",
       "    </tr>\n",
       "    <tr>\n",
       "      <th>30192</th>\n",
       "      <td>15194</td>\n",
       "      <td>34429</td>\n",
       "      <td>2019-08-02</td>\n",
       "      <td>GGOEGHPJ080310</td>\n",
       "      <td>Google Blackout Cap</td>\n",
       "      <td>Headgear</td>\n",
       "      <td>791</td>\n",
       "      <td>13.29</td>\n",
       "      <td>6.00</td>\n",
       "      <td>Used</td>\n",
       "      <td>8</td>\n",
       "      <td>HGEAR20</td>\n",
       "      <td>0.2</td>\n",
       "      <td>0.05</td>\n",
       "      <td>1500</td>\n",
       "      <td>2155.96</td>\n",
       "      <td>8836.4076</td>\n",
       "      <td>8</td>\n",
       "      <td>525.6195</td>\n",
       "      <td>3655.96</td>\n",
       "    </tr>\n",
       "    <tr>\n",
       "      <th>12173</th>\n",
       "      <td>13113</td>\n",
       "      <td>24863</td>\n",
       "      <td>2019-04-05</td>\n",
       "      <td>GGOEGHGH019699</td>\n",
       "      <td>Google Sunglasses</td>\n",
       "      <td>Lifestyle</td>\n",
       "      <td>750</td>\n",
       "      <td>3.50</td>\n",
       "      <td>6.50</td>\n",
       "      <td>Used</td>\n",
       "      <td>4</td>\n",
       "      <td>EXTRA10</td>\n",
       "      <td>0.1</td>\n",
       "      <td>0.18</td>\n",
       "      <td>2500</td>\n",
       "      <td>2342.68</td>\n",
       "      <td>2794.2500</td>\n",
       "      <td>4</td>\n",
       "      <td>472.5000</td>\n",
       "      <td>4842.68</td>\n",
       "    </tr>\n",
       "    <tr>\n",
       "      <th>42941</th>\n",
       "      <td>15110</td>\n",
       "      <td>41214</td>\n",
       "      <td>2019-10-20</td>\n",
       "      <td>GGOEGGOA017399</td>\n",
       "      <td>Maze Pen</td>\n",
       "      <td>Office</td>\n",
       "      <td>600</td>\n",
       "      <td>0.99</td>\n",
       "      <td>19.99</td>\n",
       "      <td>Used</td>\n",
       "      <td>10</td>\n",
       "      <td>OFF10</td>\n",
       "      <td>0.1</td>\n",
       "      <td>0.10</td>\n",
       "      <td>2500</td>\n",
       "      <td>2827.25</td>\n",
       "      <td>608.0500</td>\n",
       "      <td>10</td>\n",
       "      <td>59.4000</td>\n",
       "      <td>5327.25</td>\n",
       "    </tr>\n",
       "    <tr>\n",
       "      <th>33422</th>\n",
       "      <td>17365</td>\n",
       "      <td>35967</td>\n",
       "      <td>2019-08-18</td>\n",
       "      <td>GGOEGGOA017399</td>\n",
       "      <td>Maze Pen</td>\n",
       "      <td>Office</td>\n",
       "      <td>600</td>\n",
       "      <td>0.79</td>\n",
       "      <td>106.38</td>\n",
       "      <td>Used</td>\n",
       "      <td>8</td>\n",
       "      <td>OFF20</td>\n",
       "      <td>0.2</td>\n",
       "      <td>0.10</td>\n",
       "      <td>3500</td>\n",
       "      <td>1696.64</td>\n",
       "      <td>523.5000</td>\n",
       "      <td>8</td>\n",
       "      <td>47.4000</td>\n",
       "      <td>5196.64</td>\n",
       "    </tr>\n",
       "    <tr>\n",
       "      <th>5544</th>\n",
       "      <td>15351</td>\n",
       "      <td>20374</td>\n",
       "      <td>2019-02-14</td>\n",
       "      <td>GGOEGBJC019999</td>\n",
       "      <td>Collapsible Shopping Bag</td>\n",
       "      <td>Bags</td>\n",
       "      <td>600</td>\n",
       "      <td>4.99</td>\n",
       "      <td>6.50</td>\n",
       "      <td>Clicked</td>\n",
       "      <td>2</td>\n",
       "      <td>AIO20</td>\n",
       "      <td>0.2</td>\n",
       "      <td>0.18</td>\n",
       "      <td>3000</td>\n",
       "      <td>830.68</td>\n",
       "      <td>3539.4200</td>\n",
       "      <td>2</td>\n",
       "      <td>538.9200</td>\n",
       "      <td>3830.68</td>\n",
       "    </tr>\n",
       "    <tr>\n",
       "      <th>30795</th>\n",
       "      <td>15601</td>\n",
       "      <td>34709</td>\n",
       "      <td>2019-08-04</td>\n",
       "      <td>GGOEGFKQ020399</td>\n",
       "      <td>Google Laptop and Cell Phone Stickers</td>\n",
       "      <td>Office</td>\n",
       "      <td>600</td>\n",
       "      <td>2.39</td>\n",
       "      <td>190.42</td>\n",
       "      <td>Clicked</td>\n",
       "      <td>8</td>\n",
       "      <td>OFF20</td>\n",
       "      <td>0.2</td>\n",
       "      <td>0.10</td>\n",
       "      <td>1500</td>\n",
       "      <td>2688.98</td>\n",
       "      <td>1767.8200</td>\n",
       "      <td>8</td>\n",
       "      <td>143.4000</td>\n",
       "      <td>4188.98</td>\n",
       "    </tr>\n",
       "    <tr>\n",
       "      <th>12176</th>\n",
       "      <td>13113</td>\n",
       "      <td>24863</td>\n",
       "      <td>2019-04-05</td>\n",
       "      <td>GGOEGOCB017499</td>\n",
       "      <td>Leatherette Journal</td>\n",
       "      <td>Office</td>\n",
       "      <td>600</td>\n",
       "      <td>10.99</td>\n",
       "      <td>6.50</td>\n",
       "      <td>Clicked</td>\n",
       "      <td>4</td>\n",
       "      <td>OFF10</td>\n",
       "      <td>0.1</td>\n",
       "      <td>0.10</td>\n",
       "      <td>2500</td>\n",
       "      <td>2342.68</td>\n",
       "      <td>7259.9000</td>\n",
       "      <td>4</td>\n",
       "      <td>659.4000</td>\n",
       "      <td>4842.68</td>\n",
       "    </tr>\n",
       "  </tbody>\n",
       "</table>\n",
       "</div>"
      ],
      "text/plain": [
       "       customerid  transaction_id transaction_date     product_sku  \\\n",
       "42456       14541           40835       2019-10-16  GGOEGGOA017399   \n",
       "20992       16782           29657       2019-06-05  GGOEGGOA017399   \n",
       "21364       17858           29898       2019-06-08  GGOEGGOA017399   \n",
       "30192       15194           34429       2019-08-02  GGOEGHPJ080310   \n",
       "12173       13113           24863       2019-04-05  GGOEGHGH019699   \n",
       "42941       15110           41214       2019-10-20  GGOEGGOA017399   \n",
       "33422       17365           35967       2019-08-18  GGOEGGOA017399   \n",
       "5544        15351           20374       2019-02-14  GGOEGBJC019999   \n",
       "30795       15601           34709       2019-08-04  GGOEGFKQ020399   \n",
       "12176       13113           24863       2019-04-05  GGOEGOCB017499   \n",
       "\n",
       "                         product_description product_category  quantity  \\\n",
       "42456                               Maze Pen           Office       900   \n",
       "20992                               Maze Pen           Office       825   \n",
       "21364                               Maze Pen           Office       825   \n",
       "30192                    Google Blackout Cap         Headgear       791   \n",
       "12173                      Google Sunglasses        Lifestyle       750   \n",
       "42941                               Maze Pen           Office       600   \n",
       "33422                               Maze Pen           Office       600   \n",
       "5544                Collapsible Shopping Bag             Bags       600   \n",
       "30795  Google Laptop and Cell Phone Stickers           Office       600   \n",
       "12176                    Leatherette Journal           Office       600   \n",
       "\n",
       "       avg_price  delivery_charges coupon_status  transaction_month  \\\n",
       "42456       0.99             12.99          Used                 10   \n",
       "20992       0.79             85.33          Used                  6   \n",
       "21364       0.79             85.33          Used                  6   \n",
       "30192      13.29              6.00          Used                  8   \n",
       "12173       3.50              6.50          Used                  4   \n",
       "42941       0.99             19.99          Used                 10   \n",
       "33422       0.79            106.38          Used                  8   \n",
       "5544        4.99              6.50       Clicked                  2   \n",
       "30795       2.39            190.42       Clicked                  8   \n",
       "12176      10.99              6.50       Clicked                  4   \n",
       "\n",
       "      coupon_code  discount_pct   gst  offline_spend  online_spend  \\\n",
       "42456       OFF10           0.1  0.10           2500       1218.60   \n",
       "20992       OFF30           0.3  0.10           3500       3202.10   \n",
       "21364       OFF30           0.3  0.10           3500       1598.46   \n",
       "30192     HGEAR20           0.2  0.05           1500       2155.96   \n",
       "12173     EXTRA10           0.1  0.18           2500       2342.68   \n",
       "42941       OFF10           0.1  0.10           2500       2827.25   \n",
       "33422       OFF20           0.2  0.10           3500       1696.64   \n",
       "5544        AIO20           0.2  0.18           3000        830.68   \n",
       "30795       OFF20           0.2  0.10           1500       2688.98   \n",
       "12176       OFF10           0.1  0.10           2500       2342.68   \n",
       "\n",
       "       invoice_value  acquisition_month  tax_paid  total_markerting_exp  \n",
       "42456       895.0800                 10   89.1000               3718.60  \n",
       "20992       587.1775                  6   65.1750               6702.10  \n",
       "21364       587.1775                  6   65.1750               5098.46  \n",
       "30192      8836.4076                  8  525.6195               3655.96  \n",
       "12173      2794.2500                  4  472.5000               4842.68  \n",
       "42941       608.0500                 10   59.4000               5327.25  \n",
       "33422       523.5000                  8   47.4000               5196.64  \n",
       "5544       3539.4200                  2  538.9200               3830.68  \n",
       "30795      1767.8200                  8  143.4000               4188.98  \n",
       "12176      7259.9000                  4  659.4000               4842.68  "
      ]
     },
     "execution_count": 93,
     "metadata": {},
     "output_type": "execute_result"
    }
   ],
   "source": [
    "merge_frame.sort_values('quantity',ascending=False).head(10)"
   ]
  },
  {
   "cell_type": "code",
   "execution_count": 94,
   "metadata": {},
   "outputs": [],
   "source": [
    "# merge_frame.to_csv('cleaned_data\\merge_frame.csv',index=False)"
   ]
  }
 ],
 "metadata": {
  "kernelspec": {
   "display_name": "base",
   "language": "python",
   "name": "python3"
  },
  "language_info": {
   "codemirror_mode": {
    "name": "ipython",
    "version": 3
   },
   "file_extension": ".py",
   "mimetype": "text/x-python",
   "name": "python",
   "nbconvert_exporter": "python",
   "pygments_lexer": "ipython3",
   "version": "3.11.8"
  }
 },
 "nbformat": 4,
 "nbformat_minor": 2
}
